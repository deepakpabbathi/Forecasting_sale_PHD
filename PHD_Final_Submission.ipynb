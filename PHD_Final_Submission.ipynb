{
  "nbformat": 4,
  "nbformat_minor": 0,
  "metadata": {
    "colab": {
      "name": "PHD_Final_Submission.ipynb",
      "provenance": [],
      "collapsed_sections": [],
      "machine_shape": "hm"
    },
    "kernelspec": {
      "display_name": "Python 3",
      "language": "python",
      "name": "python3"
    },
    "language_info": {
      "codemirror_mode": {
        "name": "ipython",
        "version": 3
      },
      "file_extension": ".py",
      "mimetype": "text/x-python",
      "name": "python",
      "nbconvert_exporter": "python",
      "pygments_lexer": "ipython3",
      "version": "3.6.5"
    },
    "toc": {
      "base_numbering": 1,
      "nav_menu": {},
      "number_sections": true,
      "sideBar": true,
      "skip_h1_title": false,
      "title_cell": "Table of Contents",
      "title_sidebar": "Contents",
      "toc_cell": false,
      "toc_position": {},
      "toc_section_display": true,
      "toc_window_display": false
    }
  },
  "cells": [
    {
      "cell_type": "markdown",
      "metadata": {
        "colab_type": "text",
        "id": "2h-ghntAfJMB"
      },
      "source": [
        "# **Problem Statemet**\n",
        "\n",
        "The goal of this project is to forecast sales across various products and locations for an Online grocery retailor Small Basket. Daily historical data is provided from January 2015 to December 2018. The objective is to forecast the unit_sales sold for each item across various locations from 1st January to 15th January.\n",
        "\n",
        "The below notebook will load, merge, clean and explore the data. The focus is to understand where is the source for Unit_sales from items, seasonality, locations and category of the items.\n",
        "\n",
        "The Notebook Contains\n",
        "\n",
        "Part 1: Data Preprocessing\n",
        "\n",
        "Part 2: Exploratory Data Analysis (EDA)\n",
        "\n",
        "Part 3: Model Building"
      ]
    },
    {
      "cell_type": "markdown",
      "metadata": {
        "colab_type": "text",
        "id": "lqZinCjFjPpn"
      },
      "source": [
        "# *Part1: Data Preprocessing*"
      ]
    },
    {
      "cell_type": "markdown",
      "metadata": {
        "colab_type": "text",
        "id": "0QWpfPZ1_pOG"
      },
      "source": [
        "Code to increase the Ram size of Google Colab"
      ]
    },
    {
      "cell_type": "code",
      "metadata": {
        "colab_type": "code",
        "id": "5uRPvyK9_ExX",
        "colab": {}
      },
      "source": [
        "a=[]\n",
        "while(1):\n",
        "  a.append('1')"
      ],
      "execution_count": null,
      "outputs": []
    },
    {
      "cell_type": "markdown",
      "metadata": {
        "colab_type": "text",
        "id": "Jqfvd1V-Aaub"
      },
      "source": [
        "Mounting Google Drive to Colab"
      ]
    },
    {
      "cell_type": "code",
      "metadata": {
        "colab_type": "code",
        "id": "qS1dsaF1Ahqa",
        "colab": {
          "base_uri": "https://localhost:8080/",
          "height": 122
        },
        "outputId": "d50296d4-541d-470b-fcd8-ad9e15a0166e"
      },
      "source": [
        "from google.colab import drive\n",
        "drive.mount('/content/gdrive')"
      ],
      "execution_count": 1,
      "outputs": [
        {
          "output_type": "stream",
          "text": [
            "Go to this URL in a browser: https://accounts.google.com/o/oauth2/auth?client_id=947318989803-6bn6qk8qdgf4n4g3pfee6491hc0brc4i.apps.googleusercontent.com&redirect_uri=urn%3aietf%3awg%3aoauth%3a2.0%3aoob&response_type=code&scope=email%20https%3a%2f%2fwww.googleapis.com%2fauth%2fdocs.test%20https%3a%2f%2fwww.googleapis.com%2fauth%2fdrive%20https%3a%2f%2fwww.googleapis.com%2fauth%2fdrive.photos.readonly%20https%3a%2f%2fwww.googleapis.com%2fauth%2fpeopleapi.readonly\n",
            "\n",
            "Enter your authorization code:\n",
            "··········\n",
            "Mounted at /content/gdrive\n"
          ],
          "name": "stdout"
        }
      ]
    },
    {
      "cell_type": "markdown",
      "metadata": {
        "colab_type": "text",
        "id": "WBVxMKKxAvSH"
      },
      "source": [
        "Import Necessary Libraries"
      ]
    },
    {
      "cell_type": "code",
      "metadata": {
        "colab_type": "code",
        "id": "jit31jreA083",
        "colab": {
          "base_uri": "https://localhost:8080/",
          "height": 71
        },
        "outputId": "879ef6e7-81ef-46bf-af84-a314d41fa2e8"
      },
      "source": [
        "import os\n",
        "import numpy as np\n",
        "import pandas as pd\n",
        "import pickle as pkl\n",
        "import matplotlib.pyplot as plt\n",
        "import seaborn as sns\n",
        "import shutil"
      ],
      "execution_count": 2,
      "outputs": [
        {
          "output_type": "stream",
          "text": [
            "/usr/local/lib/python3.6/dist-packages/statsmodels/tools/_testing.py:19: FutureWarning: pandas.util.testing is deprecated. Use the functions in the public API at pandas.testing instead.\n",
            "  import pandas.util.testing as tm\n"
          ],
          "name": "stderr"
        }
      ]
    },
    {
      "cell_type": "code",
      "metadata": {
        "colab_type": "code",
        "id": "GfFmeKnoBBcl",
        "colab": {
          "base_uri": "https://localhost:8080/",
          "height": 35
        },
        "outputId": "01c90ec9-2c63-4c79-9e36-d59856b53db6"
      },
      "source": [
        "os.getcwd()"
      ],
      "execution_count": 3,
      "outputs": [
        {
          "output_type": "execute_result",
          "data": {
            "application/vnd.google.colaboratory.intrinsic": {
              "type": "string"
            },
            "text/plain": [
              "'/content'"
            ]
          },
          "metadata": {
            "tags": []
          },
          "execution_count": 3
        }
      ]
    },
    {
      "cell_type": "code",
      "metadata": {
        "colab_type": "code",
        "id": "rv1yvoGjBGZC",
        "colab": {}
      },
      "source": [
        "os.chdir(\"/content/gdrive/My Drive/PHD/INPUT_DATA\")"
      ],
      "execution_count": 4,
      "outputs": []
    },
    {
      "cell_type": "code",
      "metadata": {
        "colab_type": "code",
        "id": "puTbIQqRBJu-",
        "colab": {
          "base_uri": "https://localhost:8080/",
          "height": 187
        },
        "outputId": "7760f16b-e1d4-48c2-dcb8-cc2b6f5a42c8"
      },
      "source": [
        "!ls"
      ],
      "execution_count": 5,
      "outputs": [
        {
          "output_type": "stream",
          "text": [
            "EDA.ipynb\t      sample_sub_XGBoost.csv  unit_sales_predctions_Linear.csv\n",
            "FinalDataset\t      test.csv\t\t      unit_sales_pred_decisiontree.csv\n",
            "item_data\t      test_data\t\t      unit_sales_pred_XGBoost.csv\n",
            "item_details.csv      Test_data\t\t      xgb_regressor_model\n",
            "location_data\t      train.csv\t\t      X_test\n",
            "location_details.csv  train_data\t      X_train\n",
            "merge1\t\t      train_data_Preprocess   y_test\n",
            "merge2\t\t      train_locations_items   y_train\n",
            "Pickled_files\t      train_transactions\n",
            "salesData\t      train_transactions.csv\n"
          ],
          "name": "stdout"
        }
      ]
    },
    {
      "cell_type": "markdown",
      "metadata": {
        "colab_type": "text",
        "id": "mSzlmqb6O9Ka"
      },
      "source": [
        "Load the train_data"
      ]
    },
    {
      "cell_type": "code",
      "metadata": {
        "colab_type": "code",
        "id": "byOjc_irO7ci",
        "colab": {
          "base_uri": "https://localhost:8080/",
          "height": 71
        },
        "outputId": "8f3741f0-c241-4486-af8f-e6daf689a334"
      },
      "source": [
        "train_data=pd.read_csv(\"train.csv\")"
      ],
      "execution_count": 6,
      "outputs": [
        {
          "output_type": "stream",
          "text": [
            "/usr/local/lib/python3.6/dist-packages/IPython/core/interactiveshell.py:2718: DtypeWarning: Columns (4) have mixed types.Specify dtype option on import or set low_memory=False.\n",
            "  interactivity=interactivity, compiler=compiler, result=result)\n"
          ],
          "name": "stderr"
        }
      ]
    },
    {
      "cell_type": "code",
      "metadata": {
        "colab_type": "code",
        "id": "rwxQwAqFPKOL",
        "colab": {
          "base_uri": "https://localhost:8080/",
          "height": 119
        },
        "outputId": "b09b5a1f-047f-4e15-a2b4-7e2d1d546c7f"
      },
      "source": [
        "train_data.dtypes"
      ],
      "execution_count": null,
      "outputs": [
        {
          "output_type": "execute_result",
          "data": {
            "text/plain": [
              "date            object\n",
              "locationId      object\n",
              "item_id         object\n",
              "unit_sales     float64\n",
              "onpromotion     object\n",
              "dtype: object"
            ]
          },
          "metadata": {
            "tags": []
          },
          "execution_count": 26
        }
      ]
    },
    {
      "cell_type": "markdown",
      "metadata": {
        "colab_type": "text",
        "id": "X75eyjSAPn4B"
      },
      "source": [
        "Type casting"
      ]
    },
    {
      "cell_type": "code",
      "metadata": {
        "colab_type": "code",
        "id": "GXND8DClPijX",
        "colab": {}
      },
      "source": [
        "### Customized function for type conversion of data\n",
        "def dtypeConversion(df):  \n",
        "  for i in df.select_dtypes('object'):\n",
        "    df[i]=df[i].astype('category')"
      ],
      "execution_count": null,
      "outputs": []
    },
    {
      "cell_type": "code",
      "metadata": {
        "colab_type": "code",
        "id": "SpFFyOQHPlmY",
        "colab": {}
      },
      "source": [
        "dtypeConversion(train_data)"
      ],
      "execution_count": null,
      "outputs": []
    },
    {
      "cell_type": "code",
      "metadata": {
        "colab_type": "code",
        "id": "_emSUuT1Pzts",
        "colab": {
          "base_uri": "https://localhost:8080/",
          "height": 119
        },
        "outputId": "ffda9f42-708b-444e-992a-00b4a9a28310"
      },
      "source": [
        "train_data.dtypes"
      ],
      "execution_count": null,
      "outputs": [
        {
          "output_type": "execute_result",
          "data": {
            "text/plain": [
              "date           category\n",
              "locationId     category\n",
              "item_id        category\n",
              "unit_sales      float64\n",
              "onpromotion    category\n",
              "dtype: object"
            ]
          },
          "metadata": {
            "tags": []
          },
          "execution_count": 29
        }
      ]
    },
    {
      "cell_type": "code",
      "metadata": {
        "colab_type": "code",
        "id": "zViABrdLP9hI",
        "colab": {}
      },
      "source": [
        "# Type conversion for date\n",
        "train_data['date'] = pd.to_datetime(train_data['date'])\n",
        "train_data['date']= train_data['date'].astype('category').astype('datetime64[ns]')"
      ],
      "execution_count": null,
      "outputs": []
    },
    {
      "cell_type": "code",
      "metadata": {
        "colab_type": "code",
        "id": "j5UyqrDxQN57",
        "colab": {
          "base_uri": "https://localhost:8080/",
          "height": 34
        },
        "outputId": "cda21005-faaa-4b68-d31a-8ffb8fe47676"
      },
      "source": [
        "train_data.shape"
      ],
      "execution_count": null,
      "outputs": [
        {
          "output_type": "execute_result",
          "data": {
            "text/plain": [
              "(101688779, 5)"
            ]
          },
          "metadata": {
            "tags": []
          },
          "execution_count": 31
        }
      ]
    },
    {
      "cell_type": "code",
      "metadata": {
        "colab_type": "code",
        "id": "lhqlMayJQVkQ",
        "colab": {}
      },
      "source": [
        "## droping the duplicates for the train_data\n",
        "train_data =train_data.drop_duplicates()"
      ],
      "execution_count": null,
      "outputs": []
    },
    {
      "cell_type": "code",
      "metadata": {
        "colab_type": "code",
        "id": "cAU2TC4VQbNf",
        "colab": {
          "base_uri": "https://localhost:8080/",
          "height": 34
        },
        "outputId": "6fb8785a-2ad0-4819-fb44-031c5100fad4"
      },
      "source": [
        "train_data.shape"
      ],
      "execution_count": null,
      "outputs": [
        {
          "output_type": "execute_result",
          "data": {
            "text/plain": [
              "(101678735, 5)"
            ]
          },
          "metadata": {
            "tags": []
          },
          "execution_count": 33
        }
      ]
    },
    {
      "cell_type": "markdown",
      "metadata": {
        "colab_type": "text",
        "id": "HxLm8MbrQpre"
      },
      "source": [
        "Dumping the data frames into pickle files"
      ]
    },
    {
      "cell_type": "code",
      "metadata": {
        "colab_type": "code",
        "id": "BMdfPOlBQpTR",
        "colab": {}
      },
      "source": [
        "PATH='/content/gdrive/My Drive/Pickle_files'\n",
        "if os.path.exists(PATH):\n",
        "  shutil.rmtree(PATH)\n",
        "os.mkdir(PATH)"
      ],
      "execution_count": 10,
      "outputs": []
    },
    {
      "cell_type": "code",
      "metadata": {
        "colab_type": "code",
        "id": "rRZXRjvDQlYk",
        "colab": {}
      },
      "source": [
        "### Customized function to write a pickle file\n",
        "def pickleFileDump(fileName,df):\n",
        "  outfile=open(fileName,'wb')\n",
        "  pkl.dump(df,outfile)\n",
        "  outfile.close()"
      ],
      "execution_count": 9,
      "outputs": []
    },
    {
      "cell_type": "code",
      "metadata": {
        "colab_type": "code",
        "id": "6KKKz8sgRW-O",
        "colab": {}
      },
      "source": [
        "### Customized function to read a pickle file\n",
        "def readPickleFile(fileName):\n",
        "  infile=open(fileName,'rb')\n",
        "  df = pkl.load(infile)\n",
        "  infile.close()\n",
        "  return df"
      ],
      "execution_count": 8,
      "outputs": []
    },
    {
      "cell_type": "code",
      "metadata": {
        "colab_type": "code",
        "id": "2A6yIARURY_7",
        "colab": {}
      },
      "source": [
        "pickleFileDump('train_data',train_data)\n"
      ],
      "execution_count": null,
      "outputs": []
    },
    {
      "cell_type": "markdown",
      "metadata": {
        "colab_type": "text",
        "id": "iq1uop9gRvsC"
      },
      "source": [
        "Load the location data"
      ]
    },
    {
      "cell_type": "code",
      "metadata": {
        "colab_type": "code",
        "id": "m_e4hVE8RzRT",
        "colab": {}
      },
      "source": [
        "location_data=pd.read_csv(\"location_details.csv\")"
      ],
      "execution_count": null,
      "outputs": []
    },
    {
      "cell_type": "code",
      "metadata": {
        "colab_type": "code",
        "id": "c6YVBmTbSDcK",
        "colab": {
          "base_uri": "https://localhost:8080/",
          "height": 119
        },
        "outputId": "ef51bb34-45c4-49b4-85f7-cbff9f56d468"
      },
      "source": [
        "location_data.dtypes"
      ],
      "execution_count": null,
      "outputs": [
        {
          "output_type": "execute_result",
          "data": {
            "text/plain": [
              "location_id    object\n",
              "city           object\n",
              "state          object\n",
              "type           object\n",
              "cluster         int64\n",
              "dtype: object"
            ]
          },
          "metadata": {
            "tags": []
          },
          "execution_count": 45
        }
      ]
    },
    {
      "cell_type": "code",
      "metadata": {
        "colab_type": "code",
        "id": "Cse_-YDcSJ2_",
        "colab": {}
      },
      "source": [
        "##Type conversion\n",
        "dtypeConversion(location_data)"
      ],
      "execution_count": null,
      "outputs": []
    },
    {
      "cell_type": "code",
      "metadata": {
        "colab_type": "code",
        "id": "YaC9sMERSWoI",
        "colab": {
          "base_uri": "https://localhost:8080/",
          "height": 119
        },
        "outputId": "373b16de-0cb8-4774-b3e3-a719a52b57c4"
      },
      "source": [
        "location_data.dtypes"
      ],
      "execution_count": null,
      "outputs": [
        {
          "output_type": "execute_result",
          "data": {
            "text/plain": [
              "location_id    category\n",
              "city           category\n",
              "state          category\n",
              "type           category\n",
              "cluster           int64\n",
              "dtype: object"
            ]
          },
          "metadata": {
            "tags": []
          },
          "execution_count": 47
        }
      ]
    },
    {
      "cell_type": "code",
      "metadata": {
        "colab_type": "code",
        "id": "hPF4Qo9OTAz2",
        "colab": {
          "base_uri": "https://localhost:8080/",
          "height": 34
        },
        "outputId": "4abd9188-905e-4abc-ab40-57f5358f0656"
      },
      "source": [
        "location_data.shape"
      ],
      "execution_count": null,
      "outputs": [
        {
          "output_type": "execute_result",
          "data": {
            "text/plain": [
              "(54, 5)"
            ]
          },
          "metadata": {
            "tags": []
          },
          "execution_count": 48
        }
      ]
    },
    {
      "cell_type": "code",
      "metadata": {
        "colab_type": "code",
        "id": "4IZrk9K4SZod",
        "colab": {}
      },
      "source": [
        "### Removing the duplicates in the data if any\n",
        "location_data = location_data.drop_duplicates()"
      ],
      "execution_count": null,
      "outputs": []
    },
    {
      "cell_type": "code",
      "metadata": {
        "colab_type": "code",
        "id": "k4P_qUpiSsv0",
        "colab": {
          "base_uri": "https://localhost:8080/",
          "height": 34
        },
        "outputId": "55099cdd-5909-445d-b1f8-6dd9c236fee4"
      },
      "source": [
        "location_data.shape"
      ],
      "execution_count": null,
      "outputs": [
        {
          "output_type": "execute_result",
          "data": {
            "text/plain": [
              "(54, 5)"
            ]
          },
          "metadata": {
            "tags": []
          },
          "execution_count": 50
        }
      ]
    },
    {
      "cell_type": "code",
      "metadata": {
        "colab_type": "code",
        "id": "Em8X0hQxTF4l",
        "colab": {}
      },
      "source": [
        "pickleFileDump('location_data',location_data)"
      ],
      "execution_count": null,
      "outputs": []
    },
    {
      "cell_type": "markdown",
      "metadata": {
        "colab_type": "text",
        "id": "PGES-hSzTTK0"
      },
      "source": [
        "Loading the item data"
      ]
    },
    {
      "cell_type": "code",
      "metadata": {
        "colab_type": "code",
        "id": "RHyHfLmfTWJL",
        "colab": {}
      },
      "source": [
        "item_data=pd.read_csv(\"item_details.csv\")"
      ],
      "execution_count": null,
      "outputs": []
    },
    {
      "cell_type": "code",
      "metadata": {
        "colab_type": "code",
        "id": "MATro8HITfxh",
        "colab": {
          "base_uri": "https://localhost:8080/",
          "height": 102
        },
        "outputId": "1e5b5f17-fafe-4379-fa3a-afe66c49695b"
      },
      "source": [
        "item_data.dtypes"
      ],
      "execution_count": null,
      "outputs": [
        {
          "output_type": "execute_result",
          "data": {
            "text/plain": [
              "item_id             object\n",
              "category_of_item    object\n",
              "class               object\n",
              "perishable           int64\n",
              "dtype: object"
            ]
          },
          "metadata": {
            "tags": []
          },
          "execution_count": 52
        }
      ]
    },
    {
      "cell_type": "code",
      "metadata": {
        "colab_type": "code",
        "id": "Ot-p3DgwTjjw",
        "colab": {}
      },
      "source": [
        "##Type conversion\n",
        "dtypeConversion(item_data)"
      ],
      "execution_count": null,
      "outputs": []
    },
    {
      "cell_type": "code",
      "metadata": {
        "colab_type": "code",
        "id": "VkHM6B84Tpts",
        "colab": {
          "base_uri": "https://localhost:8080/",
          "height": 102
        },
        "outputId": "a1a01304-1835-4781-b358-5824477f5735"
      },
      "source": [
        "item_data.dtypes"
      ],
      "execution_count": null,
      "outputs": [
        {
          "output_type": "execute_result",
          "data": {
            "text/plain": [
              "item_id             category\n",
              "category_of_item    category\n",
              "class               category\n",
              "perishable             int64\n",
              "dtype: object"
            ]
          },
          "metadata": {
            "tags": []
          },
          "execution_count": 54
        }
      ]
    },
    {
      "cell_type": "code",
      "metadata": {
        "colab_type": "code",
        "id": "SsXtJyy8T1jq",
        "colab": {
          "base_uri": "https://localhost:8080/",
          "height": 34
        },
        "outputId": "8d633379-d9e7-4be8-e97c-23552f8657d3"
      },
      "source": [
        "item_data.shape"
      ],
      "execution_count": null,
      "outputs": [
        {
          "output_type": "execute_result",
          "data": {
            "text/plain": [
              "(4100, 4)"
            ]
          },
          "metadata": {
            "tags": []
          },
          "execution_count": 55
        }
      ]
    },
    {
      "cell_type": "code",
      "metadata": {
        "colab_type": "code",
        "id": "XmB3GhN4Tsso",
        "colab": {}
      },
      "source": [
        "item_data = item_data.drop_duplicates()"
      ],
      "execution_count": null,
      "outputs": []
    },
    {
      "cell_type": "code",
      "metadata": {
        "colab_type": "code",
        "id": "INYS3NoXT5Pl",
        "colab": {
          "base_uri": "https://localhost:8080/",
          "height": 34
        },
        "outputId": "218d834d-b19d-4f6f-d787-b0c3c4166a68"
      },
      "source": [
        "item_data.shape"
      ],
      "execution_count": null,
      "outputs": [
        {
          "output_type": "execute_result",
          "data": {
            "text/plain": [
              "(4100, 4)"
            ]
          },
          "metadata": {
            "tags": []
          },
          "execution_count": 57
        }
      ]
    },
    {
      "cell_type": "code",
      "metadata": {
        "colab_type": "code",
        "id": "n-heXL5_T7_R",
        "colab": {}
      },
      "source": [
        "pickleFileDump('item_data',item_data)"
      ],
      "execution_count": null,
      "outputs": []
    },
    {
      "cell_type": "markdown",
      "metadata": {
        "colab_type": "text",
        "id": "Uo6VFfmKUlwZ"
      },
      "source": [
        "Loading the train_transactions data"
      ]
    },
    {
      "cell_type": "code",
      "metadata": {
        "colab_type": "code",
        "id": "cVPXBtSqUutL",
        "colab": {}
      },
      "source": [
        "train_transactions=pd.read_csv(\"train_transactions.csv\")"
      ],
      "execution_count": null,
      "outputs": []
    },
    {
      "cell_type": "code",
      "metadata": {
        "colab_type": "code",
        "id": "lWrvjeHMVMYN",
        "colab": {
          "base_uri": "https://localhost:8080/",
          "height": 85
        },
        "outputId": "1d6fac8f-4aa4-4d48-c051-65e1ce345870"
      },
      "source": [
        "train_transactions.dtypes"
      ],
      "execution_count": null,
      "outputs": [
        {
          "output_type": "execute_result",
          "data": {
            "text/plain": [
              "date                   object\n",
              "location_identifier    object\n",
              "transactions            int64\n",
              "dtype: object"
            ]
          },
          "metadata": {
            "tags": []
          },
          "execution_count": 61
        }
      ]
    },
    {
      "cell_type": "code",
      "metadata": {
        "colab_type": "code",
        "id": "szNVJ6lgVPjH",
        "colab": {}
      },
      "source": [
        "dtypeConversion(train_transactions)"
      ],
      "execution_count": null,
      "outputs": []
    },
    {
      "cell_type": "code",
      "metadata": {
        "colab_type": "code",
        "id": "IzRw1bc6VmjC",
        "colab": {}
      },
      "source": [
        "train_transactions['date'] = pd.to_datetime(train_transactions['date'])   \n",
        "train_transactions['date'] = train_transactions['date'].astype('datetime64[ns]')"
      ],
      "execution_count": null,
      "outputs": []
    },
    {
      "cell_type": "code",
      "metadata": {
        "colab_type": "code",
        "id": "9jpiEBc2VUOW",
        "colab": {
          "base_uri": "https://localhost:8080/",
          "height": 85
        },
        "outputId": "46680e24-d8ea-4523-af61-2552ffc7badc"
      },
      "source": [
        "train_transactions.dtypes"
      ],
      "execution_count": null,
      "outputs": [
        {
          "output_type": "execute_result",
          "data": {
            "text/plain": [
              "date                   datetime64[ns]\n",
              "location_identifier          category\n",
              "transactions                    int64\n",
              "dtype: object"
            ]
          },
          "metadata": {
            "tags": []
          },
          "execution_count": 66
        }
      ]
    },
    {
      "cell_type": "code",
      "metadata": {
        "colab_type": "code",
        "id": "6HEE5wnNVXNI",
        "colab": {
          "base_uri": "https://localhost:8080/",
          "height": 34
        },
        "outputId": "ea7c199f-fddb-4fb5-9682-4bd4f9fd971e"
      },
      "source": [
        "train_transactions.shape"
      ],
      "execution_count": null,
      "outputs": [
        {
          "output_type": "execute_result",
          "data": {
            "text/plain": [
              "(71391, 3)"
            ]
          },
          "metadata": {
            "tags": []
          },
          "execution_count": 67
        }
      ]
    },
    {
      "cell_type": "code",
      "metadata": {
        "colab_type": "code",
        "id": "gqNsQVNQVbNc",
        "colab": {}
      },
      "source": [
        "### Removing the duplicates in the data if any\n",
        "train_transactions=train_transactions.drop_duplicates()"
      ],
      "execution_count": null,
      "outputs": []
    },
    {
      "cell_type": "code",
      "metadata": {
        "colab_type": "code",
        "id": "BwGL_XSrV0o2",
        "colab": {
          "base_uri": "https://localhost:8080/",
          "height": 34
        },
        "outputId": "a6e71e45-227d-416f-d742-2b2d70c79665"
      },
      "source": [
        "train_transactions.shape"
      ],
      "execution_count": null,
      "outputs": [
        {
          "output_type": "execute_result",
          "data": {
            "text/plain": [
              "(71390, 3)"
            ]
          },
          "metadata": {
            "tags": []
          },
          "execution_count": 69
        }
      ]
    },
    {
      "cell_type": "code",
      "metadata": {
        "colab_type": "code",
        "id": "VbkRwjoxV3zZ",
        "colab": {}
      },
      "source": [
        "pickleFileDump('train_transactions',train_transactions)"
      ],
      "execution_count": null,
      "outputs": []
    },
    {
      "cell_type": "markdown",
      "metadata": {
        "colab_type": "text",
        "id": "d0YLw89cWd0s"
      },
      "source": [
        "**Readig the Input files in pickle format**"
      ]
    },
    {
      "cell_type": "code",
      "metadata": {
        "colab_type": "code",
        "id": "xxxhxTp0WnF_",
        "colab": {}
      },
      "source": [
        "train_data = readPickleFile('train_data')"
      ],
      "execution_count": null,
      "outputs": []
    },
    {
      "cell_type": "code",
      "metadata": {
        "colab_type": "code",
        "id": "TQ_K4EOSW_gj",
        "colab": {
          "base_uri": "https://localhost:8080/",
          "height": 142
        },
        "outputId": "7a2659fb-9d17-49cd-dcba-f58449db958c"
      },
      "source": [
        "train_data.head(3)"
      ],
      "execution_count": null,
      "outputs": [
        {
          "output_type": "execute_result",
          "data": {
            "text/html": [
              "<div>\n",
              "<style scoped>\n",
              "    .dataframe tbody tr th:only-of-type {\n",
              "        vertical-align: middle;\n",
              "    }\n",
              "\n",
              "    .dataframe tbody tr th {\n",
              "        vertical-align: top;\n",
              "    }\n",
              "\n",
              "    .dataframe thead th {\n",
              "        text-align: right;\n",
              "    }\n",
              "</style>\n",
              "<table border=\"1\" class=\"dataframe\">\n",
              "  <thead>\n",
              "    <tr style=\"text-align: right;\">\n",
              "      <th></th>\n",
              "      <th>date</th>\n",
              "      <th>locationId</th>\n",
              "      <th>item_id</th>\n",
              "      <th>unit_sales</th>\n",
              "      <th>onpromotion</th>\n",
              "    </tr>\n",
              "  </thead>\n",
              "  <tbody>\n",
              "    <tr>\n",
              "      <th>0</th>\n",
              "      <td>2015-01-01</td>\n",
              "      <td>location_25</td>\n",
              "      <td>item_103665</td>\n",
              "      <td>7.0</td>\n",
              "      <td>NaN</td>\n",
              "    </tr>\n",
              "    <tr>\n",
              "      <th>1</th>\n",
              "      <td>2015-01-01</td>\n",
              "      <td>location_25</td>\n",
              "      <td>item_105574</td>\n",
              "      <td>1.0</td>\n",
              "      <td>NaN</td>\n",
              "    </tr>\n",
              "    <tr>\n",
              "      <th>2</th>\n",
              "      <td>2015-01-01</td>\n",
              "      <td>location_25</td>\n",
              "      <td>item_105575</td>\n",
              "      <td>2.0</td>\n",
              "      <td>NaN</td>\n",
              "    </tr>\n",
              "  </tbody>\n",
              "</table>\n",
              "</div>"
            ],
            "text/plain": [
              "        date   locationId      item_id  unit_sales onpromotion\n",
              "0 2015-01-01  location_25  item_103665         7.0         NaN\n",
              "1 2015-01-01  location_25  item_105574         1.0         NaN\n",
              "2 2015-01-01  location_25  item_105575         2.0         NaN"
            ]
          },
          "metadata": {
            "tags": []
          },
          "execution_count": 74
        }
      ]
    },
    {
      "cell_type": "code",
      "metadata": {
        "colab_type": "code",
        "id": "yluhYr16XAJ3",
        "colab": {}
      },
      "source": [
        "item_data = readPickleFile('item_data')"
      ],
      "execution_count": null,
      "outputs": []
    },
    {
      "cell_type": "code",
      "metadata": {
        "colab_type": "code",
        "id": "gXks_HfGXBUD",
        "colab": {
          "base_uri": "https://localhost:8080/",
          "height": 142
        },
        "outputId": "bbaa548e-6d33-4ddb-ee04-4fd901168ad6"
      },
      "source": [
        "item_data.head(3)"
      ],
      "execution_count": null,
      "outputs": [
        {
          "output_type": "execute_result",
          "data": {
            "text/html": [
              "<div>\n",
              "<style scoped>\n",
              "    .dataframe tbody tr th:only-of-type {\n",
              "        vertical-align: middle;\n",
              "    }\n",
              "\n",
              "    .dataframe tbody tr th {\n",
              "        vertical-align: top;\n",
              "    }\n",
              "\n",
              "    .dataframe thead th {\n",
              "        text-align: right;\n",
              "    }\n",
              "</style>\n",
              "<table border=\"1\" class=\"dataframe\">\n",
              "  <thead>\n",
              "    <tr style=\"text-align: right;\">\n",
              "      <th></th>\n",
              "      <th>item_id</th>\n",
              "      <th>category_of_item</th>\n",
              "      <th>class</th>\n",
              "      <th>perishable</th>\n",
              "    </tr>\n",
              "  </thead>\n",
              "  <tbody>\n",
              "    <tr>\n",
              "      <th>0</th>\n",
              "      <td>item_96995</td>\n",
              "      <td>grocery_items</td>\n",
              "      <td>class_1093</td>\n",
              "      <td>0</td>\n",
              "    </tr>\n",
              "    <tr>\n",
              "      <th>1</th>\n",
              "      <td>item_99197</td>\n",
              "      <td>grocery_items</td>\n",
              "      <td>class_1067</td>\n",
              "      <td>0</td>\n",
              "    </tr>\n",
              "    <tr>\n",
              "      <th>2</th>\n",
              "      <td>item_103501</td>\n",
              "      <td>cleaning_utilities</td>\n",
              "      <td>class_3008</td>\n",
              "      <td>0</td>\n",
              "    </tr>\n",
              "  </tbody>\n",
              "</table>\n",
              "</div>"
            ],
            "text/plain": [
              "       item_id    category_of_item       class  perishable\n",
              "0   item_96995       grocery_items  class_1093           0\n",
              "1   item_99197       grocery_items  class_1067           0\n",
              "2  item_103501  cleaning_utilities  class_3008           0"
            ]
          },
          "metadata": {
            "tags": []
          },
          "execution_count": 76
        }
      ]
    },
    {
      "cell_type": "code",
      "metadata": {
        "colab_type": "code",
        "id": "_Tj5IbbdXB-k",
        "colab": {}
      },
      "source": [
        "location_data = readPickleFile('location_data')"
      ],
      "execution_count": null,
      "outputs": []
    },
    {
      "cell_type": "code",
      "metadata": {
        "colab_type": "code",
        "id": "Ov6wivM3XDBN",
        "colab": {
          "base_uri": "https://localhost:8080/",
          "height": 142
        },
        "outputId": "3ba64886-d420-415b-b4f6-1f2ec2d1c67f"
      },
      "source": [
        "location_data.head(3)"
      ],
      "execution_count": null,
      "outputs": [
        {
          "output_type": "execute_result",
          "data": {
            "text/html": [
              "<div>\n",
              "<style scoped>\n",
              "    .dataframe tbody tr th:only-of-type {\n",
              "        vertical-align: middle;\n",
              "    }\n",
              "\n",
              "    .dataframe tbody tr th {\n",
              "        vertical-align: top;\n",
              "    }\n",
              "\n",
              "    .dataframe thead th {\n",
              "        text-align: right;\n",
              "    }\n",
              "</style>\n",
              "<table border=\"1\" class=\"dataframe\">\n",
              "  <thead>\n",
              "    <tr style=\"text-align: right;\">\n",
              "      <th></th>\n",
              "      <th>location_id</th>\n",
              "      <th>city</th>\n",
              "      <th>state</th>\n",
              "      <th>type</th>\n",
              "      <th>cluster</th>\n",
              "    </tr>\n",
              "  </thead>\n",
              "  <tbody>\n",
              "    <tr>\n",
              "      <th>0</th>\n",
              "      <td>location_1</td>\n",
              "      <td>Bengaluru</td>\n",
              "      <td>Karnataka</td>\n",
              "      <td>D</td>\n",
              "      <td>13</td>\n",
              "    </tr>\n",
              "    <tr>\n",
              "      <th>1</th>\n",
              "      <td>location_2</td>\n",
              "      <td>Bengaluru</td>\n",
              "      <td>Karnataka</td>\n",
              "      <td>D</td>\n",
              "      <td>13</td>\n",
              "    </tr>\n",
              "    <tr>\n",
              "      <th>2</th>\n",
              "      <td>location_3</td>\n",
              "      <td>Bengaluru</td>\n",
              "      <td>Karnataka</td>\n",
              "      <td>D</td>\n",
              "      <td>8</td>\n",
              "    </tr>\n",
              "  </tbody>\n",
              "</table>\n",
              "</div>"
            ],
            "text/plain": [
              "  location_id       city      state type  cluster\n",
              "0  location_1  Bengaluru  Karnataka    D       13\n",
              "1  location_2  Bengaluru  Karnataka    D       13\n",
              "2  location_3  Bengaluru  Karnataka    D        8"
            ]
          },
          "metadata": {
            "tags": []
          },
          "execution_count": 78
        }
      ]
    },
    {
      "cell_type": "code",
      "metadata": {
        "colab_type": "code",
        "id": "IAHNMYAsXDtP",
        "colab": {}
      },
      "source": [
        "train_transactions = readPickleFile('train_transactions')"
      ],
      "execution_count": null,
      "outputs": []
    },
    {
      "cell_type": "code",
      "metadata": {
        "colab_type": "code",
        "id": "rH3Sfx8xX9NN",
        "colab": {
          "base_uri": "https://localhost:8080/",
          "height": 142
        },
        "outputId": "e31b5ee1-ec81-4674-84ec-187f7d577c8d"
      },
      "source": [
        "train_transactions.head(3)"
      ],
      "execution_count": null,
      "outputs": [
        {
          "output_type": "execute_result",
          "data": {
            "text/html": [
              "<div>\n",
              "<style scoped>\n",
              "    .dataframe tbody tr th:only-of-type {\n",
              "        vertical-align: middle;\n",
              "    }\n",
              "\n",
              "    .dataframe tbody tr th {\n",
              "        vertical-align: top;\n",
              "    }\n",
              "\n",
              "    .dataframe thead th {\n",
              "        text-align: right;\n",
              "    }\n",
              "</style>\n",
              "<table border=\"1\" class=\"dataframe\">\n",
              "  <thead>\n",
              "    <tr style=\"text-align: right;\">\n",
              "      <th></th>\n",
              "      <th>date</th>\n",
              "      <th>location_identifier</th>\n",
              "      <th>transactions</th>\n",
              "    </tr>\n",
              "  </thead>\n",
              "  <tbody>\n",
              "    <tr>\n",
              "      <th>0</th>\n",
              "      <td>2015-01-01</td>\n",
              "      <td>location_25</td>\n",
              "      <td>770</td>\n",
              "    </tr>\n",
              "    <tr>\n",
              "      <th>1</th>\n",
              "      <td>2015-01-02</td>\n",
              "      <td>location_1</td>\n",
              "      <td>2111</td>\n",
              "    </tr>\n",
              "    <tr>\n",
              "      <th>2</th>\n",
              "      <td>2015-01-02</td>\n",
              "      <td>location_2</td>\n",
              "      <td>2358</td>\n",
              "    </tr>\n",
              "  </tbody>\n",
              "</table>\n",
              "</div>"
            ],
            "text/plain": [
              "        date location_identifier  transactions\n",
              "0 2015-01-01         location_25           770\n",
              "1 2015-01-02          location_1          2111\n",
              "2 2015-01-02          location_2          2358"
            ]
          },
          "metadata": {
            "tags": []
          },
          "execution_count": 26
        }
      ]
    },
    {
      "cell_type": "markdown",
      "metadata": {
        "colab_type": "text",
        "id": "2YbzDsE-YGcO"
      },
      "source": [
        "**Merging all the input data into a single input file**"
      ]
    },
    {
      "cell_type": "code",
      "metadata": {
        "colab_type": "code",
        "id": "MHdFPVMRYT6N",
        "colab": {}
      },
      "source": [
        "merge1 = train_data.merge(item_data, how='left', left_on = 'item_id', right_on= 'item_id')"
      ],
      "execution_count": null,
      "outputs": []
    },
    {
      "cell_type": "code",
      "metadata": {
        "colab_type": "code",
        "id": "DGN7Yl-LYioZ",
        "colab": {}
      },
      "source": [
        "pickleFileDump('merge1',merge1)"
      ],
      "execution_count": null,
      "outputs": []
    },
    {
      "cell_type": "code",
      "metadata": {
        "colab_type": "code",
        "id": "XD5mQHgUY3wn",
        "colab": {
          "base_uri": "https://localhost:8080/",
          "height": 80
        },
        "outputId": "cfe44b9c-a402-4310-e26d-174157567c2f"
      },
      "source": [
        "merge1.head(1)"
      ],
      "execution_count": null,
      "outputs": [
        {
          "output_type": "execute_result",
          "data": {
            "text/html": [
              "<div>\n",
              "<style scoped>\n",
              "    .dataframe tbody tr th:only-of-type {\n",
              "        vertical-align: middle;\n",
              "    }\n",
              "\n",
              "    .dataframe tbody tr th {\n",
              "        vertical-align: top;\n",
              "    }\n",
              "\n",
              "    .dataframe thead th {\n",
              "        text-align: right;\n",
              "    }\n",
              "</style>\n",
              "<table border=\"1\" class=\"dataframe\">\n",
              "  <thead>\n",
              "    <tr style=\"text-align: right;\">\n",
              "      <th></th>\n",
              "      <th>date</th>\n",
              "      <th>locationId</th>\n",
              "      <th>item_id</th>\n",
              "      <th>unit_sales</th>\n",
              "      <th>onpromotion</th>\n",
              "      <th>category_of_item</th>\n",
              "      <th>class</th>\n",
              "      <th>perishable</th>\n",
              "    </tr>\n",
              "  </thead>\n",
              "  <tbody>\n",
              "    <tr>\n",
              "      <th>0</th>\n",
              "      <td>2015-01-01</td>\n",
              "      <td>location_25</td>\n",
              "      <td>item_103665</td>\n",
              "      <td>7.0</td>\n",
              "      <td>NaN</td>\n",
              "      <td>baked_items / bread_based</td>\n",
              "      <td>class_2712</td>\n",
              "      <td>1</td>\n",
              "    </tr>\n",
              "  </tbody>\n",
              "</table>\n",
              "</div>"
            ],
            "text/plain": [
              "        date   locationId  ...       class  perishable\n",
              "0 2015-01-01  location_25  ...  class_2712           1\n",
              "\n",
              "[1 rows x 8 columns]"
            ]
          },
          "metadata": {
            "tags": []
          },
          "execution_count": 83
        }
      ]
    },
    {
      "cell_type": "code",
      "metadata": {
        "colab_type": "code",
        "id": "_j6MabSyaTa4",
        "colab": {}
      },
      "source": [
        "merge1 = readPickleFile('merge1')"
      ],
      "execution_count": null,
      "outputs": []
    },
    {
      "cell_type": "code",
      "metadata": {
        "colab_type": "code",
        "id": "Wq5Ho0oNZOue",
        "colab": {}
      },
      "source": [
        "merge2 = merge1.merge(location_data, how = 'left', left_on= 'locationId', right_on= 'location_id')"
      ],
      "execution_count": null,
      "outputs": []
    },
    {
      "cell_type": "code",
      "metadata": {
        "colab_type": "code",
        "id": "Utty6jiQZc8r",
        "colab": {}
      },
      "source": [
        "pickleFileDump('merge2',merge2)"
      ],
      "execution_count": null,
      "outputs": []
    },
    {
      "cell_type": "code",
      "metadata": {
        "colab_type": "code",
        "id": "cYHG3FpyZ9G7",
        "colab": {
          "base_uri": "https://localhost:8080/",
          "height": 68
        },
        "outputId": "21448faf-05c8-4562-dc9b-0746ee387c1d"
      },
      "source": [
        "ls"
      ],
      "execution_count": null,
      "outputs": [
        {
          "output_type": "stream",
          "text": [
            "EDA.ipynb         location_data         merge2          train_data\n",
            "item_data         location_details.csv  \u001b[0m\u001b[01;34mPickled_files\u001b[0m/  train_transactions\n",
            "item_details.csv  merge1                train.csv       train_transactions.csv\n"
          ],
          "name": "stdout"
        }
      ]
    },
    {
      "cell_type": "code",
      "metadata": {
        "colab_type": "code",
        "id": "U7Dg0ytKdc-C",
        "colab": {}
      },
      "source": [
        "merge2 = readPickleFile('merge2')"
      ],
      "execution_count": null,
      "outputs": []
    },
    {
      "cell_type": "code",
      "metadata": {
        "colab_type": "code",
        "id": "nS3KSE6icSYQ",
        "colab": {}
      },
      "source": [
        "merge3 = merge2.merge(train_transactions, how='left', left_on=['date', 'locationId'], right_on = ['date', 'location_identifier'])"
      ],
      "execution_count": null,
      "outputs": []
    },
    {
      "cell_type": "code",
      "metadata": {
        "colab_type": "code",
        "id": "vDY4vXKjcuSm",
        "colab": {}
      },
      "source": [
        "del train_transactions"
      ],
      "execution_count": null,
      "outputs": []
    },
    {
      "cell_type": "code",
      "metadata": {
        "colab_type": "code",
        "id": "SygTyucZgRbT",
        "colab": {
          "base_uri": "https://localhost:8080/",
          "height": 34
        },
        "outputId": "8f9e1eb6-8d81-464f-ed88-320f999f398e"
      },
      "source": [
        "import gc\n",
        "gc.collect()"
      ],
      "execution_count": null,
      "outputs": [
        {
          "output_type": "execute_result",
          "data": {
            "text/plain": [
              "0"
            ]
          },
          "metadata": {
            "tags": []
          },
          "execution_count": 16
        }
      ]
    },
    {
      "cell_type": "code",
      "metadata": {
        "colab_type": "code",
        "id": "nS4iwjNSgmeq",
        "colab": {
          "base_uri": "https://localhost:8080/",
          "height": 34
        },
        "outputId": "651f11dc-502b-48a5-cdf4-085745d62feb"
      },
      "source": [
        "merge3.shape"
      ],
      "execution_count": null,
      "outputs": [
        {
          "output_type": "execute_result",
          "data": {
            "text/plain": [
              "(101857547, 15)"
            ]
          },
          "metadata": {
            "tags": []
          },
          "execution_count": 33
        }
      ]
    },
    {
      "cell_type": "code",
      "metadata": {
        "colab_type": "code",
        "id": "y-sYC7_yg-JI",
        "colab": {
          "base_uri": "https://localhost:8080/",
          "height": 289
        },
        "outputId": "6af29e59-c0e5-43f9-f9e4-70a7a5bb3158"
      },
      "source": [
        "merge3.dtypes"
      ],
      "execution_count": null,
      "outputs": [
        {
          "output_type": "execute_result",
          "data": {
            "text/plain": [
              "date                   datetime64[ns]\n",
              "locationId                     object\n",
              "item_id                        object\n",
              "unit_sales                    float64\n",
              "onpromotion                  category\n",
              "category_of_item             category\n",
              "class                        category\n",
              "perishable                      int64\n",
              "location_id                  category\n",
              "city                         category\n",
              "state                        category\n",
              "type                         category\n",
              "cluster                         int64\n",
              "location_identifier          category\n",
              "transactions                  float64\n",
              "dtype: object"
            ]
          },
          "metadata": {
            "tags": []
          },
          "execution_count": 17
        }
      ]
    },
    {
      "cell_type": "code",
      "metadata": {
        "colab_type": "code",
        "id": "SFLT0nHMhA6Z",
        "colab": {}
      },
      "source": [
        "merge3.drop(['location_id','location_identifier'],axis=1,inplace=True)"
      ],
      "execution_count": null,
      "outputs": []
    },
    {
      "cell_type": "code",
      "metadata": {
        "colab_type": "code",
        "id": "3QkSR6ZNhJbd",
        "colab": {}
      },
      "source": [
        "dtypeConversion(merge3)"
      ],
      "execution_count": null,
      "outputs": []
    },
    {
      "cell_type": "code",
      "metadata": {
        "colab_type": "code",
        "id": "-Xs_SjSvhTsA",
        "colab": {
          "base_uri": "https://localhost:8080/",
          "height": 255
        },
        "outputId": "c431ef3e-842e-4de0-d72e-f1de2d3bdc9f"
      },
      "source": [
        "merge3.dtypes"
      ],
      "execution_count": null,
      "outputs": [
        {
          "output_type": "execute_result",
          "data": {
            "text/plain": [
              "date                datetime64[ns]\n",
              "locationId                category\n",
              "item_id                   category\n",
              "unit_sales                 float64\n",
              "onpromotion               category\n",
              "category_of_item          category\n",
              "class                     category\n",
              "perishable                   int64\n",
              "city                      category\n",
              "state                     category\n",
              "type                      category\n",
              "cluster                      int64\n",
              "transactions               float64\n",
              "dtype: object"
            ]
          },
          "metadata": {
            "tags": []
          },
          "execution_count": 22
        }
      ]
    },
    {
      "cell_type": "code",
      "metadata": {
        "colab_type": "code",
        "id": "HS5DbmG7hXz_",
        "colab": {}
      },
      "source": [
        "merge3['perishable'] = merge3['perishable'].astype('uint8',errors='ignore')"
      ],
      "execution_count": null,
      "outputs": []
    },
    {
      "cell_type": "code",
      "metadata": {
        "colab_type": "code",
        "id": "PtwDHzQnhfmW",
        "colab": {
          "base_uri": "https://localhost:8080/",
          "height": 255
        },
        "outputId": "4f38dd3e-5cae-4143-b335-cb29ac3ff011"
      },
      "source": [
        "merge3.dtypes"
      ],
      "execution_count": null,
      "outputs": [
        {
          "output_type": "execute_result",
          "data": {
            "text/plain": [
              "date                datetime64[ns]\n",
              "locationId                category\n",
              "item_id                   category\n",
              "unit_sales                 float64\n",
              "onpromotion               category\n",
              "category_of_item          category\n",
              "class                     category\n",
              "perishable                   uint8\n",
              "city                      category\n",
              "state                     category\n",
              "type                      category\n",
              "cluster                      int64\n",
              "transactions               float64\n",
              "dtype: object"
            ]
          },
          "metadata": {
            "tags": []
          },
          "execution_count": 24
        }
      ]
    },
    {
      "cell_type": "code",
      "metadata": {
        "colab_type": "code",
        "id": "WcYUbvfRhjVn",
        "colab": {
          "base_uri": "https://localhost:8080/",
          "height": 204
        },
        "outputId": "77a42b64-5528-4988-bbe8-4877d4a401ba"
      },
      "source": [
        "merge3.tail()"
      ],
      "execution_count": null,
      "outputs": [
        {
          "output_type": "execute_result",
          "data": {
            "text/html": [
              "<div>\n",
              "<style scoped>\n",
              "    .dataframe tbody tr th:only-of-type {\n",
              "        vertical-align: middle;\n",
              "    }\n",
              "\n",
              "    .dataframe tbody tr th {\n",
              "        vertical-align: top;\n",
              "    }\n",
              "\n",
              "    .dataframe thead th {\n",
              "        text-align: right;\n",
              "    }\n",
              "</style>\n",
              "<table border=\"1\" class=\"dataframe\">\n",
              "  <thead>\n",
              "    <tr style=\"text-align: right;\">\n",
              "      <th></th>\n",
              "      <th>date</th>\n",
              "      <th>locationId</th>\n",
              "      <th>item_id</th>\n",
              "      <th>unit_sales</th>\n",
              "      <th>onpromotion</th>\n",
              "      <th>category_of_item</th>\n",
              "      <th>class</th>\n",
              "      <th>perishable</th>\n",
              "      <th>city</th>\n",
              "      <th>state</th>\n",
              "      <th>type</th>\n",
              "      <th>cluster</th>\n",
              "      <th>transactions</th>\n",
              "    </tr>\n",
              "  </thead>\n",
              "  <tbody>\n",
              "    <tr>\n",
              "      <th>101857542</th>\n",
              "      <td>2018-12-31</td>\n",
              "      <td>location_54</td>\n",
              "      <td>item_2048381</td>\n",
              "      <td>6.0</td>\n",
              "      <td>True</td>\n",
              "      <td>grocery_items</td>\n",
              "      <td>class_1016</td>\n",
              "      <td>0</td>\n",
              "      <td>Patna</td>\n",
              "      <td>Bihar</td>\n",
              "      <td>C</td>\n",
              "      <td>3</td>\n",
              "      <td>1647.0</td>\n",
              "    </tr>\n",
              "    <tr>\n",
              "      <th>101857543</th>\n",
              "      <td>2018-12-31</td>\n",
              "      <td>location_54</td>\n",
              "      <td>item_2048421</td>\n",
              "      <td>4.0</td>\n",
              "      <td>False</td>\n",
              "      <td>grocery_items</td>\n",
              "      <td>class_1016</td>\n",
              "      <td>0</td>\n",
              "      <td>Patna</td>\n",
              "      <td>Bihar</td>\n",
              "      <td>C</td>\n",
              "      <td>3</td>\n",
              "      <td>1647.0</td>\n",
              "    </tr>\n",
              "    <tr>\n",
              "      <th>101857544</th>\n",
              "      <td>2018-12-31</td>\n",
              "      <td>location_54</td>\n",
              "      <td>item_2048471</td>\n",
              "      <td>10.0</td>\n",
              "      <td>False</td>\n",
              "      <td>grocery_items</td>\n",
              "      <td>class_1016</td>\n",
              "      <td>0</td>\n",
              "      <td>Patna</td>\n",
              "      <td>Bihar</td>\n",
              "      <td>C</td>\n",
              "      <td>3</td>\n",
              "      <td>1647.0</td>\n",
              "    </tr>\n",
              "    <tr>\n",
              "      <th>101857545</th>\n",
              "      <td>2018-12-31</td>\n",
              "      <td>location_54</td>\n",
              "      <td>item_2048515</td>\n",
              "      <td>3.0</td>\n",
              "      <td>False</td>\n",
              "      <td>grocery_items</td>\n",
              "      <td>class_1016</td>\n",
              "      <td>0</td>\n",
              "      <td>Patna</td>\n",
              "      <td>Bihar</td>\n",
              "      <td>C</td>\n",
              "      <td>3</td>\n",
              "      <td>1647.0</td>\n",
              "    </tr>\n",
              "    <tr>\n",
              "      <th>101857546</th>\n",
              "      <td>2018-12-31</td>\n",
              "      <td>location_54</td>\n",
              "      <td>item_2048674</td>\n",
              "      <td>1.0</td>\n",
              "      <td>False</td>\n",
              "      <td>grocery_items</td>\n",
              "      <td>class_1016</td>\n",
              "      <td>0</td>\n",
              "      <td>Patna</td>\n",
              "      <td>Bihar</td>\n",
              "      <td>C</td>\n",
              "      <td>3</td>\n",
              "      <td>1647.0</td>\n",
              "    </tr>\n",
              "  </tbody>\n",
              "</table>\n",
              "</div>"
            ],
            "text/plain": [
              "                date   locationId       item_id  ...  type cluster transactions\n",
              "101857542 2018-12-31  location_54  item_2048381  ...     C       3       1647.0\n",
              "101857543 2018-12-31  location_54  item_2048421  ...     C       3       1647.0\n",
              "101857544 2018-12-31  location_54  item_2048471  ...     C       3       1647.0\n",
              "101857545 2018-12-31  location_54  item_2048515  ...     C       3       1647.0\n",
              "101857546 2018-12-31  location_54  item_2048674  ...     C       3       1647.0\n",
              "\n",
              "[5 rows x 13 columns]"
            ]
          },
          "metadata": {
            "tags": []
          },
          "execution_count": 25
        }
      ]
    },
    {
      "cell_type": "code",
      "metadata": {
        "colab_type": "code",
        "id": "SWd3KCUchnWk",
        "colab": {
          "base_uri": "https://localhost:8080/",
          "height": 255
        },
        "outputId": "84314454-e158-42d0-cbdd-bac2abb0550a"
      },
      "source": [
        "merge3.isna().sum()"
      ],
      "execution_count": null,
      "outputs": [
        {
          "output_type": "execute_result",
          "data": {
            "text/plain": [
              "date                       0\n",
              "locationId                 0\n",
              "item_id                    0\n",
              "unit_sales                 0\n",
              "onpromotion         21657651\n",
              "category_of_item           0\n",
              "class                      0\n",
              "perishable                 0\n",
              "city                       0\n",
              "state                      0\n",
              "type                       0\n",
              "cluster                    0\n",
              "transactions          214625\n",
              "dtype: int64"
            ]
          },
          "metadata": {
            "tags": []
          },
          "execution_count": 26
        }
      ]
    },
    {
      "cell_type": "code",
      "metadata": {
        "colab_type": "code",
        "id": "gItxH9gJhv3U",
        "colab": {}
      },
      "source": [
        "merge3['onpromotion'] = merge3['onpromotion'].fillna(False)"
      ],
      "execution_count": null,
      "outputs": []
    },
    {
      "cell_type": "code",
      "metadata": {
        "colab_type": "code",
        "id": "kH31Q6hsh5dZ",
        "colab": {
          "base_uri": "https://localhost:8080/",
          "height": 255
        },
        "outputId": "d13ba6ac-2e19-4074-82ef-f7be1adef102"
      },
      "source": [
        "merge3.isna().sum()"
      ],
      "execution_count": null,
      "outputs": [
        {
          "output_type": "execute_result",
          "data": {
            "text/plain": [
              "date                     0\n",
              "locationId               0\n",
              "item_id                  0\n",
              "unit_sales               0\n",
              "onpromotion              0\n",
              "category_of_item         0\n",
              "class                    0\n",
              "perishable               0\n",
              "city                     0\n",
              "state                    0\n",
              "type                     0\n",
              "cluster                  0\n",
              "transactions        214625\n",
              "dtype: int64"
            ]
          },
          "metadata": {
            "tags": []
          },
          "execution_count": 28
        }
      ]
    },
    {
      "cell_type": "code",
      "metadata": {
        "colab_type": "code",
        "id": "Cz1jJsdDh73h",
        "colab": {
          "base_uri": "https://localhost:8080/",
          "height": 255
        },
        "outputId": "3589fa31-f16a-40e2-ee3c-d40785c89848"
      },
      "source": [
        "merge3.nunique()"
      ],
      "execution_count": null,
      "outputs": [
        {
          "output_type": "execute_result",
          "data": {
            "text/plain": [
              "date                  1456\n",
              "locationId              53\n",
              "item_id               3890\n",
              "unit_sales          244090\n",
              "onpromotion              2\n",
              "category_of_item        30\n",
              "class                  328\n",
              "perishable               2\n",
              "city                    22\n",
              "state                   13\n",
              "type                     5\n",
              "cluster                 17\n",
              "transactions          4912\n",
              "dtype: int64"
            ]
          },
          "metadata": {
            "tags": []
          },
          "execution_count": 29
        }
      ]
    },
    {
      "cell_type": "code",
      "metadata": {
        "colab_type": "code",
        "id": "-AvaSMNyihXL",
        "colab": {
          "base_uri": "https://localhost:8080/",
          "height": 204
        },
        "outputId": "4ca950fe-cf33-44b7-a1c2-049b10165cb1"
      },
      "source": [
        "merge3.head()"
      ],
      "execution_count": null,
      "outputs": [
        {
          "output_type": "execute_result",
          "data": {
            "text/html": [
              "<div>\n",
              "<style scoped>\n",
              "    .dataframe tbody tr th:only-of-type {\n",
              "        vertical-align: middle;\n",
              "    }\n",
              "\n",
              "    .dataframe tbody tr th {\n",
              "        vertical-align: top;\n",
              "    }\n",
              "\n",
              "    .dataframe thead th {\n",
              "        text-align: right;\n",
              "    }\n",
              "</style>\n",
              "<table border=\"1\" class=\"dataframe\">\n",
              "  <thead>\n",
              "    <tr style=\"text-align: right;\">\n",
              "      <th></th>\n",
              "      <th>date</th>\n",
              "      <th>locationId</th>\n",
              "      <th>item_id</th>\n",
              "      <th>unit_sales</th>\n",
              "      <th>onpromotion</th>\n",
              "      <th>category_of_item</th>\n",
              "      <th>class</th>\n",
              "      <th>perishable</th>\n",
              "      <th>city</th>\n",
              "      <th>state</th>\n",
              "      <th>type</th>\n",
              "      <th>cluster</th>\n",
              "      <th>transactions</th>\n",
              "    </tr>\n",
              "  </thead>\n",
              "  <tbody>\n",
              "    <tr>\n",
              "      <th>0</th>\n",
              "      <td>2015-01-01</td>\n",
              "      <td>location_25</td>\n",
              "      <td>item_103665</td>\n",
              "      <td>7.0</td>\n",
              "      <td>False</td>\n",
              "      <td>baked_items / bread_based</td>\n",
              "      <td>class_2712</td>\n",
              "      <td>1</td>\n",
              "      <td>Kanpur</td>\n",
              "      <td>Uttar Pradesh</td>\n",
              "      <td>D</td>\n",
              "      <td>1</td>\n",
              "      <td>770.0</td>\n",
              "    </tr>\n",
              "    <tr>\n",
              "      <th>1</th>\n",
              "      <td>2015-01-01</td>\n",
              "      <td>location_25</td>\n",
              "      <td>item_105574</td>\n",
              "      <td>1.0</td>\n",
              "      <td>False</td>\n",
              "      <td>grocery_items</td>\n",
              "      <td>class_1045</td>\n",
              "      <td>0</td>\n",
              "      <td>Kanpur</td>\n",
              "      <td>Uttar Pradesh</td>\n",
              "      <td>D</td>\n",
              "      <td>1</td>\n",
              "      <td>770.0</td>\n",
              "    </tr>\n",
              "    <tr>\n",
              "      <th>2</th>\n",
              "      <td>2015-01-01</td>\n",
              "      <td>location_25</td>\n",
              "      <td>item_105575</td>\n",
              "      <td>2.0</td>\n",
              "      <td>False</td>\n",
              "      <td>grocery_items</td>\n",
              "      <td>class_1045</td>\n",
              "      <td>0</td>\n",
              "      <td>Kanpur</td>\n",
              "      <td>Uttar Pradesh</td>\n",
              "      <td>D</td>\n",
              "      <td>1</td>\n",
              "      <td>770.0</td>\n",
              "    </tr>\n",
              "    <tr>\n",
              "      <th>3</th>\n",
              "      <td>2015-01-01</td>\n",
              "      <td>location_25</td>\n",
              "      <td>item_108079</td>\n",
              "      <td>1.0</td>\n",
              "      <td>False</td>\n",
              "      <td>grocery_items</td>\n",
              "      <td>class_1030</td>\n",
              "      <td>0</td>\n",
              "      <td>Kanpur</td>\n",
              "      <td>Uttar Pradesh</td>\n",
              "      <td>D</td>\n",
              "      <td>1</td>\n",
              "      <td>770.0</td>\n",
              "    </tr>\n",
              "    <tr>\n",
              "      <th>4</th>\n",
              "      <td>2015-01-01</td>\n",
              "      <td>location_25</td>\n",
              "      <td>item_108701</td>\n",
              "      <td>1.0</td>\n",
              "      <td>False</td>\n",
              "      <td>deli_items</td>\n",
              "      <td>class_2644</td>\n",
              "      <td>1</td>\n",
              "      <td>Kanpur</td>\n",
              "      <td>Uttar Pradesh</td>\n",
              "      <td>D</td>\n",
              "      <td>1</td>\n",
              "      <td>770.0</td>\n",
              "    </tr>\n",
              "  </tbody>\n",
              "</table>\n",
              "</div>"
            ],
            "text/plain": [
              "        date   locationId      item_id  ...  type cluster transactions\n",
              "0 2015-01-01  location_25  item_103665  ...     D       1        770.0\n",
              "1 2015-01-01  location_25  item_105574  ...     D       1        770.0\n",
              "2 2015-01-01  location_25  item_105575  ...     D       1        770.0\n",
              "3 2015-01-01  location_25  item_108079  ...     D       1        770.0\n",
              "4 2015-01-01  location_25  item_108701  ...     D       1        770.0\n",
              "\n",
              "[5 rows x 13 columns]"
            ]
          },
          "metadata": {
            "tags": []
          },
          "execution_count": 30
        }
      ]
    },
    {
      "cell_type": "code",
      "metadata": {
        "colab_type": "code",
        "id": "isgpb471incK",
        "colab": {
          "base_uri": "https://localhost:8080/",
          "height": 419
        },
        "outputId": "a683ba05-94a9-47cf-c91a-4cc65d397b81"
      },
      "source": [
        "merge3[merge3['transactions'].isna()]"
      ],
      "execution_count": null,
      "outputs": [
        {
          "output_type": "execute_result",
          "data": {
            "text/html": [
              "<div>\n",
              "<style scoped>\n",
              "    .dataframe tbody tr th:only-of-type {\n",
              "        vertical-align: middle;\n",
              "    }\n",
              "\n",
              "    .dataframe tbody tr th {\n",
              "        vertical-align: top;\n",
              "    }\n",
              "\n",
              "    .dataframe thead th {\n",
              "        text-align: right;\n",
              "    }\n",
              "</style>\n",
              "<table border=\"1\" class=\"dataframe\">\n",
              "  <thead>\n",
              "    <tr style=\"text-align: right;\">\n",
              "      <th></th>\n",
              "      <th>date</th>\n",
              "      <th>locationId</th>\n",
              "      <th>item_id</th>\n",
              "      <th>unit_sales</th>\n",
              "      <th>onpromotion</th>\n",
              "      <th>category_of_item</th>\n",
              "      <th>class</th>\n",
              "      <th>perishable</th>\n",
              "      <th>city</th>\n",
              "      <th>state</th>\n",
              "      <th>type</th>\n",
              "      <th>cluster</th>\n",
              "      <th>transactions</th>\n",
              "    </tr>\n",
              "  </thead>\n",
              "  <tbody>\n",
              "    <tr>\n",
              "      <th>7164318</th>\n",
              "      <td>2015-06-19</td>\n",
              "      <td>location_10</td>\n",
              "      <td>item_103501</td>\n",
              "      <td>3.0</td>\n",
              "      <td>False</td>\n",
              "      <td>cleaning_utilities</td>\n",
              "      <td>class_3008</td>\n",
              "      <td>0</td>\n",
              "      <td>Bengaluru</td>\n",
              "      <td>Karnataka</td>\n",
              "      <td>C</td>\n",
              "      <td>15</td>\n",
              "      <td>NaN</td>\n",
              "    </tr>\n",
              "    <tr>\n",
              "      <th>7164319</th>\n",
              "      <td>2015-06-19</td>\n",
              "      <td>location_10</td>\n",
              "      <td>item_105576</td>\n",
              "      <td>10.0</td>\n",
              "      <td>False</td>\n",
              "      <td>grocery_items</td>\n",
              "      <td>class_1045</td>\n",
              "      <td>0</td>\n",
              "      <td>Bengaluru</td>\n",
              "      <td>Karnataka</td>\n",
              "      <td>C</td>\n",
              "      <td>15</td>\n",
              "      <td>NaN</td>\n",
              "    </tr>\n",
              "    <tr>\n",
              "      <th>7164320</th>\n",
              "      <td>2015-06-19</td>\n",
              "      <td>location_10</td>\n",
              "      <td>item_106716</td>\n",
              "      <td>9.0</td>\n",
              "      <td>False</td>\n",
              "      <td>grocery_items</td>\n",
              "      <td>class_1032</td>\n",
              "      <td>0</td>\n",
              "      <td>Bengaluru</td>\n",
              "      <td>Karnataka</td>\n",
              "      <td>C</td>\n",
              "      <td>15</td>\n",
              "      <td>NaN</td>\n",
              "    </tr>\n",
              "    <tr>\n",
              "      <th>7164321</th>\n",
              "      <td>2015-06-19</td>\n",
              "      <td>location_10</td>\n",
              "      <td>item_108701</td>\n",
              "      <td>1.0</td>\n",
              "      <td>False</td>\n",
              "      <td>deli_items</td>\n",
              "      <td>class_2644</td>\n",
              "      <td>1</td>\n",
              "      <td>Bengaluru</td>\n",
              "      <td>Karnataka</td>\n",
              "      <td>C</td>\n",
              "      <td>15</td>\n",
              "      <td>NaN</td>\n",
              "    </tr>\n",
              "    <tr>\n",
              "      <th>7164322</th>\n",
              "      <td>2015-06-19</td>\n",
              "      <td>location_10</td>\n",
              "      <td>item_108786</td>\n",
              "      <td>28.0</td>\n",
              "      <td>False</td>\n",
              "      <td>cleaning_utilities</td>\n",
              "      <td>class_3044</td>\n",
              "      <td>0</td>\n",
              "      <td>Bengaluru</td>\n",
              "      <td>Karnataka</td>\n",
              "      <td>C</td>\n",
              "      <td>15</td>\n",
              "      <td>NaN</td>\n",
              "    </tr>\n",
              "    <tr>\n",
              "      <th>...</th>\n",
              "      <td>...</td>\n",
              "      <td>...</td>\n",
              "      <td>...</td>\n",
              "      <td>...</td>\n",
              "      <td>...</td>\n",
              "      <td>...</td>\n",
              "      <td>...</td>\n",
              "      <td>...</td>\n",
              "      <td>...</td>\n",
              "      <td>...</td>\n",
              "      <td>...</td>\n",
              "      <td>...</td>\n",
              "      <td>...</td>\n",
              "    </tr>\n",
              "    <tr>\n",
              "      <th>92366134</th>\n",
              "      <td>2018-09-27</td>\n",
              "      <td>location_23</td>\n",
              "      <td>item_2027090</td>\n",
              "      <td>1.0</td>\n",
              "      <td>False</td>\n",
              "      <td>grocery_items</td>\n",
              "      <td>class_1060</td>\n",
              "      <td>0</td>\n",
              "      <td>Gurgaon</td>\n",
              "      <td>Haryana</td>\n",
              "      <td>D</td>\n",
              "      <td>9</td>\n",
              "      <td>NaN</td>\n",
              "    </tr>\n",
              "    <tr>\n",
              "      <th>92366135</th>\n",
              "      <td>2018-09-27</td>\n",
              "      <td>location_23</td>\n",
              "      <td>item_2027252</td>\n",
              "      <td>1.0</td>\n",
              "      <td>False</td>\n",
              "      <td>grocery_items</td>\n",
              "      <td>class_1034</td>\n",
              "      <td>0</td>\n",
              "      <td>Gurgaon</td>\n",
              "      <td>Haryana</td>\n",
              "      <td>D</td>\n",
              "      <td>9</td>\n",
              "      <td>NaN</td>\n",
              "    </tr>\n",
              "    <tr>\n",
              "      <th>92366136</th>\n",
              "      <td>2018-09-27</td>\n",
              "      <td>location_23</td>\n",
              "      <td>item_2029494</td>\n",
              "      <td>1.0</td>\n",
              "      <td>False</td>\n",
              "      <td>beverages</td>\n",
              "      <td>class_1122</td>\n",
              "      <td>0</td>\n",
              "      <td>Gurgaon</td>\n",
              "      <td>Haryana</td>\n",
              "      <td>D</td>\n",
              "      <td>9</td>\n",
              "      <td>NaN</td>\n",
              "    </tr>\n",
              "    <tr>\n",
              "      <th>92366137</th>\n",
              "      <td>2018-09-27</td>\n",
              "      <td>location_23</td>\n",
              "      <td>item_2031273</td>\n",
              "      <td>2.0</td>\n",
              "      <td>False</td>\n",
              "      <td>other_farm_produce</td>\n",
              "      <td>class_2026</td>\n",
              "      <td>1</td>\n",
              "      <td>Gurgaon</td>\n",
              "      <td>Haryana</td>\n",
              "      <td>D</td>\n",
              "      <td>9</td>\n",
              "      <td>NaN</td>\n",
              "    </tr>\n",
              "    <tr>\n",
              "      <th>92366138</th>\n",
              "      <td>2018-09-27</td>\n",
              "      <td>location_23</td>\n",
              "      <td>item_2037487</td>\n",
              "      <td>2.0</td>\n",
              "      <td>False</td>\n",
              "      <td>other_farm_produce</td>\n",
              "      <td>class_2006</td>\n",
              "      <td>1</td>\n",
              "      <td>Gurgaon</td>\n",
              "      <td>Haryana</td>\n",
              "      <td>D</td>\n",
              "      <td>9</td>\n",
              "      <td>NaN</td>\n",
              "    </tr>\n",
              "  </tbody>\n",
              "</table>\n",
              "<p>214625 rows × 13 columns</p>\n",
              "</div>"
            ],
            "text/plain": [
              "               date   locationId       item_id  ...  type cluster transactions\n",
              "7164318  2015-06-19  location_10   item_103501  ...     C      15          NaN\n",
              "7164319  2015-06-19  location_10   item_105576  ...     C      15          NaN\n",
              "7164320  2015-06-19  location_10   item_106716  ...     C      15          NaN\n",
              "7164321  2015-06-19  location_10   item_108701  ...     C      15          NaN\n",
              "7164322  2015-06-19  location_10   item_108786  ...     C      15          NaN\n",
              "...             ...          ...           ...  ...   ...     ...          ...\n",
              "92366134 2018-09-27  location_23  item_2027090  ...     D       9          NaN\n",
              "92366135 2018-09-27  location_23  item_2027252  ...     D       9          NaN\n",
              "92366136 2018-09-27  location_23  item_2029494  ...     D       9          NaN\n",
              "92366137 2018-09-27  location_23  item_2031273  ...     D       9          NaN\n",
              "92366138 2018-09-27  location_23  item_2037487  ...     D       9          NaN\n",
              "\n",
              "[214625 rows x 13 columns]"
            ]
          },
          "metadata": {
            "tags": []
          },
          "execution_count": 31
        }
      ]
    },
    {
      "cell_type": "code",
      "metadata": {
        "colab_type": "code",
        "id": "gd-1MiZViu5Q",
        "colab": {
          "base_uri": "https://localhost:8080/",
          "height": 80
        },
        "outputId": "a5dd7d5a-7ef1-4c1f-b17e-78cfb8a6f721"
      },
      "source": [
        "merge3.head(1)"
      ],
      "execution_count": null,
      "outputs": [
        {
          "output_type": "execute_result",
          "data": {
            "text/html": [
              "<div>\n",
              "<style scoped>\n",
              "    .dataframe tbody tr th:only-of-type {\n",
              "        vertical-align: middle;\n",
              "    }\n",
              "\n",
              "    .dataframe tbody tr th {\n",
              "        vertical-align: top;\n",
              "    }\n",
              "\n",
              "    .dataframe thead th {\n",
              "        text-align: right;\n",
              "    }\n",
              "</style>\n",
              "<table border=\"1\" class=\"dataframe\">\n",
              "  <thead>\n",
              "    <tr style=\"text-align: right;\">\n",
              "      <th></th>\n",
              "      <th>date</th>\n",
              "      <th>locationId</th>\n",
              "      <th>item_id</th>\n",
              "      <th>unit_sales</th>\n",
              "      <th>onpromotion</th>\n",
              "      <th>category_of_item</th>\n",
              "      <th>class</th>\n",
              "      <th>perishable</th>\n",
              "      <th>city</th>\n",
              "      <th>state</th>\n",
              "      <th>type</th>\n",
              "      <th>cluster</th>\n",
              "      <th>transactions</th>\n",
              "    </tr>\n",
              "  </thead>\n",
              "  <tbody>\n",
              "    <tr>\n",
              "      <th>0</th>\n",
              "      <td>2015-01-01</td>\n",
              "      <td>location_25</td>\n",
              "      <td>item_103665</td>\n",
              "      <td>7.0</td>\n",
              "      <td>False</td>\n",
              "      <td>baked_items / bread_based</td>\n",
              "      <td>class_2712</td>\n",
              "      <td>1</td>\n",
              "      <td>Kanpur</td>\n",
              "      <td>Uttar Pradesh</td>\n",
              "      <td>D</td>\n",
              "      <td>1</td>\n",
              "      <td>770.0</td>\n",
              "    </tr>\n",
              "  </tbody>\n",
              "</table>\n",
              "</div>"
            ],
            "text/plain": [
              "        date   locationId      item_id  ...  type cluster transactions\n",
              "0 2015-01-01  location_25  item_103665  ...     D       1        770.0\n",
              "\n",
              "[1 rows x 13 columns]"
            ]
          },
          "metadata": {
            "tags": []
          },
          "execution_count": 32
        }
      ]
    },
    {
      "cell_type": "code",
      "metadata": {
        "colab_type": "code",
        "id": "RkQFf5WUjYkV",
        "colab": {}
      },
      "source": [
        "## transcations Nan to 0\n",
        "merge3['transactions'] = merge3['transactions'].fillna(0)"
      ],
      "execution_count": null,
      "outputs": []
    },
    {
      "cell_type": "code",
      "metadata": {
        "colab_type": "code",
        "id": "Pw_ONPUYjN9b",
        "colab": {
          "base_uri": "https://localhost:8080/",
          "height": 255
        },
        "outputId": "4dde1edf-5447-4d9b-bd74-e9c14a316ccf"
      },
      "source": [
        "merge3.isna().sum()"
      ],
      "execution_count": null,
      "outputs": [
        {
          "output_type": "execute_result",
          "data": {
            "text/plain": [
              "date                0\n",
              "locationId          0\n",
              "item_id             0\n",
              "unit_sales          0\n",
              "onpromotion         0\n",
              "category_of_item    0\n",
              "class               0\n",
              "perishable          0\n",
              "city                0\n",
              "state               0\n",
              "type                0\n",
              "cluster             0\n",
              "transactions        0\n",
              "dtype: int64"
            ]
          },
          "metadata": {
            "tags": []
          },
          "execution_count": 34
        }
      ]
    },
    {
      "cell_type": "code",
      "metadata": {
        "colab_type": "code",
        "id": "DrR5HyFljSRh",
        "colab": {}
      },
      "source": [
        "pickleFileDump('FinalDataset', merge3)"
      ],
      "execution_count": null,
      "outputs": []
    },
    {
      "cell_type": "code",
      "metadata": {
        "colab_type": "code",
        "id": "pvK6_Qn6jvvq",
        "colab": {
          "base_uri": "https://localhost:8080/",
          "height": 102
        },
        "outputId": "b3845318-ef92-473a-cc98-69fb7cbaf2ed"
      },
      "source": [
        "ls"
      ],
      "execution_count": null,
      "outputs": [
        {
          "output_type": "stream",
          "text": [
            "EDA.ipynb         location_details.csv  train_data\n",
            "FinalDataset      merge1                train_transactions\n",
            "item_data         merge2                train_transactions.csv\n",
            "item_details.csv  \u001b[0m\u001b[01;34mPickled_files\u001b[0m/\n",
            "location_data     train.csv\n"
          ],
          "name": "stdout"
        }
      ]
    },
    {
      "cell_type": "markdown",
      "metadata": {
        "colab_type": "text",
        "id": "MonvYsEu1BWJ"
      },
      "source": [
        "##                             PART 2: EXPLORATORY DATA ANALYSIS"
      ]
    },
    {
      "cell_type": "code",
      "metadata": {
        "colab_type": "code",
        "id": "gfDQOvph1Jan",
        "colab": {}
      },
      "source": [
        "### load the final input merged file with data preprocessing method done\n",
        "Sales_trainData = readPickleFile('FinalDataset')"
      ],
      "execution_count": null,
      "outputs": []
    },
    {
      "cell_type": "code",
      "metadata": {
        "colab_type": "code",
        "id": "Moe3IvEo4G-U",
        "colab": {
          "base_uri": "https://localhost:8080/",
          "height": 255
        },
        "outputId": "baa2cde2-72a2-49ea-9c8f-5f121a03304d"
      },
      "source": [
        "Sales_trainData.dtypes"
      ],
      "execution_count": null,
      "outputs": [
        {
          "output_type": "execute_result",
          "data": {
            "text/plain": [
              "date                datetime64[ns]\n",
              "locationId                category\n",
              "item_id                   category\n",
              "unit_sales                 float64\n",
              "onpromotion               category\n",
              "category_of_item          category\n",
              "class                     category\n",
              "perishable                   uint8\n",
              "city                      category\n",
              "state                     category\n",
              "type                      category\n",
              "cluster                      int64\n",
              "transactions               float64\n",
              "dtype: object"
            ]
          },
          "metadata": {
            "tags": []
          },
          "execution_count": 13
        }
      ]
    },
    {
      "cell_type": "markdown",
      "metadata": {
        "colab_type": "text",
        "id": "lAAvYSWG5Tx-"
      },
      "source": [
        "### Adding features for exploratory data analysis"
      ]
    },
    {
      "cell_type": "code",
      "metadata": {
        "colab_type": "code",
        "id": "s4jC4kcZ5fBX",
        "colab": {}
      },
      "source": [
        "Sales_trainData['date'] = pd.to_datetime(Sales_trainData['date'], format='%d.%m.%y')\n",
        "Sales_trainData['month'] = Sales_trainData['date'].dt.month\n",
        "Sales_trainData['year'] = Sales_trainData['date'].dt.year\n",
        "Sales_trainData['weekday'] = Sales_trainData['date'].dt.weekday"
      ],
      "execution_count": null,
      "outputs": []
    },
    {
      "cell_type": "code",
      "metadata": {
        "colab_type": "code",
        "id": "z1dVYbNc56Bf",
        "colab": {
          "base_uri": "https://localhost:8080/",
          "height": 213
        },
        "outputId": "f17f76d5-77e9-4d45-8dd6-9f3692ac0584"
      },
      "source": [
        "Sales_trainData.head(3)"
      ],
      "execution_count": null,
      "outputs": [
        {
          "output_type": "execute_result",
          "data": {
            "text/html": [
              "<div>\n",
              "<style scoped>\n",
              "    .dataframe tbody tr th:only-of-type {\n",
              "        vertical-align: middle;\n",
              "    }\n",
              "\n",
              "    .dataframe tbody tr th {\n",
              "        vertical-align: top;\n",
              "    }\n",
              "\n",
              "    .dataframe thead th {\n",
              "        text-align: right;\n",
              "    }\n",
              "</style>\n",
              "<table border=\"1\" class=\"dataframe\">\n",
              "  <thead>\n",
              "    <tr style=\"text-align: right;\">\n",
              "      <th></th>\n",
              "      <th>date</th>\n",
              "      <th>locationId</th>\n",
              "      <th>item_id</th>\n",
              "      <th>unit_sales</th>\n",
              "      <th>onpromotion</th>\n",
              "      <th>category_of_item</th>\n",
              "      <th>class</th>\n",
              "      <th>perishable</th>\n",
              "      <th>city</th>\n",
              "      <th>state</th>\n",
              "      <th>type</th>\n",
              "      <th>cluster</th>\n",
              "      <th>transactions</th>\n",
              "      <th>month</th>\n",
              "      <th>year</th>\n",
              "      <th>weekday</th>\n",
              "    </tr>\n",
              "  </thead>\n",
              "  <tbody>\n",
              "    <tr>\n",
              "      <th>0</th>\n",
              "      <td>2015-01-01</td>\n",
              "      <td>location_25</td>\n",
              "      <td>item_103665</td>\n",
              "      <td>7.0</td>\n",
              "      <td>False</td>\n",
              "      <td>baked_items / bread_based</td>\n",
              "      <td>class_2712</td>\n",
              "      <td>1</td>\n",
              "      <td>Kanpur</td>\n",
              "      <td>Uttar Pradesh</td>\n",
              "      <td>D</td>\n",
              "      <td>1</td>\n",
              "      <td>770.0</td>\n",
              "      <td>1</td>\n",
              "      <td>2015</td>\n",
              "      <td>3</td>\n",
              "    </tr>\n",
              "    <tr>\n",
              "      <th>1</th>\n",
              "      <td>2015-01-01</td>\n",
              "      <td>location_25</td>\n",
              "      <td>item_105574</td>\n",
              "      <td>1.0</td>\n",
              "      <td>False</td>\n",
              "      <td>grocery_items</td>\n",
              "      <td>class_1045</td>\n",
              "      <td>0</td>\n",
              "      <td>Kanpur</td>\n",
              "      <td>Uttar Pradesh</td>\n",
              "      <td>D</td>\n",
              "      <td>1</td>\n",
              "      <td>770.0</td>\n",
              "      <td>1</td>\n",
              "      <td>2015</td>\n",
              "      <td>3</td>\n",
              "    </tr>\n",
              "    <tr>\n",
              "      <th>2</th>\n",
              "      <td>2015-01-01</td>\n",
              "      <td>location_25</td>\n",
              "      <td>item_105575</td>\n",
              "      <td>2.0</td>\n",
              "      <td>False</td>\n",
              "      <td>grocery_items</td>\n",
              "      <td>class_1045</td>\n",
              "      <td>0</td>\n",
              "      <td>Kanpur</td>\n",
              "      <td>Uttar Pradesh</td>\n",
              "      <td>D</td>\n",
              "      <td>1</td>\n",
              "      <td>770.0</td>\n",
              "      <td>1</td>\n",
              "      <td>2015</td>\n",
              "      <td>3</td>\n",
              "    </tr>\n",
              "  </tbody>\n",
              "</table>\n",
              "</div>"
            ],
            "text/plain": [
              "        date   locationId      item_id  ...  month  year weekday\n",
              "0 2015-01-01  location_25  item_103665  ...      1  2015       3\n",
              "1 2015-01-01  location_25  item_105574  ...      1  2015       3\n",
              "2 2015-01-01  location_25  item_105575  ...      1  2015       3\n",
              "\n",
              "[3 rows x 16 columns]"
            ]
          },
          "metadata": {
            "tags": []
          },
          "execution_count": 70
        }
      ]
    },
    {
      "cell_type": "code",
      "metadata": {
        "colab_type": "code",
        "id": "0UE2ZAEVTYdn",
        "colab": {
          "base_uri": "https://localhost:8080/",
          "height": 213
        },
        "outputId": "89b16aea-49b2-444d-ea65-de218e80cd62"
      },
      "source": [
        "Sales_trainData.tail(3)"
      ],
      "execution_count": null,
      "outputs": [
        {
          "output_type": "execute_result",
          "data": {
            "text/html": [
              "<div>\n",
              "<style scoped>\n",
              "    .dataframe tbody tr th:only-of-type {\n",
              "        vertical-align: middle;\n",
              "    }\n",
              "\n",
              "    .dataframe tbody tr th {\n",
              "        vertical-align: top;\n",
              "    }\n",
              "\n",
              "    .dataframe thead th {\n",
              "        text-align: right;\n",
              "    }\n",
              "</style>\n",
              "<table border=\"1\" class=\"dataframe\">\n",
              "  <thead>\n",
              "    <tr style=\"text-align: right;\">\n",
              "      <th></th>\n",
              "      <th>date</th>\n",
              "      <th>locationId</th>\n",
              "      <th>item_id</th>\n",
              "      <th>unit_sales</th>\n",
              "      <th>onpromotion</th>\n",
              "      <th>category_of_item</th>\n",
              "      <th>class</th>\n",
              "      <th>perishable</th>\n",
              "      <th>city</th>\n",
              "      <th>state</th>\n",
              "      <th>type</th>\n",
              "      <th>cluster</th>\n",
              "      <th>transactions</th>\n",
              "      <th>month</th>\n",
              "      <th>year</th>\n",
              "      <th>weekday</th>\n",
              "    </tr>\n",
              "  </thead>\n",
              "  <tbody>\n",
              "    <tr>\n",
              "      <th>101857544</th>\n",
              "      <td>2018-12-31</td>\n",
              "      <td>location_54</td>\n",
              "      <td>item_2048471</td>\n",
              "      <td>10.0</td>\n",
              "      <td>False</td>\n",
              "      <td>grocery_items</td>\n",
              "      <td>class_1016</td>\n",
              "      <td>0</td>\n",
              "      <td>Patna</td>\n",
              "      <td>Bihar</td>\n",
              "      <td>C</td>\n",
              "      <td>3</td>\n",
              "      <td>1647.0</td>\n",
              "      <td>12</td>\n",
              "      <td>2018</td>\n",
              "      <td>0</td>\n",
              "    </tr>\n",
              "    <tr>\n",
              "      <th>101857545</th>\n",
              "      <td>2018-12-31</td>\n",
              "      <td>location_54</td>\n",
              "      <td>item_2048515</td>\n",
              "      <td>3.0</td>\n",
              "      <td>False</td>\n",
              "      <td>grocery_items</td>\n",
              "      <td>class_1016</td>\n",
              "      <td>0</td>\n",
              "      <td>Patna</td>\n",
              "      <td>Bihar</td>\n",
              "      <td>C</td>\n",
              "      <td>3</td>\n",
              "      <td>1647.0</td>\n",
              "      <td>12</td>\n",
              "      <td>2018</td>\n",
              "      <td>0</td>\n",
              "    </tr>\n",
              "    <tr>\n",
              "      <th>101857546</th>\n",
              "      <td>2018-12-31</td>\n",
              "      <td>location_54</td>\n",
              "      <td>item_2048674</td>\n",
              "      <td>1.0</td>\n",
              "      <td>False</td>\n",
              "      <td>grocery_items</td>\n",
              "      <td>class_1016</td>\n",
              "      <td>0</td>\n",
              "      <td>Patna</td>\n",
              "      <td>Bihar</td>\n",
              "      <td>C</td>\n",
              "      <td>3</td>\n",
              "      <td>1647.0</td>\n",
              "      <td>12</td>\n",
              "      <td>2018</td>\n",
              "      <td>0</td>\n",
              "    </tr>\n",
              "  </tbody>\n",
              "</table>\n",
              "</div>"
            ],
            "text/plain": [
              "                date   locationId       item_id  ...  month  year weekday\n",
              "101857544 2018-12-31  location_54  item_2048471  ...     12  2018       0\n",
              "101857545 2018-12-31  location_54  item_2048515  ...     12  2018       0\n",
              "101857546 2018-12-31  location_54  item_2048674  ...     12  2018       0\n",
              "\n",
              "[3 rows x 16 columns]"
            ]
          },
          "metadata": {
            "tags": []
          },
          "execution_count": 35
        }
      ]
    },
    {
      "cell_type": "markdown",
      "metadata": {
        "colab_type": "text",
        "id": "TtiPa1UF4moW"
      },
      "source": [
        "**What is the Sales trend across various months among the given data period. is theres any Seasonal trend?**\n",
        "\n",
        "From the below graph it is inferred that the Unit_sales across various location of the retailer peaks at the end of the year. Across the years, there is an instances of overlap of unit_sales. For Instance, In 2015 and 2016 there is overlap of sales in first six monts of the year. During the last six months of the year, the monthly sales of 2017 is nearing to the sales in 2018. The model has to change this seasonal patterns.\n"
      ]
    },
    {
      "cell_type": "code",
      "metadata": {
        "colab_type": "code",
        "id": "00FIYnmk6r8c",
        "colab": {
          "base_uri": "https://localhost:8080/",
          "height": 549
        },
        "outputId": "fad80080-31ec-4233-dd79-d281ca81c6a8"
      },
      "source": [
        "plotdata = Sales_trainData.groupby(['year','month'])['unit_sales'].sum()\n",
        "plotdata = pd.DataFrame(plotdata)\n",
        "plotdata.reset_index(inplace=True)\n",
        "(plotdata, ['year','month'], object);\n",
        "plt.figure(figsize=(20,8))\n",
        "plt.title(\"Variation in Units_sold across months, (2015-2018)\",fontsize=35)\n",
        "sns.barplot(x='month', y='unit_sales', hue='year', data=plotdata)"
      ],
      "execution_count": null,
      "outputs": [
        {
          "output_type": "execute_result",
          "data": {
            "text/plain": [
              "<matplotlib.axes._subplots.AxesSubplot at 0x7efd3bd08748>"
            ]
          },
          "metadata": {
            "tags": []
          },
          "execution_count": 18
        },
        {
          "output_type": "display_data",
          "data": {
            "image/png": "[encoded data removed]",
            "text/plain": [
              "<Figure size 1440x576 with 1 Axes>"
            ]
          },
          "metadata": {
            "tags": []
          }
        }
      ]
    },
    {
      "cell_type": "code",
      "metadata": {
        "colab_type": "code",
        "id": "_tnSG8Dp5FbG",
        "colab": {
          "base_uri": "https://localhost:8080/",
          "height": 549
        },
        "outputId": "443a5b75-c037-4081-b45d-2b05fd48a129"
      },
      "source": [
        "plotdata = Sales_trainData.groupby(['year','month'])['unit_sales'].sum()\n",
        "plotdata = pd.DataFrame(plotdata)\n",
        "plotdata.reset_index(inplace=True)\n",
        "(plotdata, ['year','month'], object);\n",
        "plt.figure(figsize=(20,8))\n",
        "plt.title(\"Variation in Units_sold across months, (2015-2018)\",fontsize=35)\n",
        "sns.lineplot(x='month', y='unit_sales', hue='year',palette='deep', data=plotdata)"
      ],
      "execution_count": null,
      "outputs": [
        {
          "output_type": "execute_result",
          "data": {
            "text/plain": [
              "<matplotlib.axes._subplots.AxesSubplot at 0x7f31a348d518>"
            ]
          },
          "metadata": {
            "tags": []
          },
          "execution_count": 17
        },
        {
          "output_type": "display_data",
          "data": {
            "image/png": "[encoded data removed]",
            "text/plain": [
              "<Figure size 1440x576 with 1 Axes>"
            ]
          },
          "metadata": {
            "tags": []
          }
        }
      ]
    },
    {
      "cell_type": "code",
      "metadata": {
        "colab_type": "code",
        "id": "1QhZsFpSBoPp",
        "colab": {
          "base_uri": "https://localhost:8080/",
          "height": 359
        },
        "outputId": "ed4d809a-e97a-4f96-c330-9b04ee2eda01"
      },
      "source": [
        "df=Sales_trainData[['item_id','unit_sales','onpromotion']]\n",
        "df=df.sort_values(by='unit_sales',ascending=True)\n",
        "df.head(10)"
      ],
      "execution_count": null,
      "outputs": [
        {
          "output_type": "execute_result",
          "data": {
            "text/html": [
              "<div>\n",
              "<style scoped>\n",
              "    .dataframe tbody tr th:only-of-type {\n",
              "        vertical-align: middle;\n",
              "    }\n",
              "\n",
              "    .dataframe tbody tr th {\n",
              "        vertical-align: top;\n",
              "    }\n",
              "\n",
              "    .dataframe thead th {\n",
              "        text-align: right;\n",
              "    }\n",
              "</style>\n",
              "<table border=\"1\" class=\"dataframe\">\n",
              "  <thead>\n",
              "    <tr style=\"text-align: right;\">\n",
              "      <th></th>\n",
              "      <th>item_id</th>\n",
              "      <th>unit_sales</th>\n",
              "      <th>onpromotion</th>\n",
              "    </tr>\n",
              "  </thead>\n",
              "  <tbody>\n",
              "    <tr>\n",
              "      <th>80458640</th>\n",
              "      <td>item_1695931</td>\n",
              "      <td>0.001</td>\n",
              "      <td>False</td>\n",
              "    </tr>\n",
              "    <tr>\n",
              "      <th>57978899</th>\n",
              "      <td>item_1695837</td>\n",
              "      <td>0.003</td>\n",
              "      <td>False</td>\n",
              "    </tr>\n",
              "    <tr>\n",
              "      <th>92931829</th>\n",
              "      <td>item_1751176</td>\n",
              "      <td>0.003</td>\n",
              "      <td>False</td>\n",
              "    </tr>\n",
              "    <tr>\n",
              "      <th>41930965</th>\n",
              "      <td>item_1109235</td>\n",
              "      <td>0.003</td>\n",
              "      <td>False</td>\n",
              "    </tr>\n",
              "    <tr>\n",
              "      <th>76520880</th>\n",
              "      <td>item_623317</td>\n",
              "      <td>0.003</td>\n",
              "      <td>False</td>\n",
              "    </tr>\n",
              "    <tr>\n",
              "      <th>74807304</th>\n",
              "      <td>item_1473486</td>\n",
              "      <td>0.004</td>\n",
              "      <td>False</td>\n",
              "    </tr>\n",
              "    <tr>\n",
              "      <th>49951846</th>\n",
              "      <td>item_311994</td>\n",
              "      <td>0.004</td>\n",
              "      <td>False</td>\n",
              "    </tr>\n",
              "    <tr>\n",
              "      <th>67716726</th>\n",
              "      <td>item_820003</td>\n",
              "      <td>0.005</td>\n",
              "      <td>False</td>\n",
              "    </tr>\n",
              "    <tr>\n",
              "      <th>82066064</th>\n",
              "      <td>item_1954663</td>\n",
              "      <td>0.005</td>\n",
              "      <td>False</td>\n",
              "    </tr>\n",
              "    <tr>\n",
              "      <th>82959554</th>\n",
              "      <td>item_1473484</td>\n",
              "      <td>0.006</td>\n",
              "      <td>True</td>\n",
              "    </tr>\n",
              "  </tbody>\n",
              "</table>\n",
              "</div>"
            ],
            "text/plain": [
              "               item_id  unit_sales onpromotion\n",
              "80458640  item_1695931       0.001       False\n",
              "57978899  item_1695837       0.003       False\n",
              "92931829  item_1751176       0.003       False\n",
              "41930965  item_1109235       0.003       False\n",
              "76520880   item_623317       0.003       False\n",
              "74807304  item_1473486       0.004       False\n",
              "49951846   item_311994       0.004       False\n",
              "67716726   item_820003       0.005       False\n",
              "82066064  item_1954663       0.005       False\n",
              "82959554  item_1473484       0.006        True"
            ]
          },
          "metadata": {
            "tags": []
          },
          "execution_count": 9
        }
      ]
    },
    {
      "cell_type": "markdown",
      "metadata": {
        "colab_type": "text",
        "id": "-P2vzohgDdO6"
      },
      "source": [
        "**How much sales happend at each of the location**\n",
        "\n",
        "The location_44 has generated highest sales followed by location_45, location_47"
      ]
    },
    {
      "cell_type": "code",
      "metadata": {
        "colab_type": "code",
        "id": "edYmYCoxDz_-",
        "colab": {
          "base_uri": "https://localhost:8080/",
          "height": 359
        },
        "outputId": "22230e91-1163-406f-be79-c675d293697b"
      },
      "source": [
        "plotdata = Sales_trainData.groupby(['locationId'])['unit_sales'].sum()\n",
        "plotdata = pd.DataFrame(plotdata)\n",
        "plotdata.reset_index(inplace=True)\n",
        "plotdata.nlargest(10, 'unit_sales')"
      ],
      "execution_count": null,
      "outputs": [
        {
          "output_type": "execute_result",
          "data": {
            "text/html": [
              "<div>\n",
              "<style scoped>\n",
              "    .dataframe tbody tr th:only-of-type {\n",
              "        vertical-align: middle;\n",
              "    }\n",
              "\n",
              "    .dataframe tbody tr th {\n",
              "        vertical-align: top;\n",
              "    }\n",
              "\n",
              "    .dataframe thead th {\n",
              "        text-align: right;\n",
              "    }\n",
              "</style>\n",
              "<table border=\"1\" class=\"dataframe\">\n",
              "  <thead>\n",
              "    <tr style=\"text-align: right;\">\n",
              "      <th></th>\n",
              "      <th>locationId</th>\n",
              "      <th>unit_sales</th>\n",
              "    </tr>\n",
              "  </thead>\n",
              "  <tbody>\n",
              "    <tr>\n",
              "      <th>38</th>\n",
              "      <td>location_44</td>\n",
              "      <td>5.169728e+07</td>\n",
              "    </tr>\n",
              "    <tr>\n",
              "      <th>39</th>\n",
              "      <td>location_45</td>\n",
              "      <td>4.493881e+07</td>\n",
              "    </tr>\n",
              "    <tr>\n",
              "      <th>41</th>\n",
              "      <td>location_47</td>\n",
              "      <td>4.196799e+07</td>\n",
              "    </tr>\n",
              "    <tr>\n",
              "      <th>22</th>\n",
              "      <td>location_3</td>\n",
              "      <td>4.185296e+07</td>\n",
              "    </tr>\n",
              "    <tr>\n",
              "      <th>43</th>\n",
              "      <td>location_49</td>\n",
              "      <td>3.511569e+07</td>\n",
              "    </tr>\n",
              "    <tr>\n",
              "      <th>40</th>\n",
              "      <td>location_46</td>\n",
              "      <td>3.473206e+07</td>\n",
              "    </tr>\n",
              "    <tr>\n",
              "      <th>42</th>\n",
              "      <td>location_48</td>\n",
              "      <td>2.997794e+07</td>\n",
              "    </tr>\n",
              "    <tr>\n",
              "      <th>46</th>\n",
              "      <td>location_51</td>\n",
              "      <td>2.759293e+07</td>\n",
              "    </tr>\n",
              "    <tr>\n",
              "      <th>51</th>\n",
              "      <td>location_8</td>\n",
              "      <td>2.524470e+07</td>\n",
              "    </tr>\n",
              "    <tr>\n",
              "      <th>45</th>\n",
              "      <td>location_50</td>\n",
              "      <td>2.378165e+07</td>\n",
              "    </tr>\n",
              "  </tbody>\n",
              "</table>\n",
              "</div>"
            ],
            "text/plain": [
              "     locationId    unit_sales\n",
              "38  location_44  5.169728e+07\n",
              "39  location_45  4.493881e+07\n",
              "41  location_47  4.196799e+07\n",
              "22   location_3  4.185296e+07\n",
              "43  location_49  3.511569e+07\n",
              "40  location_46  3.473206e+07\n",
              "42  location_48  2.997794e+07\n",
              "46  location_51  2.759293e+07\n",
              "51   location_8  2.524470e+07\n",
              "45  location_50  2.378165e+07"
            ]
          },
          "metadata": {
            "tags": []
          },
          "execution_count": 24
        }
      ]
    },
    {
      "cell_type": "code",
      "metadata": {
        "colab_type": "code",
        "id": "g0X8CofpD5gR",
        "colab": {
          "base_uri": "https://localhost:8080/",
          "height": 538
        },
        "outputId": "8607999a-ca44-488f-ffa9-e05583dcb113"
      },
      "source": [
        "plt.figure(figsize=(20,6))\n",
        "plt.title(\"Location-Wise Units_Sales, (2015-2018)\",fontsize=35)\n",
        "plot = sns.barplot(x='locationId', y='unit_sales', data=plotdata)\n",
        "plt.xticks(rotation='vertical')"
      ],
      "execution_count": null,
      "outputs": [
        {
          "output_type": "execute_result",
          "data": {
            "text/plain": [
              "(array([ 0,  1,  2,  3,  4,  5,  6,  7,  8,  9, 10, 11, 12, 13, 14, 15, 16,\n",
              "        17, 18, 19, 20, 21, 22, 23, 24, 25, 26, 27, 28, 29, 30, 31, 32, 33,\n",
              "        34, 35, 36, 37, 38, 39, 40, 41, 42, 43, 44, 45, 46, 47, 48, 49, 50,\n",
              "        51, 52]), <a list of 53 Text xticklabel objects>)"
            ]
          },
          "metadata": {
            "tags": []
          },
          "execution_count": 25
        },
        {
          "output_type": "display_data",
          "data": {
            "image/png": "[encoded data removed]",
            "text/plain": [
              "<Figure size 1440x432 with 1 Axes>"
            ]
          },
          "metadata": {
            "tags": []
          }
        }
      ]
    },
    {
      "cell_type": "code",
      "metadata": {
        "colab_type": "code",
        "id": "7CkG1dJ3D_Cn",
        "colab": {}
      },
      "source": [
        ""
      ],
      "execution_count": null,
      "outputs": []
    },
    {
      "cell_type": "markdown",
      "metadata": {
        "colab_type": "text",
        "id": "MUvk1O0GXU7_"
      },
      "source": [
        "# **Total Number of Items Across Each Category**"
      ]
    },
    {
      "cell_type": "code",
      "metadata": {
        "colab_type": "code",
        "id": "FnqYxIFjXnBn",
        "colab": {}
      },
      "source": [
        "Sales_agrregation=Sales_trainData.groupby(['category_of_item']).agg({\n",
        "    'item_id':'count'\n",
        "})"
      ],
      "execution_count": null,
      "outputs": []
    },
    {
      "cell_type": "code",
      "metadata": {
        "colab_type": "code",
        "id": "9ah9fy6FXzQY",
        "colab": {
          "base_uri": "https://localhost:8080/",
          "height": 390
        },
        "outputId": "2457c57c-43b4-45c8-a6fe-32f2360adc3d"
      },
      "source": [
        "Sales_agrregation.head(10)"
      ],
      "execution_count": null,
      "outputs": [
        {
          "output_type": "execute_result",
          "data": {
            "text/html": [
              "<div>\n",
              "<style scoped>\n",
              "    .dataframe tbody tr th:only-of-type {\n",
              "        vertical-align: middle;\n",
              "    }\n",
              "\n",
              "    .dataframe tbody tr th {\n",
              "        vertical-align: top;\n",
              "    }\n",
              "\n",
              "    .dataframe thead th {\n",
              "        text-align: right;\n",
              "    }\n",
              "</style>\n",
              "<table border=\"1\" class=\"dataframe\">\n",
              "  <thead>\n",
              "    <tr style=\"text-align: right;\">\n",
              "      <th></th>\n",
              "      <th>item_id</th>\n",
              "    </tr>\n",
              "    <tr>\n",
              "      <th>category_of_item</th>\n",
              "      <th></th>\n",
              "    </tr>\n",
              "  </thead>\n",
              "  <tbody>\n",
              "    <tr>\n",
              "      <th>baked_items / bread_based</th>\n",
              "      <td>3841977</td>\n",
              "    </tr>\n",
              "    <tr>\n",
              "      <th>beauty_products</th>\n",
              "      <td>143649</td>\n",
              "    </tr>\n",
              "    <tr>\n",
              "      <th>beverages</th>\n",
              "      <td>13757701</td>\n",
              "    </tr>\n",
              "    <tr>\n",
              "      <th>cleaning_utilities</th>\n",
              "      <td>14254926</td>\n",
              "    </tr>\n",
              "    <tr>\n",
              "      <th>dairy_items</th>\n",
              "      <td>7273847</td>\n",
              "    </tr>\n",
              "    <tr>\n",
              "      <th>deli_items</th>\n",
              "      <td>3447747</td>\n",
              "    </tr>\n",
              "    <tr>\n",
              "      <th>eggs</th>\n",
              "      <td>1338722</td>\n",
              "    </tr>\n",
              "    <tr>\n",
              "      <th>frozen_food</th>\n",
              "      <td>1304007</td>\n",
              "    </tr>\n",
              "    <tr>\n",
              "      <th>grocery_items</th>\n",
              "      <td>37436787</td>\n",
              "    </tr>\n",
              "    <tr>\n",
              "      <th>grocery_items_2</th>\n",
              "      <td>239148</td>\n",
              "    </tr>\n",
              "  </tbody>\n",
              "</table>\n",
              "</div>"
            ],
            "text/plain": [
              "                            item_id\n",
              "category_of_item                   \n",
              "baked_items / bread_based   3841977\n",
              "beauty_products              143649\n",
              "beverages                  13757701\n",
              "cleaning_utilities         14254926\n",
              "dairy_items                 7273847\n",
              "deli_items                  3447747\n",
              "eggs                        1338722\n",
              "frozen_food                 1304007\n",
              "grocery_items              37436787\n",
              "grocery_items_2              239148"
            ]
          },
          "metadata": {
            "tags": []
          },
          "execution_count": 12
        }
      ]
    },
    {
      "cell_type": "code",
      "metadata": {
        "colab_type": "code",
        "id": "tNkpiC6iYC3p",
        "colab": {
          "base_uri": "https://localhost:8080/",
          "height": 608
        },
        "outputId": "ced22c3d-e773-42f1-a738-cbaa1ff5113d"
      },
      "source": [
        "Sales_agrregation.plot(kind='bar', legend=False, width=0.8, figsize=(20,7))\n",
        "plt.title(\"Total Number of Items Across Each_item Category, (2015-2018)\",fontsize=20)\n",
        "sns.barplot(x=Sales_agrregation.index,y=Sales_agrregation.item_id,data=Sales_agrregation)"
      ],
      "execution_count": null,
      "outputs": [
        {
          "output_type": "execute_result",
          "data": {
            "text/plain": [
              "<matplotlib.axes._subplots.AxesSubplot at 0x7efd3ae01fd0>"
            ]
          },
          "metadata": {
            "tags": []
          },
          "execution_count": 34
        },
        {
          "output_type": "display_data",
          "data": {
            "image/png": "[encoded data removed]",
            "text/plain": [
              "<Figure size 1440x504 with 1 Axes>"
            ]
          },
          "metadata": {
            "tags": []
          }
        }
      ]
    },
    {
      "cell_type": "markdown",
      "metadata": {
        "colab_type": "text",
        "id": "fULGzW6wFzbW"
      },
      "source": [
        "**What is the popular item based on unit sales and its corresponding category**\n",
        "\n",
        "grocery_items and beverages are the most popular categor_items sold among the the top category items sold from the Small basket retailer."
      ]
    },
    {
      "cell_type": "code",
      "metadata": {
        "colab_type": "code",
        "id": "8dyM-T0xGUzr",
        "colab": {
          "base_uri": "https://localhost:8080/",
          "height": 359
        },
        "outputId": "c795a3d4-a165-44fa-b2b7-261c5568277b"
      },
      "source": [
        "plotdata = Sales_trainData.groupby(['item_id','category_of_item'])['unit_sales'].sum()\n",
        "plotdata = pd.DataFrame(plotdata)\n",
        "plotdata.reset_index(inplace=True)\n",
        "plotdata.nlargest(10, 'unit_sales')"
      ],
      "execution_count": null,
      "outputs": [
        {
          "output_type": "execute_result",
          "data": {
            "text/html": [
              "<div>\n",
              "<style scoped>\n",
              "    .dataframe tbody tr th:only-of-type {\n",
              "        vertical-align: middle;\n",
              "    }\n",
              "\n",
              "    .dataframe tbody tr th {\n",
              "        vertical-align: top;\n",
              "    }\n",
              "\n",
              "    .dataframe thead th {\n",
              "        text-align: right;\n",
              "    }\n",
              "</style>\n",
              "<table border=\"1\" class=\"dataframe\">\n",
              "  <thead>\n",
              "    <tr style=\"text-align: right;\">\n",
              "      <th></th>\n",
              "      <th>item_id</th>\n",
              "      <th>category_of_item</th>\n",
              "      <th>unit_sales</th>\n",
              "    </tr>\n",
              "  </thead>\n",
              "  <tbody>\n",
              "    <tr>\n",
              "      <th>44932</th>\n",
              "      <td>item_1503844</td>\n",
              "      <td>other_farm_produce</td>\n",
              "      <td>4.844463e+06</td>\n",
              "    </tr>\n",
              "    <tr>\n",
              "      <th>2222</th>\n",
              "      <td>item_1047679</td>\n",
              "      <td>beverages</td>\n",
              "      <td>4.806317e+06</td>\n",
              "    </tr>\n",
              "    <tr>\n",
              "      <th>105392</th>\n",
              "      <td>item_807493</td>\n",
              "      <td>beverages</td>\n",
              "      <td>4.072461e+06</td>\n",
              "    </tr>\n",
              "    <tr>\n",
              "      <th>87068</th>\n",
              "      <td>item_364606</td>\n",
              "      <td>grocery_items</td>\n",
              "      <td>3.944432e+06</td>\n",
              "    </tr>\n",
              "    <tr>\n",
              "      <th>42832</th>\n",
              "      <td>item_1473474</td>\n",
              "      <td>other_farm_produce</td>\n",
              "      <td>3.875422e+06</td>\n",
              "    </tr>\n",
              "    <tr>\n",
              "      <th>106262</th>\n",
              "      <td>item_819932</td>\n",
              "      <td>beverages</td>\n",
              "      <td>3.628822e+06</td>\n",
              "    </tr>\n",
              "    <tr>\n",
              "      <th>82478</th>\n",
              "      <td>item_265559</td>\n",
              "      <td>grocery_items</td>\n",
              "      <td>3.578641e+06</td>\n",
              "    </tr>\n",
              "    <tr>\n",
              "      <th>38672</th>\n",
              "      <td>item_1463992</td>\n",
              "      <td>beverages</td>\n",
              "      <td>3.461641e+06</td>\n",
              "    </tr>\n",
              "    <tr>\n",
              "      <th>95018</th>\n",
              "      <td>item_559870</td>\n",
              "      <td>grocery_items</td>\n",
              "      <td>3.254170e+06</td>\n",
              "    </tr>\n",
              "    <tr>\n",
              "      <th>92490</th>\n",
              "      <td>item_502331</td>\n",
              "      <td>baked_items / bread_based</td>\n",
              "      <td>3.245100e+06</td>\n",
              "    </tr>\n",
              "  </tbody>\n",
              "</table>\n",
              "</div>"
            ],
            "text/plain": [
              "             item_id           category_of_item    unit_sales\n",
              "44932   item_1503844         other_farm_produce  4.844463e+06\n",
              "2222    item_1047679                  beverages  4.806317e+06\n",
              "105392   item_807493                  beverages  4.072461e+06\n",
              "87068    item_364606              grocery_items  3.944432e+06\n",
              "42832   item_1473474         other_farm_produce  3.875422e+06\n",
              "106262   item_819932                  beverages  3.628822e+06\n",
              "82478    item_265559              grocery_items  3.578641e+06\n",
              "38672   item_1463992                  beverages  3.461641e+06\n",
              "95018    item_559870              grocery_items  3.254170e+06\n",
              "92490    item_502331  baked_items / bread_based  3.245100e+06"
            ]
          },
          "metadata": {
            "tags": []
          },
          "execution_count": 16
        }
      ]
    },
    {
      "cell_type": "markdown",
      "metadata": {
        "colab_type": "text",
        "id": "C-Gv0DE3HmWf"
      },
      "source": [
        "## **How are the sales for Perishable and non-perishable goods?**\n",
        "\n",
        "The unit sales for non-perishable goods are more than perishable goods."
      ]
    },
    {
      "cell_type": "code",
      "metadata": {
        "colab_type": "code",
        "id": "mZUhbgM8H7uY",
        "colab": {
          "base_uri": "https://localhost:8080/",
          "height": 477
        },
        "outputId": "f22babcd-bf2a-4d79-b11c-4d80d26a8c83"
      },
      "source": [
        "plotdata = Sales_trainData.groupby(['perishable'])['unit_sales'].sum()\n",
        "plotdata = pd.DataFrame(plotdata)\n",
        "plotdata.reset_index(inplace=True)\n",
        "plt.figure(figsize=(8,7))\n",
        "plt.title(\"Total Unit_sales sold for Perishable and Non-Perishable Items\",fontsize=15)\n",
        "sns.barplot(x='perishable', y='unit_sales', data=plotdata)"
      ],
      "execution_count": null,
      "outputs": [
        {
          "output_type": "execute_result",
          "data": {
            "text/plain": [
              "<matplotlib.axes._subplots.AxesSubplot at 0x7efd3ae3b080>"
            ]
          },
          "metadata": {
            "tags": []
          },
          "execution_count": 33
        },
        {
          "output_type": "display_data",
          "data": {
            "image/png": "[encoded data removed]",
            "text/plain": [
              "<Figure size 576x504 with 1 Axes>"
            ]
          },
          "metadata": {
            "tags": []
          }
        }
      ]
    },
    {
      "cell_type": "markdown",
      "metadata": {
        "colab_type": "text",
        "id": "1yTO---2lC2J"
      },
      "source": [
        "# Part 3: Model Building"
      ]
    },
    {
      "cell_type": "markdown",
      "metadata": {
        "colab_type": "text",
        "id": "4lbWzUj7TRlO"
      },
      "source": [
        "## **Linear Regression**"
      ]
    },
    {
      "cell_type": "code",
      "metadata": {
        "colab_type": "code",
        "id": "i2-V8xLTS5V3",
        "colab": {}
      },
      "source": [
        "####Loading the train_data file\n",
        "train_data = readPickleFile('train_data')"
      ],
      "execution_count": null,
      "outputs": []
    },
    {
      "cell_type": "markdown",
      "metadata": {
        "colab_type": "text",
        "id": "G_UzwI5T_xmp"
      },
      "source": [
        "#Describing about the data"
      ]
    },
    {
      "cell_type": "code",
      "metadata": {
        "colab_type": "code",
        "id": "Y-yjW0rAXT6d",
        "colab": {
          "base_uri": "https://localhost:8080/",
          "height": 142
        },
        "outputId": "152e7076-0e5c-4d5c-dd5c-b8952b74259d"
      },
      "source": [
        "train_data.head(3)"
      ],
      "execution_count": null,
      "outputs": [
        {
          "output_type": "execute_result",
          "data": {
            "text/html": [
              "<div>\n",
              "<style scoped>\n",
              "    .dataframe tbody tr th:only-of-type {\n",
              "        vertical-align: middle;\n",
              "    }\n",
              "\n",
              "    .dataframe tbody tr th {\n",
              "        vertical-align: top;\n",
              "    }\n",
              "\n",
              "    .dataframe thead th {\n",
              "        text-align: right;\n",
              "    }\n",
              "</style>\n",
              "<table border=\"1\" class=\"dataframe\">\n",
              "  <thead>\n",
              "    <tr style=\"text-align: right;\">\n",
              "      <th></th>\n",
              "      <th>date</th>\n",
              "      <th>locationId</th>\n",
              "      <th>item_id</th>\n",
              "      <th>unit_sales</th>\n",
              "      <th>onpromotion</th>\n",
              "    </tr>\n",
              "  </thead>\n",
              "  <tbody>\n",
              "    <tr>\n",
              "      <th>0</th>\n",
              "      <td>2015-01-01</td>\n",
              "      <td>location_25</td>\n",
              "      <td>item_103665</td>\n",
              "      <td>7.0</td>\n",
              "      <td>NaN</td>\n",
              "    </tr>\n",
              "    <tr>\n",
              "      <th>1</th>\n",
              "      <td>2015-01-01</td>\n",
              "      <td>location_25</td>\n",
              "      <td>item_105574</td>\n",
              "      <td>1.0</td>\n",
              "      <td>NaN</td>\n",
              "    </tr>\n",
              "    <tr>\n",
              "      <th>2</th>\n",
              "      <td>2015-01-01</td>\n",
              "      <td>location_25</td>\n",
              "      <td>item_105575</td>\n",
              "      <td>2.0</td>\n",
              "      <td>NaN</td>\n",
              "    </tr>\n",
              "  </tbody>\n",
              "</table>\n",
              "</div>"
            ],
            "text/plain": [
              "        date   locationId      item_id  unit_sales onpromotion\n",
              "0 2015-01-01  location_25  item_103665         7.0         NaN\n",
              "1 2015-01-01  location_25  item_105574         1.0         NaN\n",
              "2 2015-01-01  location_25  item_105575         2.0         NaN"
            ]
          },
          "metadata": {
            "tags": []
          },
          "execution_count": 14
        }
      ]
    },
    {
      "cell_type": "code",
      "metadata": {
        "colab_type": "code",
        "id": "8aiYT9SGXush",
        "colab": {
          "base_uri": "https://localhost:8080/",
          "height": 34
        },
        "outputId": "a69c2988-353c-460a-dc4b-a08cbead52a2"
      },
      "source": [
        "train_data.shape"
      ],
      "execution_count": null,
      "outputs": [
        {
          "output_type": "execute_result",
          "data": {
            "text/plain": [
              "(101678735, 5)"
            ]
          },
          "metadata": {
            "tags": []
          },
          "execution_count": 15
        }
      ]
    },
    {
      "cell_type": "code",
      "metadata": {
        "colab_type": "code",
        "id": "bkhDTl8cXzHq",
        "colab": {
          "base_uri": "https://localhost:8080/",
          "height": 119
        },
        "outputId": "443d8b18-75c3-4e2d-f494-93dcbfb121fa"
      },
      "source": [
        "train_data.dtypes"
      ],
      "execution_count": null,
      "outputs": [
        {
          "output_type": "execute_result",
          "data": {
            "text/plain": [
              "date           datetime64[ns]\n",
              "locationId           category\n",
              "item_id              category\n",
              "unit_sales            float64\n",
              "onpromotion          category\n",
              "dtype: object"
            ]
          },
          "metadata": {
            "tags": []
          },
          "execution_count": 16
        }
      ]
    },
    {
      "cell_type": "code",
      "metadata": {
        "colab_type": "code",
        "id": "dcR_PjAsX2vQ",
        "colab": {}
      },
      "source": [
        "##Removing th duplicates of the train data\n",
        "train_data=train_data.drop_duplicates()"
      ],
      "execution_count": null,
      "outputs": []
    },
    {
      "cell_type": "code",
      "metadata": {
        "colab_type": "code",
        "id": "CHH_e-v_X97V",
        "colab": {
          "base_uri": "https://localhost:8080/",
          "height": 34
        },
        "outputId": "f545cee8-2490-467f-c67a-88befbf2f2f6"
      },
      "source": [
        "train_data.shape"
      ],
      "execution_count": null,
      "outputs": [
        {
          "output_type": "execute_result",
          "data": {
            "text/plain": [
              "(101678735, 5)"
            ]
          },
          "metadata": {
            "tags": []
          },
          "execution_count": 18
        }
      ]
    },
    {
      "cell_type": "code",
      "metadata": {
        "colab_type": "code",
        "id": "BoSEd_BrZBo9",
        "colab": {
          "base_uri": "https://localhost:8080/",
          "height": 119
        },
        "outputId": "5d22cb2c-7dc4-4134-e589-41ce87bfdb45"
      },
      "source": [
        "train_data.isna().sum()"
      ],
      "execution_count": null,
      "outputs": [
        {
          "output_type": "execute_result",
          "data": {
            "text/plain": [
              "date                  0\n",
              "locationId            0\n",
              "item_id               0\n",
              "unit_sales            0\n",
              "onpromotion    21657651\n",
              "dtype: int64"
            ]
          },
          "metadata": {
            "tags": []
          },
          "execution_count": 19
        }
      ]
    },
    {
      "cell_type": "code",
      "metadata": {
        "colab_type": "code",
        "id": "tle6v9ZJZjoB",
        "colab": {}
      },
      "source": [
        "## Filling the 'NA' values in onprmotion column with False\n",
        "train_data['onpromotion'] = train_data['onpromotion'].fillna(False)"
      ],
      "execution_count": null,
      "outputs": []
    },
    {
      "cell_type": "code",
      "metadata": {
        "colab_type": "code",
        "id": "uZyZYts-Z7gD",
        "colab": {
          "base_uri": "https://localhost:8080/",
          "height": 119
        },
        "outputId": "88a60fa5-8988-475f-93c9-9fd3c2dca796"
      },
      "source": [
        "train_data.isna().sum()"
      ],
      "execution_count": null,
      "outputs": [
        {
          "output_type": "execute_result",
          "data": {
            "text/plain": [
              "date           0\n",
              "locationId     0\n",
              "item_id        0\n",
              "unit_sales     0\n",
              "onpromotion    0\n",
              "dtype: int64"
            ]
          },
          "metadata": {
            "tags": []
          },
          "execution_count": 21
        }
      ]
    },
    {
      "cell_type": "code",
      "metadata": {
        "colab_type": "code",
        "id": "DStz5wK_DCCz",
        "colab": {}
      },
      "source": [
        "### Writing the preprocess train_data file into train_data_preprocess pickle file for further use \n",
        "pickleFileDump('train_data_Preprocess',train_data)"
      ],
      "execution_count": null,
      "outputs": []
    },
    {
      "cell_type": "code",
      "metadata": {
        "colab_type": "code",
        "id": "1wIoXhycaZtV",
        "colab": {
          "base_uri": "https://localhost:8080/",
          "height": 153
        },
        "outputId": "e2b2a579-70ad-4d52-fdb9-6f6a89c26833"
      },
      "source": [
        "ls"
      ],
      "execution_count": null,
      "outputs": [
        {
          "output_type": "stream",
          "text": [
            "EDA.ipynb             \u001b[0m\u001b[01;34mPickled_files\u001b[0m/         train_transactions\n",
            "FinalDataset          salesData              train_transactions.csv\n",
            "item_data             test.csv               unit_sales_predc.csv\n",
            "item_details.csv      test_data              X_test\n",
            "location_data         train.csv              X_train\n",
            "location_details.csv  train_data             y_test\n",
            "merge1                train_data_Preprocess  y_train\n",
            "merge2                train_locations_items\n"
          ],
          "name": "stdout"
        }
      ]
    },
    {
      "cell_type": "code",
      "metadata": {
        "colab_type": "code",
        "id": "4ilRCRBcr6k7",
        "colab": {}
      },
      "source": [
        "train_data = readPickleFile('train_data_Preprocess')"
      ],
      "execution_count": 38,
      "outputs": []
    },
    {
      "cell_type": "code",
      "metadata": {
        "colab_type": "code",
        "id": "62ZbF_CSalsl",
        "colab": {}
      },
      "source": [
        "###Sampling the train_data only for the last two years (2017-2018)\n",
        "train_data=train_data[train_data['date']>='2017-01-01']"
      ],
      "execution_count": 39,
      "outputs": []
    },
    {
      "cell_type": "code",
      "metadata": {
        "colab_type": "code",
        "id": "vc2_NGU5bKs9",
        "colab": {
          "base_uri": "https://localhost:8080/",
          "height": 34
        },
        "outputId": "adf8efb1-70e5-461e-9680-dc85108d0163"
      },
      "source": [
        "train_data.shape"
      ],
      "execution_count": 40,
      "outputs": [
        {
          "output_type": "execute_result",
          "data": {
            "text/plain": [
              "(63084471, 5)"
            ]
          },
          "metadata": {
            "tags": []
          },
          "execution_count": 40
        }
      ]
    },
    {
      "cell_type": "code",
      "metadata": {
        "colab_type": "code",
        "id": "bV0s_IYkbPRX",
        "colab": {
          "base_uri": "https://localhost:8080/",
          "height": 119
        },
        "outputId": "4c6daf88-104b-45d0-9bd8-a9358a4b1b4f"
      },
      "source": [
        "train_data.dtypes"
      ],
      "execution_count": 14,
      "outputs": [
        {
          "output_type": "execute_result",
          "data": {
            "text/plain": [
              "date           datetime64[ns]\n",
              "locationId           category\n",
              "item_id              category\n",
              "unit_sales            float64\n",
              "onpromotion          category\n",
              "dtype: object"
            ]
          },
          "metadata": {
            "tags": []
          },
          "execution_count": 14
        }
      ]
    },
    {
      "cell_type": "code",
      "metadata": {
        "colab_type": "code",
        "id": "55ONcidHsoAd",
        "colab": {
          "base_uri": "https://localhost:8080/",
          "height": 119
        },
        "outputId": "256edc86-ba1a-4ddd-fe05-84aa43e17f97"
      },
      "source": [
        "train_data.dtypes"
      ],
      "execution_count": null,
      "outputs": [
        {
          "output_type": "execute_result",
          "data": {
            "text/plain": [
              "date           datetime64[ns]\n",
              "locationId           category\n",
              "item_id              category\n",
              "unit_sales            float64\n",
              "onpromotion          category\n",
              "dtype: object"
            ]
          },
          "metadata": {
            "tags": []
          },
          "execution_count": 26
        }
      ]
    },
    {
      "cell_type": "code",
      "metadata": {
        "colab_type": "code",
        "id": "sqDC7RMhfLUb",
        "colab": {}
      },
      "source": [
        "### Loading the supplied input test data\n",
        "test_data = pd.read_csv(\"test.csv\",header='infer',sep=',')"
      ],
      "execution_count": 41,
      "outputs": []
    },
    {
      "cell_type": "code",
      "metadata": {
        "colab_type": "code",
        "id": "GUWc0XE8faff",
        "colab": {
          "base_uri": "https://localhost:8080/",
          "height": 119
        },
        "outputId": "d2829ff1-897f-4c06-ee03-b46c82ef80bc"
      },
      "source": [
        "test_data.dtypes"
      ],
      "execution_count": null,
      "outputs": [
        {
          "output_type": "execute_result",
          "data": {
            "text/plain": [
              "id              int64\n",
              "date           object\n",
              "locationId     object\n",
              "item_id        object\n",
              "onpromotion      bool\n",
              "dtype: object"
            ]
          },
          "metadata": {
            "tags": []
          },
          "execution_count": 28
        }
      ]
    },
    {
      "cell_type": "code",
      "metadata": {
        "colab_type": "code",
        "id": "oaY_5slAfkXO",
        "colab": {}
      },
      "source": [
        "dtypeConversion(test_data)"
      ],
      "execution_count": null,
      "outputs": []
    },
    {
      "cell_type": "code",
      "metadata": {
        "colab_type": "code",
        "id": "7TAb7GOCf7ni",
        "colab": {}
      },
      "source": [
        "test_data['date']=test_data['date'].astype('datetime64[ns]')"
      ],
      "execution_count": null,
      "outputs": []
    },
    {
      "cell_type": "code",
      "metadata": {
        "colab_type": "code",
        "id": "IwBcagIdgNhS",
        "colab": {
          "base_uri": "https://localhost:8080/",
          "height": 119
        },
        "outputId": "909cfb19-c6d7-401b-fd2d-383bbb867ac4"
      },
      "source": [
        "test_data.dtypes"
      ],
      "execution_count": null,
      "outputs": [
        {
          "output_type": "execute_result",
          "data": {
            "text/plain": [
              "id                      int64\n",
              "date           datetime64[ns]\n",
              "locationId           category\n",
              "item_id              category\n",
              "onpromotion              bool\n",
              "dtype: object"
            ]
          },
          "metadata": {
            "tags": []
          },
          "execution_count": 33
        }
      ]
    },
    {
      "cell_type": "code",
      "metadata": {
        "colab_type": "code",
        "id": "lYfKJrkrgY4u",
        "colab": {}
      },
      "source": [
        "## Write a pickle file for the test data with data preprocessing steps done.\n",
        "pickleFileDump('test_data',test_data)"
      ],
      "execution_count": null,
      "outputs": []
    },
    {
      "cell_type": "code",
      "metadata": {
        "colab_type": "code",
        "id": "nAC6w6cOgeU7",
        "colab": {
          "base_uri": "https://localhost:8080/",
          "height": 119
        },
        "outputId": "fb4e0b6c-7380-48f3-95bf-e6780194d8c9"
      },
      "source": [
        "ls"
      ],
      "execution_count": null,
      "outputs": [
        {
          "output_type": "stream",
          "text": [
            "EDA.ipynb             merge1          train_data\n",
            "FinalDataset          merge2          train_data_Preprocess\n",
            "item_data             \u001b[0m\u001b[01;34mPickled_files\u001b[0m/  train_locations_items\n",
            "item_details.csv      test.csv        train_transactions\n",
            "location_data         test_data       train_transactions.csv\n",
            "location_details.csv  train.csv\n"
          ],
          "name": "stdout"
        }
      ]
    },
    {
      "cell_type": "code",
      "metadata": {
        "colab_type": "code",
        "id": "wzXXWYqngmWo",
        "colab": {
          "base_uri": "https://localhost:8080/",
          "height": 452
        },
        "outputId": "054a4329-5a0b-4396-a2c0-22e8bfb04f01"
      },
      "source": [
        "test_data.describe(include = 'all')"
      ],
      "execution_count": null,
      "outputs": [
        {
          "output_type": "execute_result",
          "data": {
            "text/html": [
              "<div>\n",
              "<style scoped>\n",
              "    .dataframe tbody tr th:only-of-type {\n",
              "        vertical-align: middle;\n",
              "    }\n",
              "\n",
              "    .dataframe tbody tr th {\n",
              "        vertical-align: top;\n",
              "    }\n",
              "\n",
              "    .dataframe thead th {\n",
              "        text-align: right;\n",
              "    }\n",
              "</style>\n",
              "<table border=\"1\" class=\"dataframe\">\n",
              "  <thead>\n",
              "    <tr style=\"text-align: right;\">\n",
              "      <th></th>\n",
              "      <th>id</th>\n",
              "      <th>date</th>\n",
              "      <th>locationId</th>\n",
              "      <th>item_id</th>\n",
              "      <th>onpromotion</th>\n",
              "    </tr>\n",
              "  </thead>\n",
              "  <tbody>\n",
              "    <tr>\n",
              "      <th>count</th>\n",
              "      <td>1.482295e+06</td>\n",
              "      <td>1482295</td>\n",
              "      <td>1482295</td>\n",
              "      <td>1482295</td>\n",
              "      <td>1482295</td>\n",
              "    </tr>\n",
              "    <tr>\n",
              "      <th>unique</th>\n",
              "      <td>NaN</td>\n",
              "      <td>15</td>\n",
              "      <td>53</td>\n",
              "      <td>3828</td>\n",
              "      <td>2</td>\n",
              "    </tr>\n",
              "    <tr>\n",
              "      <th>top</th>\n",
              "      <td>NaN</td>\n",
              "      <td>2019-01-02 00:00:00</td>\n",
              "      <td>location_44</td>\n",
              "      <td>item_222879</td>\n",
              "      <td>False</td>\n",
              "    </tr>\n",
              "    <tr>\n",
              "      <th>freq</th>\n",
              "      <td>NaN</td>\n",
              "      <td>114225</td>\n",
              "      <td>40028</td>\n",
              "      <td>742</td>\n",
              "      <td>1301444</td>\n",
              "    </tr>\n",
              "    <tr>\n",
              "      <th>first</th>\n",
              "      <td>NaN</td>\n",
              "      <td>2019-01-01 00:00:00</td>\n",
              "      <td>NaN</td>\n",
              "      <td>NaN</td>\n",
              "      <td>NaN</td>\n",
              "    </tr>\n",
              "    <tr>\n",
              "      <th>last</th>\n",
              "      <td>NaN</td>\n",
              "      <td>2019-01-15 00:00:00</td>\n",
              "      <td>NaN</td>\n",
              "      <td>NaN</td>\n",
              "      <td>NaN</td>\n",
              "    </tr>\n",
              "    <tr>\n",
              "      <th>mean</th>\n",
              "      <td>7.411470e+05</td>\n",
              "      <td>NaN</td>\n",
              "      <td>NaN</td>\n",
              "      <td>NaN</td>\n",
              "      <td>NaN</td>\n",
              "    </tr>\n",
              "    <tr>\n",
              "      <th>std</th>\n",
              "      <td>4.279019e+05</td>\n",
              "      <td>NaN</td>\n",
              "      <td>NaN</td>\n",
              "      <td>NaN</td>\n",
              "      <td>NaN</td>\n",
              "    </tr>\n",
              "    <tr>\n",
              "      <th>min</th>\n",
              "      <td>0.000000e+00</td>\n",
              "      <td>NaN</td>\n",
              "      <td>NaN</td>\n",
              "      <td>NaN</td>\n",
              "      <td>NaN</td>\n",
              "    </tr>\n",
              "    <tr>\n",
              "      <th>25%</th>\n",
              "      <td>3.705735e+05</td>\n",
              "      <td>NaN</td>\n",
              "      <td>NaN</td>\n",
              "      <td>NaN</td>\n",
              "      <td>NaN</td>\n",
              "    </tr>\n",
              "    <tr>\n",
              "      <th>50%</th>\n",
              "      <td>7.411470e+05</td>\n",
              "      <td>NaN</td>\n",
              "      <td>NaN</td>\n",
              "      <td>NaN</td>\n",
              "      <td>NaN</td>\n",
              "    </tr>\n",
              "    <tr>\n",
              "      <th>75%</th>\n",
              "      <td>1.111720e+06</td>\n",
              "      <td>NaN</td>\n",
              "      <td>NaN</td>\n",
              "      <td>NaN</td>\n",
              "      <td>NaN</td>\n",
              "    </tr>\n",
              "    <tr>\n",
              "      <th>max</th>\n",
              "      <td>1.482294e+06</td>\n",
              "      <td>NaN</td>\n",
              "      <td>NaN</td>\n",
              "      <td>NaN</td>\n",
              "      <td>NaN</td>\n",
              "    </tr>\n",
              "  </tbody>\n",
              "</table>\n",
              "</div>"
            ],
            "text/plain": [
              "                  id                 date   locationId      item_id onpromotion\n",
              "count   1.482295e+06              1482295      1482295      1482295     1482295\n",
              "unique           NaN                   15           53         3828           2\n",
              "top              NaN  2019-01-02 00:00:00  location_44  item_222879       False\n",
              "freq             NaN               114225        40028          742     1301444\n",
              "first            NaN  2019-01-01 00:00:00          NaN          NaN         NaN\n",
              "last             NaN  2019-01-15 00:00:00          NaN          NaN         NaN\n",
              "mean    7.411470e+05                  NaN          NaN          NaN         NaN\n",
              "std     4.279019e+05                  NaN          NaN          NaN         NaN\n",
              "min     0.000000e+00                  NaN          NaN          NaN         NaN\n",
              "25%     3.705735e+05                  NaN          NaN          NaN         NaN\n",
              "50%     7.411470e+05                  NaN          NaN          NaN         NaN\n",
              "75%     1.111720e+06                  NaN          NaN          NaN         NaN\n",
              "max     1.482294e+06                  NaN          NaN          NaN         NaN"
            ]
          },
          "metadata": {
            "tags": []
          },
          "execution_count": 40
        }
      ]
    },
    {
      "cell_type": "code",
      "metadata": {
        "colab_type": "code",
        "id": "hTJ82Qs-gyrw",
        "colab": {
          "base_uri": "https://localhost:8080/",
          "height": 34
        },
        "outputId": "7b3c2fb9-272e-474a-9890-1d7fa803ea34"
      },
      "source": [
        "test_data['item_id'].nunique()"
      ],
      "execution_count": null,
      "outputs": [
        {
          "output_type": "execute_result",
          "data": {
            "text/plain": [
              "3828"
            ]
          },
          "metadata": {
            "tags": []
          },
          "execution_count": 41
        }
      ]
    },
    {
      "cell_type": "code",
      "metadata": {
        "colab_type": "code",
        "id": "VIV-vNaWg9cJ",
        "colab": {
          "base_uri": "https://localhost:8080/",
          "height": 34
        },
        "outputId": "ebe47672-f774-42e2-8899-4e4862b7b156"
      },
      "source": [
        "train_data['item_id'].nunique()"
      ],
      "execution_count": null,
      "outputs": [
        {
          "output_type": "execute_result",
          "data": {
            "text/plain": [
              "3887"
            ]
          },
          "metadata": {
            "tags": []
          },
          "execution_count": 42
        }
      ]
    },
    {
      "cell_type": "code",
      "metadata": {
        "colab_type": "code",
        "id": "-AQGzymzbXG-",
        "colab": {}
      },
      "source": [
        "## Feature Engineering by adding month, year and weekdays\n",
        "train_data['date'] = pd.to_datetime(train_data['date'], format='%Y.%m.%d')\n",
        "train_data['month'] = train_data['date'].dt.month\n",
        "train_data['year'] = train_data['date'].dt.year\n",
        "train_data['weekday'] = train_data['date'].dt.day"
      ],
      "execution_count": 42,
      "outputs": []
    },
    {
      "cell_type": "code",
      "metadata": {
        "colab_type": "code",
        "id": "22Dwibfabs2K",
        "colab": {
          "base_uri": "https://localhost:8080/",
          "height": 80
        },
        "outputId": "acf5e07c-41a2-450e-d5a7-a4c8e6f61125"
      },
      "source": [
        "train_data.head(1)"
      ],
      "execution_count": 43,
      "outputs": [
        {
          "output_type": "execute_result",
          "data": {
            "text/html": [
              "<div>\n",
              "<style scoped>\n",
              "    .dataframe tbody tr th:only-of-type {\n",
              "        vertical-align: middle;\n",
              "    }\n",
              "\n",
              "    .dataframe tbody tr th {\n",
              "        vertical-align: top;\n",
              "    }\n",
              "\n",
              "    .dataframe thead th {\n",
              "        text-align: right;\n",
              "    }\n",
              "</style>\n",
              "<table border=\"1\" class=\"dataframe\">\n",
              "  <thead>\n",
              "    <tr style=\"text-align: right;\">\n",
              "      <th></th>\n",
              "      <th>date</th>\n",
              "      <th>locationId</th>\n",
              "      <th>item_id</th>\n",
              "      <th>unit_sales</th>\n",
              "      <th>onpromotion</th>\n",
              "      <th>month</th>\n",
              "      <th>year</th>\n",
              "      <th>weekday</th>\n",
              "    </tr>\n",
              "  </thead>\n",
              "  <tbody>\n",
              "    <tr>\n",
              "      <th>38594264</th>\n",
              "      <td>2017-01-01</td>\n",
              "      <td>location_25</td>\n",
              "      <td>item_103665</td>\n",
              "      <td>12.0</td>\n",
              "      <td>False</td>\n",
              "      <td>1</td>\n",
              "      <td>2017</td>\n",
              "      <td>1</td>\n",
              "    </tr>\n",
              "  </tbody>\n",
              "</table>\n",
              "</div>"
            ],
            "text/plain": [
              "               date   locationId      item_id  ...  month  year  weekday\n",
              "38594264 2017-01-01  location_25  item_103665  ...      1  2017        1\n",
              "\n",
              "[1 rows x 8 columns]"
            ]
          },
          "metadata": {
            "tags": []
          },
          "execution_count": 43
        }
      ]
    },
    {
      "cell_type": "code",
      "metadata": {
        "colab_type": "code",
        "id": "dMQYi15Ab1Vl",
        "colab": {
          "base_uri": "https://localhost:8080/",
          "height": 170
        },
        "outputId": "24d8f0ff-b3dc-4da1-fd9a-9906f3e9bac0"
      },
      "source": [
        "train_data.dtypes"
      ],
      "execution_count": 17,
      "outputs": [
        {
          "output_type": "execute_result",
          "data": {
            "text/plain": [
              "date           datetime64[ns]\n",
              "locationId           category\n",
              "item_id              category\n",
              "unit_sales            float64\n",
              "onpromotion          category\n",
              "month                   int64\n",
              "year                    int64\n",
              "weekday                 int64\n",
              "dtype: object"
            ]
          },
          "metadata": {
            "tags": []
          },
          "execution_count": 17
        }
      ]
    },
    {
      "cell_type": "code",
      "metadata": {
        "colab_type": "code",
        "id": "Mq14Ew1cb8gv",
        "colab": {}
      },
      "source": [
        "train_data.drop('date', inplace = True, axis=1)"
      ],
      "execution_count": 44,
      "outputs": []
    },
    {
      "cell_type": "code",
      "metadata": {
        "colab_type": "code",
        "id": "t_iSqBgpcBPe",
        "colab": {
          "base_uri": "https://localhost:8080/",
          "height": 153
        },
        "outputId": "27065d4e-bd17-4c48-8186-969c618f1931"
      },
      "source": [
        "train_data.isna().sum()"
      ],
      "execution_count": 45,
      "outputs": [
        {
          "output_type": "execute_result",
          "data": {
            "text/plain": [
              "locationId     0\n",
              "item_id        0\n",
              "unit_sales     0\n",
              "onpromotion    0\n",
              "month          0\n",
              "year           0\n",
              "weekday        0\n",
              "dtype: int64"
            ]
          },
          "metadata": {
            "tags": []
          },
          "execution_count": 45
        }
      ]
    },
    {
      "cell_type": "markdown",
      "metadata": {
        "colab_type": "text",
        "id": "RuGfaRjRceNj"
      },
      "source": [
        "**Encoding for Location_id column**"
      ]
    },
    {
      "cell_type": "code",
      "metadata": {
        "id": "mNYdXcdj0lUv",
        "colab_type": "code",
        "colab": {}
      },
      "source": [
        "## Label Encoding\n",
        "from sklearn.preprocessing import LabelEncoder ## For label encoding(converting categorical values to label)\n",
        "label_encode_location_ID = LabelEncoder()"
      ],
      "execution_count": 46,
      "outputs": []
    },
    {
      "cell_type": "code",
      "metadata": {
        "id": "9mtRQ7cQ1BDq",
        "colab_type": "code",
        "colab": {}
      },
      "source": [
        "train_data['locationId'] = label_encode_location_ID.fit_transform(train_data['locationId'])\n"
      ],
      "execution_count": 47,
      "outputs": []
    },
    {
      "cell_type": "code",
      "metadata": {
        "colab_type": "code",
        "id": "VPeIvQEtclHK",
        "colab": {}
      },
      "source": [
        "####location_levels_total = train_data['locationId'].unique().tolist()\n",
        "###enconded_values = list(range(len(location_levels_total)))\n",
        "###dict_items = dict(zip(location_levels_total, enconded_values))\n",
        "###train_data['locationId']=train_data['locationId'].map(dict_items)\n",
        "#####train_data.locationId = train_data.locationId.astype('int32')#####"
      ],
      "execution_count": null,
      "outputs": []
    },
    {
      "cell_type": "code",
      "metadata": {
        "colab_type": "code",
        "id": "02KkA7zOdMxz",
        "colab": {
          "base_uri": "https://localhost:8080/",
          "height": 85
        },
        "outputId": "82b703f0-eaa0-45af-9346-bb3381abe1c8"
      },
      "source": [
        "train_data['locationId'].head(3)"
      ],
      "execution_count": 24,
      "outputs": [
        {
          "output_type": "execute_result",
          "data": {
            "text/plain": [
              "38594264    17\n",
              "38594265    17\n",
              "38594266    17\n",
              "Name: locationId, dtype: int64"
            ]
          },
          "metadata": {
            "tags": []
          },
          "execution_count": 24
        }
      ]
    },
    {
      "cell_type": "markdown",
      "metadata": {
        "colab_type": "text",
        "id": "_6OH8UCud8rT"
      },
      "source": [
        "Encoding Item_id column"
      ]
    },
    {
      "cell_type": "code",
      "metadata": {
        "colab_type": "code",
        "id": "iKhy1dxzofZ2",
        "colab": {}
      },
      "source": [
        "test_data = readPickleFile('test_data')"
      ],
      "execution_count": 48,
      "outputs": []
    },
    {
      "cell_type": "code",
      "metadata": {
        "colab_type": "code",
        "id": "1eSik9itpdGp",
        "colab": {
          "base_uri": "https://localhost:8080/",
          "height": 119
        },
        "outputId": "13068ba8-406c-4685-a44c-c3def9a814bd"
      },
      "source": [
        "test_data.dtypes"
      ],
      "execution_count": 26,
      "outputs": [
        {
          "output_type": "execute_result",
          "data": {
            "text/plain": [
              "id                      int64\n",
              "date           datetime64[ns]\n",
              "locationId           category\n",
              "item_id              category\n",
              "onpromotion              bool\n",
              "dtype: object"
            ]
          },
          "metadata": {
            "tags": []
          },
          "execution_count": 26
        }
      ]
    },
    {
      "cell_type": "code",
      "metadata": {
        "colab_type": "code",
        "id": "LswdR-_teEKt",
        "colab": {}
      },
      "source": [
        "L1 = train_data['item_id'].unique()\n",
        "L2= test_data['item_id'].unique()"
      ],
      "execution_count": 49,
      "outputs": []
    },
    {
      "cell_type": "code",
      "metadata": {
        "colab_type": "code",
        "id": "kmKR6ANUhSng",
        "colab": {}
      },
      "source": [
        "L1=pd.DataFrame(L1)\n",
        "L2=pd.DataFrame(L2)"
      ],
      "execution_count": 50,
      "outputs": []
    },
    {
      "cell_type": "code",
      "metadata": {
        "colab_type": "code",
        "id": "63CbFjwEhqEC",
        "colab": {}
      },
      "source": [
        "L3 = pd.concat([L1,L2], axis=0)\n",
        "L3.columns = ['item_id']"
      ],
      "execution_count": 51,
      "outputs": []
    },
    {
      "cell_type": "code",
      "metadata": {
        "colab_type": "code",
        "id": "tiR_wH4YjcMF",
        "colab": {
          "base_uri": "https://localhost:8080/",
          "height": 419
        },
        "outputId": "d42c5caf-4630-4845-b197-58923d683f00"
      },
      "source": [
        "L3"
      ],
      "execution_count": 52,
      "outputs": [
        {
          "output_type": "execute_result",
          "data": {
            "text/html": [
              "<div>\n",
              "<style scoped>\n",
              "    .dataframe tbody tr th:only-of-type {\n",
              "        vertical-align: middle;\n",
              "    }\n",
              "\n",
              "    .dataframe tbody tr th {\n",
              "        vertical-align: top;\n",
              "    }\n",
              "\n",
              "    .dataframe thead th {\n",
              "        text-align: right;\n",
              "    }\n",
              "</style>\n",
              "<table border=\"1\" class=\"dataframe\">\n",
              "  <thead>\n",
              "    <tr style=\"text-align: right;\">\n",
              "      <th></th>\n",
              "      <th>item_id</th>\n",
              "    </tr>\n",
              "  </thead>\n",
              "  <tbody>\n",
              "    <tr>\n",
              "      <th>0</th>\n",
              "      <td>item_103665</td>\n",
              "    </tr>\n",
              "    <tr>\n",
              "      <th>1</th>\n",
              "      <td>item_105575</td>\n",
              "    </tr>\n",
              "    <tr>\n",
              "      <th>2</th>\n",
              "      <td>item_108634</td>\n",
              "    </tr>\n",
              "    <tr>\n",
              "      <th>3</th>\n",
              "      <td>item_108698</td>\n",
              "    </tr>\n",
              "    <tr>\n",
              "      <th>4</th>\n",
              "      <td>item_108786</td>\n",
              "    </tr>\n",
              "    <tr>\n",
              "      <th>...</th>\n",
              "      <td>...</td>\n",
              "    </tr>\n",
              "    <tr>\n",
              "      <th>3823</th>\n",
              "      <td>item_1918621</td>\n",
              "    </tr>\n",
              "    <tr>\n",
              "      <th>3824</th>\n",
              "      <td>item_1212452</td>\n",
              "    </tr>\n",
              "    <tr>\n",
              "      <th>3825</th>\n",
              "      <td>item_2045545</td>\n",
              "    </tr>\n",
              "    <tr>\n",
              "      <th>3826</th>\n",
              "      <td>item_1976284</td>\n",
              "    </tr>\n",
              "    <tr>\n",
              "      <th>3827</th>\n",
              "      <td>item_821186</td>\n",
              "    </tr>\n",
              "  </tbody>\n",
              "</table>\n",
              "<p>7715 rows × 1 columns</p>\n",
              "</div>"
            ],
            "text/plain": [
              "           item_id\n",
              "0      item_103665\n",
              "1      item_105575\n",
              "2      item_108634\n",
              "3      item_108698\n",
              "4      item_108786\n",
              "...            ...\n",
              "3823  item_1918621\n",
              "3824  item_1212452\n",
              "3825  item_2045545\n",
              "3826  item_1976284\n",
              "3827   item_821186\n",
              "\n",
              "[7715 rows x 1 columns]"
            ]
          },
          "metadata": {
            "tags": []
          },
          "execution_count": 52
        }
      ]
    },
    {
      "cell_type": "code",
      "metadata": {
        "colab_type": "code",
        "id": "JC4DKKdQjkej",
        "colab": {
          "base_uri": "https://localhost:8080/",
          "height": 204
        },
        "outputId": "2aafa108-025b-4a0f-9d76-f19389a3715c"
      },
      "source": [
        "L3.sort_values(by='item_id').tail()"
      ],
      "execution_count": 53,
      "outputs": [
        {
          "output_type": "execute_result",
          "data": {
            "text/html": [
              "<div>\n",
              "<style scoped>\n",
              "    .dataframe tbody tr th:only-of-type {\n",
              "        vertical-align: middle;\n",
              "    }\n",
              "\n",
              "    .dataframe tbody tr th {\n",
              "        vertical-align: top;\n",
              "    }\n",
              "\n",
              "    .dataframe thead th {\n",
              "        text-align: right;\n",
              "    }\n",
              "</style>\n",
              "<table border=\"1\" class=\"dataframe\">\n",
              "  <thead>\n",
              "    <tr style=\"text-align: right;\">\n",
              "      <th></th>\n",
              "      <th>item_id</th>\n",
              "    </tr>\n",
              "  </thead>\n",
              "  <tbody>\n",
              "    <tr>\n",
              "      <th>652</th>\n",
              "      <td>item_999545</td>\n",
              "    </tr>\n",
              "    <tr>\n",
              "      <th>1916</th>\n",
              "      <td>item_999546</td>\n",
              "    </tr>\n",
              "    <tr>\n",
              "      <th>772</th>\n",
              "      <td>item_999546</td>\n",
              "    </tr>\n",
              "    <tr>\n",
              "      <th>653</th>\n",
              "      <td>item_999547</td>\n",
              "    </tr>\n",
              "    <tr>\n",
              "      <th>773</th>\n",
              "      <td>item_999547</td>\n",
              "    </tr>\n",
              "  </tbody>\n",
              "</table>\n",
              "</div>"
            ],
            "text/plain": [
              "          item_id\n",
              "652   item_999545\n",
              "1916  item_999546\n",
              "772   item_999546\n",
              "653   item_999547\n",
              "773   item_999547"
            ]
          },
          "metadata": {
            "tags": []
          },
          "execution_count": 53
        }
      ]
    },
    {
      "cell_type": "code",
      "metadata": {
        "id": "Nqh8gi8I1w5n",
        "colab_type": "code",
        "colab": {
          "base_uri": "https://localhost:8080/",
          "height": 71
        },
        "outputId": "78d64641-db1b-4c1d-8299-7b27351f65ae"
      },
      "source": [
        "## Label Encoding\n",
        "label_encode_item_ID = LabelEncoder()\n",
        "L3=label_encode_item_ID.fit(L3)"
      ],
      "execution_count": 55,
      "outputs": [
        {
          "output_type": "stream",
          "text": [
            "/usr/local/lib/python3.6/dist-packages/sklearn/preprocessing/_label.py:235: DataConversionWarning: A column-vector y was passed when a 1d array was expected. Please change the shape of y to (n_samples, ), for example using ravel().\n",
            "  y = column_or_1d(y, warn=True)\n"
          ],
          "name": "stderr"
        }
      ]
    },
    {
      "cell_type": "code",
      "metadata": {
        "id": "HTyuHIS317qx",
        "colab_type": "code",
        "colab": {}
      },
      "source": [
        "train_data['item_id'] = label_encode_item_ID.transform(train_data['item_id'])"
      ],
      "execution_count": 56,
      "outputs": []
    },
    {
      "cell_type": "code",
      "metadata": {
        "id": "LT1lgv462Ao0",
        "colab_type": "code",
        "colab": {}
      },
      "source": [
        "test_data['item_id'] = label_encode_item_ID.transform(test_data['item_id'])"
      ],
      "execution_count": 120,
      "outputs": []
    },
    {
      "cell_type": "code",
      "metadata": {
        "id": "9UadneuY6wMS",
        "colab_type": "code",
        "colab": {}
      },
      "source": [
        "test_data.item_id=test_data.item_id.astype('category')"
      ],
      "execution_count": 121,
      "outputs": []
    },
    {
      "cell_type": "code",
      "metadata": {
        "id": "rTU74IM568g-",
        "colab_type": "code",
        "colab": {
          "base_uri": "https://localhost:8080/",
          "height": 119
        },
        "outputId": "a8e1e9bf-5fbe-452e-b932-c06fc6df68b1"
      },
      "source": [
        "test_data.dtypes"
      ],
      "execution_count": 81,
      "outputs": [
        {
          "output_type": "execute_result",
          "data": {
            "text/plain": [
              "id                      int64\n",
              "date           datetime64[ns]\n",
              "locationId           category\n",
              "item_id              category\n",
              "onpromotion              bool\n",
              "dtype: object"
            ]
          },
          "metadata": {
            "tags": []
          },
          "execution_count": 81
        }
      ]
    },
    {
      "cell_type": "code",
      "metadata": {
        "colab_type": "code",
        "id": "ninZsCA3jpyH",
        "colab": {}
      },
      "source": [
        "##ltem_levels_total = L3['item_id'].unique().tolist()\n",
        "###enconded_values1 = list(range(len(ltem_levels_total)))\n",
        "###dict_items1 = dict(zip(ltem_levels_total, enconded_values1))\n",
        "###train_data['item_id']=train_data['item_id'].map(dict_items1)\n",
        "####train_data.item_id = train_data.item_id.astype('int32')"
      ],
      "execution_count": null,
      "outputs": []
    },
    {
      "cell_type": "code",
      "metadata": {
        "colab_type": "code",
        "id": "aV6udtlPkrZi",
        "colab": {
          "base_uri": "https://localhost:8080/",
          "height": 119
        },
        "outputId": "5342f024-fcf6-4baa-b6a6-5b577baf2e27"
      },
      "source": [
        "train_data['item_id'].tail()"
      ],
      "execution_count": 58,
      "outputs": [
        {
          "output_type": "execute_result",
          "data": {
            "text/plain": [
              "101688774    2603\n",
              "101688775    2605\n",
              "101688776    2606\n",
              "101688777    2607\n",
              "101688778    2611\n",
              "Name: item_id, dtype: int64"
            ]
          },
          "metadata": {
            "tags": []
          },
          "execution_count": 58
        }
      ]
    },
    {
      "cell_type": "code",
      "metadata": {
        "colab_type": "code",
        "id": "UdcATM_gk3lk",
        "colab": {
          "base_uri": "https://localhost:8080/",
          "height": 153
        },
        "outputId": "aa3c9413-60b2-4785-cac4-f7ba7af435cd"
      },
      "source": [
        "train_data.dtypes"
      ],
      "execution_count": 59,
      "outputs": [
        {
          "output_type": "execute_result",
          "data": {
            "text/plain": [
              "locationId        int64\n",
              "item_id           int64\n",
              "unit_sales      float64\n",
              "onpromotion    category\n",
              "month             int64\n",
              "year              int64\n",
              "weekday           int64\n",
              "dtype: object"
            ]
          },
          "metadata": {
            "tags": []
          },
          "execution_count": 59
        }
      ]
    },
    {
      "cell_type": "code",
      "metadata": {
        "colab_type": "code",
        "id": "a_o1WuPxk8WY",
        "colab": {
          "base_uri": "https://localhost:8080/",
          "height": 142
        },
        "outputId": "a934377b-2112-43bd-ed04-3bfce711feb9"
      },
      "source": [
        "train_data.head(3)"
      ],
      "execution_count": 60,
      "outputs": [
        {
          "output_type": "execute_result",
          "data": {
            "text/html": [
              "<div>\n",
              "<style scoped>\n",
              "    .dataframe tbody tr th:only-of-type {\n",
              "        vertical-align: middle;\n",
              "    }\n",
              "\n",
              "    .dataframe tbody tr th {\n",
              "        vertical-align: top;\n",
              "    }\n",
              "\n",
              "    .dataframe thead th {\n",
              "        text-align: right;\n",
              "    }\n",
              "</style>\n",
              "<table border=\"1\" class=\"dataframe\">\n",
              "  <thead>\n",
              "    <tr style=\"text-align: right;\">\n",
              "      <th></th>\n",
              "      <th>locationId</th>\n",
              "      <th>item_id</th>\n",
              "      <th>unit_sales</th>\n",
              "      <th>onpromotion</th>\n",
              "      <th>month</th>\n",
              "      <th>year</th>\n",
              "      <th>weekday</th>\n",
              "    </tr>\n",
              "  </thead>\n",
              "  <tbody>\n",
              "    <tr>\n",
              "      <th>38594264</th>\n",
              "      <td>17</td>\n",
              "      <td>45</td>\n",
              "      <td>12.0</td>\n",
              "      <td>False</td>\n",
              "      <td>1</td>\n",
              "      <td>2017</td>\n",
              "      <td>1</td>\n",
              "    </tr>\n",
              "    <tr>\n",
              "      <th>38594265</th>\n",
              "      <td>17</td>\n",
              "      <td>121</td>\n",
              "      <td>23.0</td>\n",
              "      <td>False</td>\n",
              "      <td>1</td>\n",
              "      <td>2017</td>\n",
              "      <td>1</td>\n",
              "    </tr>\n",
              "    <tr>\n",
              "      <th>38594266</th>\n",
              "      <td>17</td>\n",
              "      <td>194</td>\n",
              "      <td>1.0</td>\n",
              "      <td>False</td>\n",
              "      <td>1</td>\n",
              "      <td>2017</td>\n",
              "      <td>1</td>\n",
              "    </tr>\n",
              "  </tbody>\n",
              "</table>\n",
              "</div>"
            ],
            "text/plain": [
              "          locationId  item_id  unit_sales onpromotion  month  year  weekday\n",
              "38594264          17       45        12.0       False      1  2017        1\n",
              "38594265          17      121        23.0       False      1  2017        1\n",
              "38594266          17      194         1.0       False      1  2017        1"
            ]
          },
          "metadata": {
            "tags": []
          },
          "execution_count": 60
        }
      ]
    },
    {
      "cell_type": "code",
      "metadata": {
        "id": "e7UwTcHJ48Kc",
        "colab_type": "code",
        "colab": {}
      },
      "source": [
        "## Label Encoding\n",
        "label_encode_month = LabelEncoder()\n",
        "train_data['month']=label_encode_month.fit_transform(train_data['month'])"
      ],
      "execution_count": 63,
      "outputs": []
    },
    {
      "cell_type": "code",
      "metadata": {
        "id": "l0n3rK3M5cyS",
        "colab_type": "code",
        "colab": {}
      },
      "source": [
        "## Label Encoding\n",
        "label_encode_month = LabelEncoder()\n",
        "train_data['year']=label_encode_month.fit_transform(train_data['year'])"
      ],
      "execution_count": 66,
      "outputs": []
    },
    {
      "cell_type": "code",
      "metadata": {
        "id": "HP_yKmcW5cbO",
        "colab_type": "code",
        "colab": {}
      },
      "source": [
        "## Label Encoding\n",
        "label_encode_month = LabelEncoder()\n",
        "train_data['weekday']=label_encode_month.fit_transform(train_data['weekday'])"
      ],
      "execution_count": 67,
      "outputs": []
    },
    {
      "cell_type": "code",
      "metadata": {
        "id": "9xGvu0sR5tCO",
        "colab_type": "code",
        "colab": {
          "base_uri": "https://localhost:8080/",
          "height": 153
        },
        "outputId": "2164b460-896a-4d0e-aada-9f0894cda471"
      },
      "source": [
        "train_data.dtypes"
      ],
      "execution_count": 68,
      "outputs": [
        {
          "output_type": "execute_result",
          "data": {
            "text/plain": [
              "locationId        int64\n",
              "item_id           int64\n",
              "unit_sales      float64\n",
              "onpromotion    category\n",
              "month             int64\n",
              "year              int64\n",
              "weekday           int64\n",
              "dtype: object"
            ]
          },
          "metadata": {
            "tags": []
          },
          "execution_count": 68
        }
      ]
    },
    {
      "cell_type": "code",
      "metadata": {
        "colab_type": "code",
        "id": "ZYsUCRFglB4I",
        "colab": {
          "base_uri": "https://localhost:8080/",
          "height": 51
        },
        "outputId": "4891cfd1-a8bf-4f73-f10e-26f0e63fb27e"
      },
      "source": [
        "train_data['onpromotion'].unique()"
      ],
      "execution_count": 69,
      "outputs": [
        {
          "output_type": "execute_result",
          "data": {
            "text/plain": [
              "[False, True]\n",
              "Categories (2, object): [False, True]"
            ]
          },
          "metadata": {
            "tags": []
          },
          "execution_count": 69
        }
      ]
    },
    {
      "cell_type": "code",
      "metadata": {
        "colab_type": "code",
        "id": "zuuDbbpnlRs9",
        "colab": {}
      },
      "source": [
        "#### Type conversion for onpromotion values to binary form\n",
        "train_data.onpromotion.replace([True, False], [1, 0], inplace=True)"
      ],
      "execution_count": 70,
      "outputs": []
    },
    {
      "cell_type": "code",
      "metadata": {
        "colab_type": "code",
        "id": "eGj1GCnslhmU",
        "colab": {
          "base_uri": "https://localhost:8080/",
          "height": 80
        },
        "outputId": "b408e729-0e39-4c11-8ca3-8bbcdd0c3d1e"
      },
      "source": [
        "train_data.head(1)"
      ],
      "execution_count": 71,
      "outputs": [
        {
          "output_type": "execute_result",
          "data": {
            "text/html": [
              "<div>\n",
              "<style scoped>\n",
              "    .dataframe tbody tr th:only-of-type {\n",
              "        vertical-align: middle;\n",
              "    }\n",
              "\n",
              "    .dataframe tbody tr th {\n",
              "        vertical-align: top;\n",
              "    }\n",
              "\n",
              "    .dataframe thead th {\n",
              "        text-align: right;\n",
              "    }\n",
              "</style>\n",
              "<table border=\"1\" class=\"dataframe\">\n",
              "  <thead>\n",
              "    <tr style=\"text-align: right;\">\n",
              "      <th></th>\n",
              "      <th>locationId</th>\n",
              "      <th>item_id</th>\n",
              "      <th>unit_sales</th>\n",
              "      <th>onpromotion</th>\n",
              "      <th>month</th>\n",
              "      <th>year</th>\n",
              "      <th>weekday</th>\n",
              "    </tr>\n",
              "  </thead>\n",
              "  <tbody>\n",
              "    <tr>\n",
              "      <th>38594264</th>\n",
              "      <td>17</td>\n",
              "      <td>45</td>\n",
              "      <td>12.0</td>\n",
              "      <td>0</td>\n",
              "      <td>0</td>\n",
              "      <td>0</td>\n",
              "      <td>0</td>\n",
              "    </tr>\n",
              "  </tbody>\n",
              "</table>\n",
              "</div>"
            ],
            "text/plain": [
              "          locationId  item_id  unit_sales  onpromotion  month  year  weekday\n",
              "38594264          17       45        12.0            0      0     0        0"
            ]
          },
          "metadata": {
            "tags": []
          },
          "execution_count": 71
        }
      ]
    },
    {
      "cell_type": "code",
      "metadata": {
        "colab_type": "code",
        "id": "PHtTaMZRllD3",
        "colab": {
          "base_uri": "https://localhost:8080/",
          "height": 34
        },
        "outputId": "15c7d0d0-1bf0-4e34-e155-0f231911da14"
      },
      "source": [
        "train_data['onpromotion'].unique()"
      ],
      "execution_count": 72,
      "outputs": [
        {
          "output_type": "execute_result",
          "data": {
            "text/plain": [
              "array([0, 1])"
            ]
          },
          "metadata": {
            "tags": []
          },
          "execution_count": 72
        }
      ]
    },
    {
      "cell_type": "code",
      "metadata": {
        "colab_type": "code",
        "id": "ZbUBc1nQlO8d",
        "colab": {
          "base_uri": "https://localhost:8080/",
          "height": 153
        },
        "outputId": "e3e97f5b-3dcd-4a7f-c19b-3a2071340d8d"
      },
      "source": [
        "train_data.dtypes"
      ],
      "execution_count": 73,
      "outputs": [
        {
          "output_type": "execute_result",
          "data": {
            "text/plain": [
              "locationId       int64\n",
              "item_id          int64\n",
              "unit_sales     float64\n",
              "onpromotion      int64\n",
              "month            int64\n",
              "year             int64\n",
              "weekday          int64\n",
              "dtype: object"
            ]
          },
          "metadata": {
            "tags": []
          },
          "execution_count": 73
        }
      ]
    },
    {
      "cell_type": "code",
      "metadata": {
        "id": "t7vFb3Ou5-Pr",
        "colab_type": "code",
        "colab": {}
      },
      "source": [
        "train_data.locationId  = train_data.locationId.astype('category')\n",
        "train_data.item_id  = train_data.item_id.astype('category')\n",
        "train_data.month  = train_data.month.astype('category')\n",
        "train_data.year  = train_data.year.astype('category')\n",
        "train_data.weekday  = train_data.weekday.astype('category')\n"
      ],
      "execution_count": 76,
      "outputs": []
    },
    {
      "cell_type": "code",
      "metadata": {
        "colab_type": "code",
        "id": "jhPLhJvlqOKI",
        "colab": {}
      },
      "source": [
        "train_data.onpromotion = train_data.onpromotion.astype('bool')"
      ],
      "execution_count": 77,
      "outputs": []
    },
    {
      "cell_type": "code",
      "metadata": {
        "colab_type": "code",
        "id": "_AvhAB2hqiGz",
        "colab": {
          "base_uri": "https://localhost:8080/",
          "height": 153
        },
        "outputId": "6f24cac2-3255-4b6c-fe1d-da94d4c14363"
      },
      "source": [
        "train_data.dtypes"
      ],
      "execution_count": 78,
      "outputs": [
        {
          "output_type": "execute_result",
          "data": {
            "text/plain": [
              "locationId     category\n",
              "item_id        category\n",
              "unit_sales      float64\n",
              "onpromotion        bool\n",
              "month          category\n",
              "year           category\n",
              "weekday        category\n",
              "dtype: object"
            ]
          },
          "metadata": {
            "tags": []
          },
          "execution_count": 78
        }
      ]
    },
    {
      "cell_type": "markdown",
      "metadata": {
        "colab_type": "text",
        "id": "RBiDBwBflzZ2"
      },
      "source": [
        "## Model Building"
      ]
    },
    {
      "cell_type": "markdown",
      "metadata": {
        "colab_type": "text",
        "id": "I1q6J0AOCRnR"
      },
      "source": [
        "#Linear Regression"
      ]
    },
    {
      "cell_type": "code",
      "metadata": {
        "colab_type": "code",
        "id": "bz1yLt4Dl5Ux",
        "colab": {}
      },
      "source": [
        "### Separating independent and target varibales for train, validation and test and loading them into pickle file for easy loading of data in successive models building\n",
        "X = train_data.drop('unit_sales', axis=1)"
      ],
      "execution_count": 82,
      "outputs": []
    },
    {
      "cell_type": "code",
      "metadata": {
        "colab_type": "code",
        "id": "hWImBRK6mFlC",
        "colab": {}
      },
      "source": [
        "y = train_data['unit_sales']"
      ],
      "execution_count": 83,
      "outputs": []
    },
    {
      "cell_type": "code",
      "metadata": {
        "colab_type": "code",
        "id": "dn3Lm_a8mNhX",
        "colab": {}
      },
      "source": [
        "####Loading the necessary libraries to perform Linear regression\n",
        "from sklearn.model_selection import train_test_split\n",
        "from sklearn.linear_model import LinearRegression"
      ],
      "execution_count": 84,
      "outputs": []
    },
    {
      "cell_type": "code",
      "metadata": {
        "colab_type": "code",
        "id": "5Hfz7zkfmQLN",
        "colab": {
          "base_uri": "https://localhost:8080/",
          "height": 80
        },
        "outputId": "a921be61-2b02-4a03-cd0e-6f0b77458757"
      },
      "source": [
        "X.head(1)"
      ],
      "execution_count": 85,
      "outputs": [
        {
          "output_type": "execute_result",
          "data": {
            "text/html": [
              "<div>\n",
              "<style scoped>\n",
              "    .dataframe tbody tr th:only-of-type {\n",
              "        vertical-align: middle;\n",
              "    }\n",
              "\n",
              "    .dataframe tbody tr th {\n",
              "        vertical-align: top;\n",
              "    }\n",
              "\n",
              "    .dataframe thead th {\n",
              "        text-align: right;\n",
              "    }\n",
              "</style>\n",
              "<table border=\"1\" class=\"dataframe\">\n",
              "  <thead>\n",
              "    <tr style=\"text-align: right;\">\n",
              "      <th></th>\n",
              "      <th>locationId</th>\n",
              "      <th>item_id</th>\n",
              "      <th>onpromotion</th>\n",
              "      <th>month</th>\n",
              "      <th>year</th>\n",
              "      <th>weekday</th>\n",
              "    </tr>\n",
              "  </thead>\n",
              "  <tbody>\n",
              "    <tr>\n",
              "      <th>38594264</th>\n",
              "      <td>17</td>\n",
              "      <td>45</td>\n",
              "      <td>False</td>\n",
              "      <td>0</td>\n",
              "      <td>0</td>\n",
              "      <td>0</td>\n",
              "    </tr>\n",
              "  </tbody>\n",
              "</table>\n",
              "</div>"
            ],
            "text/plain": [
              "         locationId item_id  onpromotion month year weekday\n",
              "38594264         17      45        False     0    0       0"
            ]
          },
          "metadata": {
            "tags": []
          },
          "execution_count": 85
        }
      ]
    },
    {
      "cell_type": "code",
      "metadata": {
        "colab_type": "code",
        "id": "YWuGPClHva8J",
        "colab": {
          "base_uri": "https://localhost:8080/",
          "height": 34
        },
        "outputId": "10a6fdf3-25e2-4ed2-8b49-cad389aa0dfc"
      },
      "source": [
        "X.shape"
      ],
      "execution_count": 86,
      "outputs": [
        {
          "output_type": "execute_result",
          "data": {
            "text/plain": [
              "(63084471, 6)"
            ]
          },
          "metadata": {
            "tags": []
          },
          "execution_count": 86
        }
      ]
    },
    {
      "cell_type": "code",
      "metadata": {
        "colab_type": "code",
        "id": "wJxxspg7vscJ",
        "colab": {
          "base_uri": "https://localhost:8080/",
          "height": 34
        },
        "outputId": "9d5e00e6-f555-4099-ea28-d88cae4b2f70"
      },
      "source": [
        "y.shape"
      ],
      "execution_count": 87,
      "outputs": [
        {
          "output_type": "execute_result",
          "data": {
            "text/plain": [
              "(63084471,)"
            ]
          },
          "metadata": {
            "tags": []
          },
          "execution_count": 87
        }
      ]
    },
    {
      "cell_type": "code",
      "metadata": {
        "colab_type": "code",
        "id": "_RYzZq3KmSi5",
        "colab": {
          "base_uri": "https://localhost:8080/",
          "height": 51
        },
        "outputId": "741e1e15-a3a4-40aa-af13-208bd71f899e"
      },
      "source": [
        "y.head(1)"
      ],
      "execution_count": 88,
      "outputs": [
        {
          "output_type": "execute_result",
          "data": {
            "text/plain": [
              "38594264    12.0\n",
              "Name: unit_sales, dtype: float64"
            ]
          },
          "metadata": {
            "tags": []
          },
          "execution_count": 88
        }
      ]
    },
    {
      "cell_type": "code",
      "metadata": {
        "colab_type": "code",
        "id": "3r18rgEvmYLC",
        "colab": {}
      },
      "source": [
        "### train, test (Validation) split\n",
        "X_train,X_test,y_train,y_test=train_test_split(X,y,test_size=0.3,random_state=123)"
      ],
      "execution_count": 89,
      "outputs": []
    },
    {
      "cell_type": "code",
      "metadata": {
        "id": "qnHVgcMQ7xsF",
        "colab_type": "code",
        "colab": {
          "base_uri": "https://localhost:8080/",
          "height": 170
        },
        "outputId": "32f51ab1-9531-4a3d-e5b1-713643577901"
      },
      "source": [
        "!ls"
      ],
      "execution_count": 92,
      "outputs": [
        {
          "output_type": "stream",
          "text": [
            "EDA.ipynb\t      salesData\t\t      train_transactions\n",
            "FinalDataset\t      sample_sub_XGBoost.csv  train_transactions.csv\n",
            "item_data\t      test.csv\t\t      unit_sales_predctions_Linear.csv\n",
            "item_details.csv      test_data\t\t      unit_sales_pred_decisiontree.csv\n",
            "location_data\t      Test_data\t\t      unit_sales_pred_XGBoost.csv\n",
            "location_details.csv  train.csv\t\t      xgb_regressor_model\n",
            "merge1\t\t      train_data\t      y_test\n",
            "merge2\t\t      train_data_Preprocess   y_train\n",
            "Pickled_files\t      train_locations_items\n"
          ],
          "name": "stdout"
        }
      ]
    },
    {
      "cell_type": "code",
      "metadata": {
        "colab_type": "code",
        "id": "jwy-KUea5ME5",
        "colab": {}
      },
      "source": [
        "### Writing the train, test (Validation) pickle files\n",
        "pickleFileDump('X_train',X_train)\n",
        "pickleFileDump('X_test',X_test)\n",
        "pickleFileDump('y_train',y_train)\n",
        "pickleFileDump('y_test',y_test)"
      ],
      "execution_count": 93,
      "outputs": []
    },
    {
      "cell_type": "code",
      "metadata": {
        "colab_type": "code",
        "id": "DCuz4FTwrGP6",
        "colab": {
          "base_uri": "https://localhost:8080/",
          "height": 136
        },
        "outputId": "019a6fc1-7c3c-4a45-8d2d-2e1079b61f94"
      },
      "source": [
        "X_train.dtypes"
      ],
      "execution_count": 94,
      "outputs": [
        {
          "output_type": "execute_result",
          "data": {
            "text/plain": [
              "locationId     category\n",
              "item_id        category\n",
              "onpromotion        bool\n",
              "month          category\n",
              "year           category\n",
              "weekday        category\n",
              "dtype: object"
            ]
          },
          "metadata": {
            "tags": []
          },
          "execution_count": 94
        }
      ]
    },
    {
      "cell_type": "code",
      "metadata": {
        "colab_type": "code",
        "id": "CUfaFEPimcTU",
        "colab": {}
      },
      "source": [
        "### Initiating the Linear regreesion model and fitting on the train data\n",
        "linear_regr=LinearRegression()\n",
        "linear_regression = linear_regr.fit(X_train,y_train)"
      ],
      "execution_count": 95,
      "outputs": []
    },
    {
      "cell_type": "code",
      "metadata": {
        "colab_type": "code",
        "id": "rRqQmYJdpPTO",
        "colab": {}
      },
      "source": [
        "#### Predicting the target for train data\n",
        "pred_train = linear_regression.predict(X_train)"
      ],
      "execution_count": 96,
      "outputs": []
    },
    {
      "cell_type": "code",
      "metadata": {
        "colab_type": "code",
        "id": "LLwSrlZ27Rhh",
        "colab": {}
      },
      "source": [
        "### Customized function for calculating mean absoulte percentage error\n",
        "def mean_absolute_percentage_error(y_true, y_pred): \n",
        "    y_true, y_pred = np.array(y_true), np.array(y_pred)\n",
        "    return np.mean(np.abs((y_true - y_pred) / y_true)) * 100"
      ],
      "execution_count": 97,
      "outputs": []
    },
    {
      "cell_type": "code",
      "metadata": {
        "colab_type": "code",
        "id": "fncw_6iv7W9z",
        "colab": {}
      },
      "source": [
        "### Calculating MAPE on train data\n",
        "MAPE = mean_absolute_percentage_error(y_train, pred_train)"
      ],
      "execution_count": 98,
      "outputs": []
    },
    {
      "cell_type": "code",
      "metadata": {
        "colab_type": "code",
        "id": "63WtVKmx7ZR3",
        "colab": {
          "base_uri": "https://localhost:8080/",
          "height": 34
        },
        "outputId": "43a28996-fe7f-475a-fa9a-b0cba4f8861f"
      },
      "source": [
        "print(MAPE)"
      ],
      "execution_count": 99,
      "outputs": [
        {
          "output_type": "stream",
          "text": [
            "237.45799370338227\n"
          ],
          "name": "stdout"
        }
      ]
    },
    {
      "cell_type": "code",
      "metadata": {
        "colab_type": "code",
        "id": "VWx6D2lI7a8c",
        "colab": {}
      },
      "source": [
        "### predicting the values on test (Validation) data\n",
        "pred_val = linear_regression.predict(X_test)"
      ],
      "execution_count": 100,
      "outputs": []
    },
    {
      "cell_type": "code",
      "metadata": {
        "colab_type": "code",
        "id": "FPnRj8JZ7j4u",
        "colab": {}
      },
      "source": [
        "### Calulating MAPE on test (Validation) data\n",
        "test_MAPE = mean_absolute_percentage_error(y_test, pred_val)"
      ],
      "execution_count": 101,
      "outputs": []
    },
    {
      "cell_type": "code",
      "metadata": {
        "colab_type": "code",
        "id": "GZ59VsW57x9c",
        "colab": {
          "base_uri": "https://localhost:8080/",
          "height": 34
        },
        "outputId": "1e1c29d0-4efc-4ce5-bda7-c435445fb7e5"
      },
      "source": [
        "print(test_MAPE)"
      ],
      "execution_count": 102,
      "outputs": [
        {
          "output_type": "stream",
          "text": [
            "237.59710516044413\n"
          ],
          "name": "stdout"
        }
      ]
    },
    {
      "cell_type": "markdown",
      "metadata": {
        "colab_type": "text",
        "id": "tGAkie328Bij"
      },
      "source": [
        "# Testdata"
      ]
    },
    {
      "cell_type": "code",
      "metadata": {
        "colab_type": "code",
        "id": "cvj6hJuX8G71",
        "colab": {}
      },
      "source": [
        "test_data = readPickleFile('test_data')"
      ],
      "execution_count": 103,
      "outputs": []
    },
    {
      "cell_type": "code",
      "metadata": {
        "colab_type": "code",
        "id": "KbCa5ftw9GFr",
        "colab": {
          "base_uri": "https://localhost:8080/",
          "height": 153
        },
        "outputId": "26a6eed9-1d1b-4383-cd2d-319103209f44"
      },
      "source": [
        "test_data['item_id'].sort_values().head()"
      ],
      "execution_count": 104,
      "outputs": [
        {
          "output_type": "execute_result",
          "data": {
            "text/plain": [
              "953323     item_1000866\n",
              "543132     item_1000866\n",
              "1339350    item_1000866\n",
              "1460087    item_1000866\n",
              "1465910    item_1000866\n",
              "Name: item_id, dtype: category\n",
              "Categories (3828, object): [item_1000866, item_1001305, item_1003679, item_1004545, ..., item_996613,\n",
              "                            item_999545, item_999546, item_999547]"
            ]
          },
          "metadata": {
            "tags": []
          },
          "execution_count": 104
        }
      ]
    },
    {
      "cell_type": "code",
      "metadata": {
        "colab_type": "code",
        "id": "nIBvZsgF9MAT",
        "colab": {
          "base_uri": "https://localhost:8080/",
          "height": 34
        },
        "outputId": "7e171fba-9b8d-48da-f20d-ef5b4473fca6"
      },
      "source": [
        "test_data.shape"
      ],
      "execution_count": 105,
      "outputs": [
        {
          "output_type": "execute_result",
          "data": {
            "text/plain": [
              "(1482295, 5)"
            ]
          },
          "metadata": {
            "tags": []
          },
          "execution_count": 105
        }
      ]
    },
    {
      "cell_type": "code",
      "metadata": {
        "colab_type": "code",
        "id": "thjOiZEU9OaE",
        "colab": {
          "base_uri": "https://localhost:8080/",
          "height": 119
        },
        "outputId": "363d0e36-5e19-4ef1-a85a-62163c755ac9"
      },
      "source": [
        "test_data.isna().sum()"
      ],
      "execution_count": 106,
      "outputs": [
        {
          "output_type": "execute_result",
          "data": {
            "text/plain": [
              "id             0\n",
              "date           0\n",
              "locationId     0\n",
              "item_id        0\n",
              "onpromotion    0\n",
              "dtype: int64"
            ]
          },
          "metadata": {
            "tags": []
          },
          "execution_count": 106
        }
      ]
    },
    {
      "cell_type": "code",
      "metadata": {
        "colab_type": "code",
        "id": "kDUCJUSH9WlG",
        "colab": {
          "base_uri": "https://localhost:8080/",
          "height": 34
        },
        "outputId": "0fd83dcf-75fd-43a5-9033-f9177da2035c"
      },
      "source": [
        "test_data['item_id'].nunique()"
      ],
      "execution_count": null,
      "outputs": [
        {
          "output_type": "execute_result",
          "data": {
            "text/plain": [
              "3828"
            ]
          },
          "metadata": {
            "tags": []
          },
          "execution_count": 32
        }
      ]
    },
    {
      "cell_type": "code",
      "metadata": {
        "colab_type": "code",
        "id": "gHLezhJc9h30",
        "colab": {
          "base_uri": "https://localhost:8080/",
          "height": 142
        },
        "outputId": "39f23ca8-bc2e-46f1-8dc2-48fc9a2ddbb2"
      },
      "source": [
        "test_data.head(3)"
      ],
      "execution_count": 107,
      "outputs": [
        {
          "output_type": "execute_result",
          "data": {
            "text/html": [
              "<div>\n",
              "<style scoped>\n",
              "    .dataframe tbody tr th:only-of-type {\n",
              "        vertical-align: middle;\n",
              "    }\n",
              "\n",
              "    .dataframe tbody tr th {\n",
              "        vertical-align: top;\n",
              "    }\n",
              "\n",
              "    .dataframe thead th {\n",
              "        text-align: right;\n",
              "    }\n",
              "</style>\n",
              "<table border=\"1\" class=\"dataframe\">\n",
              "  <thead>\n",
              "    <tr style=\"text-align: right;\">\n",
              "      <th></th>\n",
              "      <th>id</th>\n",
              "      <th>date</th>\n",
              "      <th>locationId</th>\n",
              "      <th>item_id</th>\n",
              "      <th>onpromotion</th>\n",
              "    </tr>\n",
              "  </thead>\n",
              "  <tbody>\n",
              "    <tr>\n",
              "      <th>0</th>\n",
              "      <td>0</td>\n",
              "      <td>2019-01-01</td>\n",
              "      <td>location_25</td>\n",
              "      <td>item_99197</td>\n",
              "      <td>False</td>\n",
              "    </tr>\n",
              "    <tr>\n",
              "      <th>1</th>\n",
              "      <td>1</td>\n",
              "      <td>2019-01-01</td>\n",
              "      <td>location_25</td>\n",
              "      <td>item_103665</td>\n",
              "      <td>False</td>\n",
              "    </tr>\n",
              "    <tr>\n",
              "      <th>2</th>\n",
              "      <td>2</td>\n",
              "      <td>2019-01-01</td>\n",
              "      <td>location_25</td>\n",
              "      <td>item_105574</td>\n",
              "      <td>False</td>\n",
              "    </tr>\n",
              "  </tbody>\n",
              "</table>\n",
              "</div>"
            ],
            "text/plain": [
              "   id       date   locationId      item_id  onpromotion\n",
              "0   0 2019-01-01  location_25   item_99197        False\n",
              "1   1 2019-01-01  location_25  item_103665        False\n",
              "2   2 2019-01-01  location_25  item_105574        False"
            ]
          },
          "metadata": {
            "tags": []
          },
          "execution_count": 107
        }
      ]
    },
    {
      "cell_type": "code",
      "metadata": {
        "colab_type": "code",
        "id": "7BuysbsD9noX",
        "colab": {}
      },
      "source": [
        "## add day,month,weekday to test_data\n",
        "test_data['date'] = pd.to_datetime(test_data['date'], format='%Y.%m.%d')\n",
        "test_data['month'] = test_data['date'].dt.month\n",
        "test_data['year'] = test_data['date'].dt.year\n",
        "test_data['weekday'] = test_data['date'].dt.day"
      ],
      "execution_count": 108,
      "outputs": []
    },
    {
      "cell_type": "code",
      "metadata": {
        "colab_type": "code",
        "id": "nYZMnmG59wkx",
        "colab": {}
      },
      "source": [
        "test_data.drop('date', inplace = True, axis=1)"
      ],
      "execution_count": 109,
      "outputs": []
    },
    {
      "cell_type": "code",
      "metadata": {
        "colab_type": "code",
        "id": "I1JuOcC690Xu",
        "colab": {
          "base_uri": "https://localhost:8080/",
          "height": 173
        },
        "outputId": "de9bc3bb-7b4d-4cb9-9393-643b95f58618"
      },
      "source": [
        "test_data.head(3)"
      ],
      "execution_count": 123,
      "outputs": [
        {
          "output_type": "execute_result",
          "data": {
            "text/html": [
              "<div>\n",
              "<style scoped>\n",
              "    .dataframe tbody tr th:only-of-type {\n",
              "        vertical-align: middle;\n",
              "    }\n",
              "\n",
              "    .dataframe tbody tr th {\n",
              "        vertical-align: top;\n",
              "    }\n",
              "\n",
              "    .dataframe thead th {\n",
              "        text-align: right;\n",
              "    }\n",
              "</style>\n",
              "<table border=\"1\" class=\"dataframe\">\n",
              "  <thead>\n",
              "    <tr style=\"text-align: right;\">\n",
              "      <th></th>\n",
              "      <th>locationId</th>\n",
              "      <th>item_id</th>\n",
              "      <th>onpromotion</th>\n",
              "      <th>month</th>\n",
              "      <th>year</th>\n",
              "      <th>weekday</th>\n",
              "    </tr>\n",
              "    <tr>\n",
              "      <th>id</th>\n",
              "      <th></th>\n",
              "      <th></th>\n",
              "      <th></th>\n",
              "      <th></th>\n",
              "      <th></th>\n",
              "      <th></th>\n",
              "    </tr>\n",
              "  </thead>\n",
              "  <tbody>\n",
              "    <tr>\n",
              "      <th>0</th>\n",
              "      <td>17</td>\n",
              "      <td>3881</td>\n",
              "      <td>0</td>\n",
              "      <td>1</td>\n",
              "      <td>2019</td>\n",
              "      <td>1</td>\n",
              "    </tr>\n",
              "    <tr>\n",
              "      <th>1</th>\n",
              "      <td>17</td>\n",
              "      <td>45</td>\n",
              "      <td>0</td>\n",
              "      <td>1</td>\n",
              "      <td>2019</td>\n",
              "      <td>1</td>\n",
              "    </tr>\n",
              "    <tr>\n",
              "      <th>2</th>\n",
              "      <td>17</td>\n",
              "      <td>120</td>\n",
              "      <td>0</td>\n",
              "      <td>1</td>\n",
              "      <td>2019</td>\n",
              "      <td>1</td>\n",
              "    </tr>\n",
              "  </tbody>\n",
              "</table>\n",
              "</div>"
            ],
            "text/plain": [
              "    locationId item_id  onpromotion  month  year  weekday\n",
              "id                                                       \n",
              "0           17    3881            0      1  2019        1\n",
              "1           17      45            0      1  2019        1\n",
              "2           17     120            0      1  2019        1"
            ]
          },
          "metadata": {
            "tags": []
          },
          "execution_count": 123
        }
      ]
    },
    {
      "cell_type": "code",
      "metadata": {
        "id": "RH2rIghO9sqj",
        "colab_type": "code",
        "colab": {}
      },
      "source": [
        "## Label Encoding\n",
        "label_encode_year = LabelEncoder()\n",
        "test_data['year']=label_encode_year.fit_transform(test_data['year'])"
      ],
      "execution_count": 125,
      "outputs": []
    },
    {
      "cell_type": "code",
      "metadata": {
        "id": "z_pF6wXV93yD",
        "colab_type": "code",
        "colab": {}
      },
      "source": [
        "## Label Encoding\n",
        "label_encode_month = LabelEncoder()\n",
        "test_data['month']=label_encode_month.fit_transform(test_data['month'])"
      ],
      "execution_count": 127,
      "outputs": []
    },
    {
      "cell_type": "code",
      "metadata": {
        "id": "3-qYKx8x-Dcx",
        "colab_type": "code",
        "colab": {}
      },
      "source": [
        "## Label Encoding\n",
        "label_encode_month = LabelEncoder()\n",
        "test_data['weekday']=label_encode_month.fit_transform(test_data['weekday'])"
      ],
      "execution_count": 128,
      "outputs": []
    },
    {
      "cell_type": "code",
      "metadata": {
        "id": "7IkYcLK--egk",
        "colab_type": "code",
        "colab": {}
      },
      "source": [
        "##type conversions\n",
        "test_data.locationId  = test_data.locationId.astype('category')\n",
        "test_data.item_id  = test_data.item_id.astype('category')\n",
        "test_data.month  = test_data.month.astype('category')\n",
        "test_data.year  = test_data.year.astype('category')\n",
        "test_data.weekday  = test_data.weekday.astype('category')"
      ],
      "execution_count": 134,
      "outputs": []
    },
    {
      "cell_type": "code",
      "metadata": {
        "id": "JudozqMP-N_2",
        "colab_type": "code",
        "colab": {
          "base_uri": "https://localhost:8080/",
          "height": 136
        },
        "outputId": "e36dd673-6285-41ef-86d9-5e2b84e8b151"
      },
      "source": [
        "test_data.dtypes"
      ],
      "execution_count": 135,
      "outputs": [
        {
          "output_type": "execute_result",
          "data": {
            "text/plain": [
              "locationId     category\n",
              "item_id        category\n",
              "onpromotion       int64\n",
              "month          category\n",
              "year           category\n",
              "weekday        category\n",
              "dtype: object"
            ]
          },
          "metadata": {
            "tags": []
          },
          "execution_count": 135
        }
      ]
    },
    {
      "cell_type": "code",
      "metadata": {
        "colab_type": "code",
        "id": "aCqvviYO99PN",
        "colab": {
          "base_uri": "https://localhost:8080/",
          "height": 111
        },
        "outputId": "0d5fe8a9-e7f9-47f7-b55e-567517d6d501"
      },
      "source": [
        "test_data.head(1)"
      ],
      "execution_count": 129,
      "outputs": [
        {
          "output_type": "execute_result",
          "data": {
            "text/html": [
              "<div>\n",
              "<style scoped>\n",
              "    .dataframe tbody tr th:only-of-type {\n",
              "        vertical-align: middle;\n",
              "    }\n",
              "\n",
              "    .dataframe tbody tr th {\n",
              "        vertical-align: top;\n",
              "    }\n",
              "\n",
              "    .dataframe thead th {\n",
              "        text-align: right;\n",
              "    }\n",
              "</style>\n",
              "<table border=\"1\" class=\"dataframe\">\n",
              "  <thead>\n",
              "    <tr style=\"text-align: right;\">\n",
              "      <th></th>\n",
              "      <th>locationId</th>\n",
              "      <th>item_id</th>\n",
              "      <th>onpromotion</th>\n",
              "      <th>month</th>\n",
              "      <th>year</th>\n",
              "      <th>weekday</th>\n",
              "    </tr>\n",
              "    <tr>\n",
              "      <th>id</th>\n",
              "      <th></th>\n",
              "      <th></th>\n",
              "      <th></th>\n",
              "      <th></th>\n",
              "      <th></th>\n",
              "      <th></th>\n",
              "    </tr>\n",
              "  </thead>\n",
              "  <tbody>\n",
              "    <tr>\n",
              "      <th>0</th>\n",
              "      <td>17</td>\n",
              "      <td>3881</td>\n",
              "      <td>0</td>\n",
              "      <td>0</td>\n",
              "      <td>0</td>\n",
              "      <td>0</td>\n",
              "    </tr>\n",
              "  </tbody>\n",
              "</table>\n",
              "</div>"
            ],
            "text/plain": [
              "    locationId item_id  onpromotion  month  year  weekday\n",
              "id                                                       \n",
              "0           17    3881            0      0     0        0"
            ]
          },
          "metadata": {
            "tags": []
          },
          "execution_count": 129
        }
      ]
    },
    {
      "cell_type": "code",
      "metadata": {
        "colab_type": "code",
        "id": "ND8YxgcQ-C2r",
        "colab": {}
      },
      "source": [
        "test_data.onpromotion.replace([True, False], [1, 0], inplace=True)"
      ],
      "execution_count": 136,
      "outputs": []
    },
    {
      "cell_type": "code",
      "metadata": {
        "colab_type": "code",
        "id": "nCmeXW_mnEVc",
        "colab": {
          "base_uri": "https://localhost:8080/",
          "height": 136
        },
        "outputId": "93b51709-445f-433f-e2fd-673f9330d97b"
      },
      "source": [
        "test_data.dtypes"
      ],
      "execution_count": 132,
      "outputs": [
        {
          "output_type": "execute_result",
          "data": {
            "text/plain": [
              "locationId        int64\n",
              "item_id        category\n",
              "onpromotion       int64\n",
              "month             int64\n",
              "year              int64\n",
              "weekday           int64\n",
              "dtype: object"
            ]
          },
          "metadata": {
            "tags": []
          },
          "execution_count": 132
        }
      ]
    },
    {
      "cell_type": "code",
      "metadata": {
        "colab_type": "code",
        "id": "Ub4tH1at_jNe",
        "colab": {}
      },
      "source": [
        "### Encoding for LocationId column\n",
        "###test_data['locationId']=test_data['locationId'].map(dict_items)\n",
        "####test_data.locationId = test_data.locationId.astype('int32')"
      ],
      "execution_count": null,
      "outputs": []
    },
    {
      "cell_type": "code",
      "metadata": {
        "colab_type": "code",
        "id": "SQ-mN6XSnsB7",
        "colab": {
          "base_uri": "https://localhost:8080/",
          "height": 34
        },
        "outputId": "bddffe91-a49b-47b7-f2ff-d58e9159cd47"
      },
      "source": [
        "test_data.shape"
      ],
      "execution_count": 118,
      "outputs": [
        {
          "output_type": "execute_result",
          "data": {
            "text/plain": [
              "(1482295, 6)"
            ]
          },
          "metadata": {
            "tags": []
          },
          "execution_count": 118
        }
      ]
    },
    {
      "cell_type": "code",
      "metadata": {
        "colab_type": "code",
        "id": "WfeWeKer-hAY",
        "colab": {
          "base_uri": "https://localhost:8080/",
          "height": 111
        },
        "outputId": "ce14cedd-afa0-43ad-883c-9472c0cafd1b"
      },
      "source": [
        "test_data.head(1)"
      ],
      "execution_count": 119,
      "outputs": [
        {
          "output_type": "execute_result",
          "data": {
            "text/html": [
              "<div>\n",
              "<style scoped>\n",
              "    .dataframe tbody tr th:only-of-type {\n",
              "        vertical-align: middle;\n",
              "    }\n",
              "\n",
              "    .dataframe tbody tr th {\n",
              "        vertical-align: top;\n",
              "    }\n",
              "\n",
              "    .dataframe thead th {\n",
              "        text-align: right;\n",
              "    }\n",
              "</style>\n",
              "<table border=\"1\" class=\"dataframe\">\n",
              "  <thead>\n",
              "    <tr style=\"text-align: right;\">\n",
              "      <th></th>\n",
              "      <th>locationId</th>\n",
              "      <th>item_id</th>\n",
              "      <th>onpromotion</th>\n",
              "      <th>month</th>\n",
              "      <th>year</th>\n",
              "      <th>weekday</th>\n",
              "    </tr>\n",
              "    <tr>\n",
              "      <th>id</th>\n",
              "      <th></th>\n",
              "      <th></th>\n",
              "      <th></th>\n",
              "      <th></th>\n",
              "      <th></th>\n",
              "      <th></th>\n",
              "    </tr>\n",
              "  </thead>\n",
              "  <tbody>\n",
              "    <tr>\n",
              "      <th>0</th>\n",
              "      <td>17</td>\n",
              "      <td>item_99197</td>\n",
              "      <td>0</td>\n",
              "      <td>1</td>\n",
              "      <td>2019</td>\n",
              "      <td>1</td>\n",
              "    </tr>\n",
              "  </tbody>\n",
              "</table>\n",
              "</div>"
            ],
            "text/plain": [
              "    locationId     item_id  onpromotion  month  year  weekday\n",
              "id                                                           \n",
              "0           17  item_99197            0      1  2019        1"
            ]
          },
          "metadata": {
            "tags": []
          },
          "execution_count": 119
        }
      ]
    },
    {
      "cell_type": "code",
      "metadata": {
        "colab_type": "code",
        "id": "-wzcNNVMn15O",
        "colab": {
          "base_uri": "https://localhost:8080/",
          "height": 34
        },
        "outputId": "bb8ac32f-a681-4eb6-96e3-76052b0b8a13"
      },
      "source": [
        "test_data.shape"
      ],
      "execution_count": null,
      "outputs": [
        {
          "output_type": "execute_result",
          "data": {
            "text/plain": [
              "(1482295, 6)"
            ]
          },
          "metadata": {
            "tags": []
          },
          "execution_count": 77
        }
      ]
    },
    {
      "cell_type": "code",
      "metadata": {
        "colab_type": "code",
        "id": "KUSDR6JC-63M",
        "colab": {
          "base_uri": "https://localhost:8080/",
          "height": 111
        },
        "outputId": "32525d99-491b-42e3-d4d5-fd646f405ddc"
      },
      "source": [
        "test_data.head(1)"
      ],
      "execution_count": 122,
      "outputs": [
        {
          "output_type": "execute_result",
          "data": {
            "text/html": [
              "<div>\n",
              "<style scoped>\n",
              "    .dataframe tbody tr th:only-of-type {\n",
              "        vertical-align: middle;\n",
              "    }\n",
              "\n",
              "    .dataframe tbody tr th {\n",
              "        vertical-align: top;\n",
              "    }\n",
              "\n",
              "    .dataframe thead th {\n",
              "        text-align: right;\n",
              "    }\n",
              "</style>\n",
              "<table border=\"1\" class=\"dataframe\">\n",
              "  <thead>\n",
              "    <tr style=\"text-align: right;\">\n",
              "      <th></th>\n",
              "      <th>locationId</th>\n",
              "      <th>item_id</th>\n",
              "      <th>onpromotion</th>\n",
              "      <th>month</th>\n",
              "      <th>year</th>\n",
              "      <th>weekday</th>\n",
              "    </tr>\n",
              "    <tr>\n",
              "      <th>id</th>\n",
              "      <th></th>\n",
              "      <th></th>\n",
              "      <th></th>\n",
              "      <th></th>\n",
              "      <th></th>\n",
              "      <th></th>\n",
              "    </tr>\n",
              "  </thead>\n",
              "  <tbody>\n",
              "    <tr>\n",
              "      <th>0</th>\n",
              "      <td>17</td>\n",
              "      <td>3881</td>\n",
              "      <td>0</td>\n",
              "      <td>1</td>\n",
              "      <td>2019</td>\n",
              "      <td>1</td>\n",
              "    </tr>\n",
              "  </tbody>\n",
              "</table>\n",
              "</div>"
            ],
            "text/plain": [
              "    locationId item_id  onpromotion  month  year  weekday\n",
              "id                                                       \n",
              "0           17    3881            0      1  2019        1"
            ]
          },
          "metadata": {
            "tags": []
          },
          "execution_count": 122
        }
      ]
    },
    {
      "cell_type": "code",
      "metadata": {
        "colab_type": "code",
        "id": "PyXyRhFp_5bW",
        "colab": {}
      },
      "source": [
        "test_data.onpromotion.replace([True, False], [1, 0], inplace=True)"
      ],
      "execution_count": 137,
      "outputs": []
    },
    {
      "cell_type": "code",
      "metadata": {
        "colab_type": "code",
        "id": "n5yDw6_x_-i4",
        "colab": {
          "base_uri": "https://localhost:8080/",
          "height": 136
        },
        "outputId": "b50c4885-9a53-4606-d123-d885ae868a92"
      },
      "source": [
        " test_data.isna().sum()"
      ],
      "execution_count": 138,
      "outputs": [
        {
          "output_type": "execute_result",
          "data": {
            "text/plain": [
              "locationId     0\n",
              "item_id        0\n",
              "onpromotion    0\n",
              "month          0\n",
              "year           0\n",
              "weekday        0\n",
              "dtype: int64"
            ]
          },
          "metadata": {
            "tags": []
          },
          "execution_count": 138
        }
      ]
    },
    {
      "cell_type": "code",
      "metadata": {
        "colab_type": "code",
        "id": "adCA9NsroI4E",
        "colab": {
          "base_uri": "https://localhost:8080/",
          "height": 34
        },
        "outputId": "9ccbf421-5c58-47c5-e28b-3ce9cc0c8b08"
      },
      "source": [
        "test_data.shape"
      ],
      "execution_count": null,
      "outputs": [
        {
          "output_type": "execute_result",
          "data": {
            "text/plain": [
              "(1482295, 6)"
            ]
          },
          "metadata": {
            "tags": []
          },
          "execution_count": 81
        }
      ]
    },
    {
      "cell_type": "code",
      "metadata": {
        "colab_type": "code",
        "id": "WHuN8-fBIYuE",
        "colab": {}
      },
      "source": [
        "### Writing the test_data with preprocessing steps done into a pickle file\n",
        "pickleFileDump('Test_data',test_data)"
      ],
      "execution_count": 139,
      "outputs": []
    },
    {
      "cell_type": "code",
      "metadata": {
        "colab_type": "code",
        "id": "oJysixuaI1mL",
        "colab": {
          "base_uri": "https://localhost:8080/",
          "height": 187
        },
        "outputId": "d4f9d58e-895e-49c6-f492-3986445dbb56"
      },
      "source": [
        "ls"
      ],
      "execution_count": 140,
      "outputs": [
        {
          "output_type": "stream",
          "text": [
            "EDA.ipynb             sample_sub_XGBoost.csv  unit_sales_predctions_Linear.csv\n",
            "FinalDataset          test.csv                unit_sales_pred_decisiontree.csv\n",
            "item_data             test_data               unit_sales_pred_XGBoost.csv\n",
            "item_details.csv      Test_data               xgb_regressor_model\n",
            "location_data         train.csv               X_test\n",
            "location_details.csv  train_data              X_train\n",
            "merge1                train_data_Preprocess   y_test\n",
            "merge2                train_locations_items   y_train\n",
            "\u001b[0m\u001b[01;34mPickled_files\u001b[0m/        train_transactions\n",
            "salesData             train_transactions.csv\n"
          ],
          "name": "stdout"
        }
      ]
    },
    {
      "cell_type": "code",
      "metadata": {
        "colab_type": "code",
        "id": "mrau4QvVABy-",
        "colab": {}
      },
      "source": [
        "###Predicting the target for the test data\n",
        "pred_test = linear_regression.predict(test_data)"
      ],
      "execution_count": 141,
      "outputs": []
    },
    {
      "cell_type": "code",
      "metadata": {
        "colab_type": "code",
        "id": "cuAuORn2oPsJ",
        "colab": {
          "base_uri": "https://localhost:8080/",
          "height": 34
        },
        "outputId": "28a481f5-67a7-431c-fc09-7ef432ea3c7b"
      },
      "source": [
        "pred_test.shape"
      ],
      "execution_count": null,
      "outputs": [
        {
          "output_type": "execute_result",
          "data": {
            "text/plain": [
              "(1482295,)"
            ]
          },
          "metadata": {
            "tags": []
          },
          "execution_count": 91
        }
      ]
    },
    {
      "cell_type": "code",
      "metadata": {
        "colab_type": "code",
        "id": "JmEN86F2ALvz",
        "colab": {
          "base_uri": "https://localhost:8080/",
          "height": 51
        },
        "outputId": "7c879948-42d8-4f03-a4e1-6f1d6df396a8"
      },
      "source": [
        "pred_test"
      ],
      "execution_count": null,
      "outputs": [
        {
          "output_type": "execute_result",
          "data": {
            "text/plain": [
              "array([6.2684598 , 5.62461806, 6.04475679, ..., 8.37105208, 8.35936611,\n",
              "       8.37522565])"
            ]
          },
          "metadata": {
            "tags": []
          },
          "execution_count": 92
        }
      ]
    },
    {
      "cell_type": "code",
      "metadata": {
        "colab_type": "code",
        "id": "z1m2RMKMAgz1",
        "colab": {}
      },
      "source": [
        "### Writing the test data predicitions into a csv file for submission\n",
        "Dataframe2 = pd.DataFrame({'id' : test_data.index,\n",
        "                          'unit_sales' : pred_test})\n",
        "Dataframe2.to_csv('unit_sales_predc.csv',index=False)"
      ],
      "execution_count": null,
      "outputs": []
    },
    {
      "cell_type": "code",
      "metadata": {
        "colab_type": "code",
        "id": "q-6tg3pQq_2Q",
        "colab": {}
      },
      "source": [
        "Sample_submission=pd.read_csv('unit_sales_predc.csv')"
      ],
      "execution_count": null,
      "outputs": []
    },
    {
      "cell_type": "code",
      "metadata": {
        "colab_type": "code",
        "id": "IHTjyjxQrNUm",
        "colab": {
          "base_uri": "https://localhost:8080/",
          "height": 34
        },
        "outputId": "c4639f96-29e1-490a-d3c5-b9925c0a59ed"
      },
      "source": [
        "Sample_submission.shape"
      ],
      "execution_count": null,
      "outputs": [
        {
          "output_type": "execute_result",
          "data": {
            "text/plain": [
              "(1482295, 2)"
            ]
          },
          "metadata": {
            "tags": []
          },
          "execution_count": 97
        }
      ]
    },
    {
      "cell_type": "code",
      "metadata": {
        "colab_type": "code",
        "id": "zcZVF-2mrR-u",
        "colab": {
          "base_uri": "https://localhost:8080/",
          "height": 142
        },
        "outputId": "b5018db9-6bcc-4da2-d488-35f621a4adba"
      },
      "source": [
        "Sample_submission.head(3)"
      ],
      "execution_count": null,
      "outputs": [
        {
          "output_type": "execute_result",
          "data": {
            "text/html": [
              "<div>\n",
              "<style scoped>\n",
              "    .dataframe tbody tr th:only-of-type {\n",
              "        vertical-align: middle;\n",
              "    }\n",
              "\n",
              "    .dataframe tbody tr th {\n",
              "        vertical-align: top;\n",
              "    }\n",
              "\n",
              "    .dataframe thead th {\n",
              "        text-align: right;\n",
              "    }\n",
              "</style>\n",
              "<table border=\"1\" class=\"dataframe\">\n",
              "  <thead>\n",
              "    <tr style=\"text-align: right;\">\n",
              "      <th></th>\n",
              "      <th>id</th>\n",
              "      <th>unit_sales</th>\n",
              "    </tr>\n",
              "  </thead>\n",
              "  <tbody>\n",
              "    <tr>\n",
              "      <th>0</th>\n",
              "      <td>0</td>\n",
              "      <td>6.268460</td>\n",
              "    </tr>\n",
              "    <tr>\n",
              "      <th>1</th>\n",
              "      <td>1</td>\n",
              "      <td>5.624618</td>\n",
              "    </tr>\n",
              "    <tr>\n",
              "      <th>2</th>\n",
              "      <td>2</td>\n",
              "      <td>6.044757</td>\n",
              "    </tr>\n",
              "  </tbody>\n",
              "</table>\n",
              "</div>"
            ],
            "text/plain": [
              "   id  unit_sales\n",
              "0   0    6.268460\n",
              "1   1    5.624618\n",
              "2   2    6.044757"
            ]
          },
          "metadata": {
            "tags": []
          },
          "execution_count": 98
        }
      ]
    },
    {
      "cell_type": "markdown",
      "metadata": {
        "colab_type": "text",
        "id": "KRt5KxrttTTN"
      },
      "source": [
        "# **Model-2**-Decision Tree"
      ]
    },
    {
      "cell_type": "code",
      "metadata": {
        "colab_type": "code",
        "id": "AYl9OAUNtgfG",
        "colab": {}
      },
      "source": [
        "### Loading the input pickle files for train and test (Validation) data\n",
        "X_train = readPickleFile('X_train')\n",
        "X_test = readPickleFile('X_test')\n",
        "y_test = readPickleFile('y_test')\n",
        "y_train = readPickleFile('y_train')"
      ],
      "execution_count": 142,
      "outputs": []
    },
    {
      "cell_type": "code",
      "metadata": {
        "colab_type": "code",
        "id": "DfDPQTvVx6YY",
        "colab": {
          "base_uri": "https://localhost:8080/",
          "height": 173
        },
        "outputId": "8d6ff751-8bce-42a1-f624-692fbbb9ce45"
      },
      "source": [
        "X_train.head(4)"
      ],
      "execution_count": 143,
      "outputs": [
        {
          "output_type": "execute_result",
          "data": {
            "text/html": [
              "<div>\n",
              "<style scoped>\n",
              "    .dataframe tbody tr th:only-of-type {\n",
              "        vertical-align: middle;\n",
              "    }\n",
              "\n",
              "    .dataframe tbody tr th {\n",
              "        vertical-align: top;\n",
              "    }\n",
              "\n",
              "    .dataframe thead th {\n",
              "        text-align: right;\n",
              "    }\n",
              "</style>\n",
              "<table border=\"1\" class=\"dataframe\">\n",
              "  <thead>\n",
              "    <tr style=\"text-align: right;\">\n",
              "      <th></th>\n",
              "      <th>locationId</th>\n",
              "      <th>item_id</th>\n",
              "      <th>onpromotion</th>\n",
              "      <th>month</th>\n",
              "      <th>year</th>\n",
              "      <th>weekday</th>\n",
              "    </tr>\n",
              "  </thead>\n",
              "  <tbody>\n",
              "    <tr>\n",
              "      <th>51890776</th>\n",
              "      <td>41</td>\n",
              "      <td>2838</td>\n",
              "      <td>False</td>\n",
              "      <td>6</td>\n",
              "      <td>0</td>\n",
              "      <td>19</td>\n",
              "    </tr>\n",
              "    <tr>\n",
              "      <th>93879401</th>\n",
              "      <td>41</td>\n",
              "      <td>3069</td>\n",
              "      <td>False</td>\n",
              "      <td>9</td>\n",
              "      <td>1</td>\n",
              "      <td>13</td>\n",
              "    </tr>\n",
              "    <tr>\n",
              "      <th>56677656</th>\n",
              "      <td>40</td>\n",
              "      <td>3450</td>\n",
              "      <td>False</td>\n",
              "      <td>8</td>\n",
              "      <td>0</td>\n",
              "      <td>14</td>\n",
              "    </tr>\n",
              "    <tr>\n",
              "      <th>72128684</th>\n",
              "      <td>50</td>\n",
              "      <td>2778</td>\n",
              "      <td>False</td>\n",
              "      <td>2</td>\n",
              "      <td>1</td>\n",
              "      <td>1</td>\n",
              "    </tr>\n",
              "  </tbody>\n",
              "</table>\n",
              "</div>"
            ],
            "text/plain": [
              "         locationId item_id  onpromotion month year weekday\n",
              "51890776         41    2838        False     6    0      19\n",
              "93879401         41    3069        False     9    1      13\n",
              "56677656         40    3450        False     8    0      14\n",
              "72128684         50    2778        False     2    1       1"
            ]
          },
          "metadata": {
            "tags": []
          },
          "execution_count": 143
        }
      ]
    },
    {
      "cell_type": "code",
      "metadata": {
        "colab_type": "code",
        "id": "JIw2tpojydvB",
        "colab": {
          "base_uri": "https://localhost:8080/",
          "height": 173
        },
        "outputId": "dac02727-463e-46e7-971d-50d081a94a79"
      },
      "source": [
        "X_test.head(4)"
      ],
      "execution_count": 144,
      "outputs": [
        {
          "output_type": "execute_result",
          "data": {
            "text/html": [
              "<div>\n",
              "<style scoped>\n",
              "    .dataframe tbody tr th:only-of-type {\n",
              "        vertical-align: middle;\n",
              "    }\n",
              "\n",
              "    .dataframe tbody tr th {\n",
              "        vertical-align: top;\n",
              "    }\n",
              "\n",
              "    .dataframe thead th {\n",
              "        text-align: right;\n",
              "    }\n",
              "</style>\n",
              "<table border=\"1\" class=\"dataframe\">\n",
              "  <thead>\n",
              "    <tr style=\"text-align: right;\">\n",
              "      <th></th>\n",
              "      <th>locationId</th>\n",
              "      <th>item_id</th>\n",
              "      <th>onpromotion</th>\n",
              "      <th>month</th>\n",
              "      <th>year</th>\n",
              "      <th>weekday</th>\n",
              "    </tr>\n",
              "  </thead>\n",
              "  <tbody>\n",
              "    <tr>\n",
              "      <th>99146028</th>\n",
              "      <td>47</td>\n",
              "      <td>3042</td>\n",
              "      <td>False</td>\n",
              "      <td>11</td>\n",
              "      <td>1</td>\n",
              "      <td>5</td>\n",
              "    </tr>\n",
              "    <tr>\n",
              "      <th>84862542</th>\n",
              "      <td>4</td>\n",
              "      <td>3341</td>\n",
              "      <td>False</td>\n",
              "      <td>6</td>\n",
              "      <td>1</td>\n",
              "      <td>12</td>\n",
              "    </tr>\n",
              "    <tr>\n",
              "      <th>47403646</th>\n",
              "      <td>48</td>\n",
              "      <td>3560</td>\n",
              "      <td>False</td>\n",
              "      <td>4</td>\n",
              "      <td>0</td>\n",
              "      <td>23</td>\n",
              "    </tr>\n",
              "    <tr>\n",
              "      <th>40145341</th>\n",
              "      <td>19</td>\n",
              "      <td>164</td>\n",
              "      <td>False</td>\n",
              "      <td>0</td>\n",
              "      <td>0</td>\n",
              "      <td>27</td>\n",
              "    </tr>\n",
              "  </tbody>\n",
              "</table>\n",
              "</div>"
            ],
            "text/plain": [
              "         locationId item_id  onpromotion month year weekday\n",
              "99146028         47    3042        False    11    1       5\n",
              "84862542          4    3341        False     6    1      12\n",
              "47403646         48    3560        False     4    0      23\n",
              "40145341         19     164        False     0    0      27"
            ]
          },
          "metadata": {
            "tags": []
          },
          "execution_count": 144
        }
      ]
    },
    {
      "cell_type": "code",
      "metadata": {
        "colab_type": "code",
        "id": "6JjDX2QNyh0W",
        "colab": {
          "base_uri": "https://localhost:8080/",
          "height": 102
        },
        "outputId": "7793847f-3b7f-499b-846b-486bdfc83c81"
      },
      "source": [
        "y_train.head(4)"
      ],
      "execution_count": 145,
      "outputs": [
        {
          "output_type": "execute_result",
          "data": {
            "text/plain": [
              "51890776    17.0\n",
              "93879401     4.0\n",
              "56677656     2.0\n",
              "72128684     5.0\n",
              "Name: unit_sales, dtype: float64"
            ]
          },
          "metadata": {
            "tags": []
          },
          "execution_count": 145
        }
      ]
    },
    {
      "cell_type": "code",
      "metadata": {
        "colab_type": "code",
        "id": "sjDC7YzYzG-u",
        "colab": {
          "base_uri": "https://localhost:8080/",
          "height": 102
        },
        "outputId": "6e8275a8-6430-44d9-d27e-b3d230d78171"
      },
      "source": [
        "y_test.head(4)"
      ],
      "execution_count": 146,
      "outputs": [
        {
          "output_type": "execute_result",
          "data": {
            "text/plain": [
              "99146028     1.0\n",
              "84862542     4.0\n",
              "47403646    27.0\n",
              "40145341     1.0\n",
              "Name: unit_sales, dtype: float64"
            ]
          },
          "metadata": {
            "tags": []
          },
          "execution_count": 146
        }
      ]
    },
    {
      "cell_type": "code",
      "metadata": {
        "colab_type": "code",
        "id": "GYU08FVizTYi",
        "colab": {}
      },
      "source": [
        "### Importing the necessary libraries to run Decision tree regressor\n",
        "from sklearn.tree import DecisionTreeRegressor"
      ],
      "execution_count": 147,
      "outputs": []
    },
    {
      "cell_type": "code",
      "metadata": {
        "colab_type": "code",
        "id": "GjqqBcQHzlM_",
        "colab": {}
      },
      "source": [
        "DecisionTreeRegressor_model = DecisionTreeRegressor(max_depth=5,min_samples_leaf=10,min_samples_split=5,random_state=123,criterion='mae')\n",
        "DecisionTreeRegressor_model.fit(X_train,y_train)"
      ],
      "execution_count": null,
      "outputs": []
    },
    {
      "cell_type": "code",
      "metadata": {
        "colab_type": "code",
        "id": "1nfuRoGBTntl",
        "colab": {}
      },
      "source": [
        "pickleFileDump('DecisionTreeRegressor_model',DecisionTreeRegressor_model)"
      ],
      "execution_count": null,
      "outputs": []
    },
    {
      "cell_type": "code",
      "metadata": {
        "colab_type": "code",
        "id": "do_aKm5W0ZSe",
        "colab": {}
      },
      "source": [
        "## Get the predictions on train and test (Validation) data\n",
        "pred_train = DecisionTreeRegressor_model.predict(X_train)\n",
        "pred_test = DecisionTreeRegressor_model.predict(X_test)"
      ],
      "execution_count": null,
      "outputs": []
    },
    {
      "cell_type": "code",
      "metadata": {
        "colab_type": "code",
        "id": "0L4y2WN1J6Ek",
        "colab": {}
      },
      "source": [
        "### Cal\n",
        "train_mape=mean_absolute_percentage_error(y_train,pred_train)"
      ],
      "execution_count": null,
      "outputs": []
    },
    {
      "cell_type": "code",
      "metadata": {
        "colab_type": "code",
        "id": "9hKi-XduKKe-",
        "colab": {
          "base_uri": "https://localhost:8080/",
          "height": 34
        },
        "outputId": "45e3badb-ca0f-40ce-c568-eed192b763ec"
      },
      "source": [
        "print(Train_mape)"
      ],
      "execution_count": null,
      "outputs": [
        {
          "output_type": "stream",
          "text": [
            "218.55826253728017\n"
          ],
          "name": "stdout"
        }
      ]
    },
    {
      "cell_type": "code",
      "metadata": {
        "colab_type": "code",
        "id": "hIKz1h46KOmc",
        "colab": {}
      },
      "source": [
        "Validation_mape=mean_absolute_percentage_error(y_test,pred_test)"
      ],
      "execution_count": null,
      "outputs": []
    },
    {
      "cell_type": "code",
      "metadata": {
        "colab_type": "code",
        "id": "17WYnQRNKdEK",
        "colab": {
          "base_uri": "https://localhost:8080/",
          "height": 34
        },
        "outputId": "6f22fb1a-bce1-4060-c70b-76693a71cd81"
      },
      "source": [
        "print(Validation_mape)"
      ],
      "execution_count": null,
      "outputs": [
        {
          "output_type": "stream",
          "text": [
            "218.7049848160023\n"
          ],
          "name": "stdout"
        }
      ]
    },
    {
      "cell_type": "code",
      "metadata": {
        "colab_type": "code",
        "id": "8EMM0he51CvM",
        "colab": {}
      },
      "source": [
        "Test_data = readPickleFile('Test_data')"
      ],
      "execution_count": null,
      "outputs": []
    },
    {
      "cell_type": "code",
      "metadata": {
        "colab_type": "code",
        "id": "NkSO5NG51jDA",
        "colab": {}
      },
      "source": [
        "pred_Test=dtr.predict(Test_data)"
      ],
      "execution_count": null,
      "outputs": []
    },
    {
      "cell_type": "code",
      "metadata": {
        "colab_type": "code",
        "id": "1P8VF7cI10TB",
        "colab": {
          "base_uri": "https://localhost:8080/",
          "height": 34
        },
        "outputId": "3b4bb32a-af67-488f-a5d9-88b55ea3ad10"
      },
      "source": [
        "pred_Test.shape"
      ],
      "execution_count": null,
      "outputs": [
        {
          "output_type": "execute_result",
          "data": {
            "text/plain": [
              "(1482295,)"
            ]
          },
          "metadata": {
            "tags": []
          },
          "execution_count": 92
        }
      ]
    },
    {
      "cell_type": "code",
      "metadata": {
        "colab_type": "code",
        "id": "JXM_cHRqK0nK",
        "colab": {}
      },
      "source": [
        "Dataframe2 = pd.DataFrame({'id' : Test_data.index,\n",
        "                          'unit_sales' : pred_Test})\n",
        "Dataframe2.to_csv('unit_sales_pred_decisiontree.csv',index=False)"
      ],
      "execution_count": null,
      "outputs": []
    },
    {
      "cell_type": "code",
      "metadata": {
        "colab_type": "code",
        "id": "Irs2vVdzLbkP",
        "colab": {
          "base_uri": "https://localhost:8080/",
          "height": 142
        },
        "outputId": "789a75e6-8b20-40bc-ee1b-5c63ab49e521"
      },
      "source": [
        "Dataframe2.head(3)"
      ],
      "execution_count": null,
      "outputs": [
        {
          "output_type": "execute_result",
          "data": {
            "text/html": [
              "<div>\n",
              "<style scoped>\n",
              "    .dataframe tbody tr th:only-of-type {\n",
              "        vertical-align: middle;\n",
              "    }\n",
              "\n",
              "    .dataframe tbody tr th {\n",
              "        vertical-align: top;\n",
              "    }\n",
              "\n",
              "    .dataframe thead th {\n",
              "        text-align: right;\n",
              "    }\n",
              "</style>\n",
              "<table border=\"1\" class=\"dataframe\">\n",
              "  <thead>\n",
              "    <tr style=\"text-align: right;\">\n",
              "      <th></th>\n",
              "      <th>id</th>\n",
              "      <th>unit_sales</th>\n",
              "    </tr>\n",
              "  </thead>\n",
              "  <tbody>\n",
              "    <tr>\n",
              "      <th>0</th>\n",
              "      <td>0</td>\n",
              "      <td>7.012091</td>\n",
              "    </tr>\n",
              "    <tr>\n",
              "      <th>1</th>\n",
              "      <td>1</td>\n",
              "      <td>8.497366</td>\n",
              "    </tr>\n",
              "    <tr>\n",
              "      <th>2</th>\n",
              "      <td>2</td>\n",
              "      <td>5.204454</td>\n",
              "    </tr>\n",
              "  </tbody>\n",
              "</table>\n",
              "</div>"
            ],
            "text/plain": [
              "   id  unit_sales\n",
              "0   0    7.012091\n",
              "1   1    8.497366\n",
              "2   2    5.204454"
            ]
          },
          "metadata": {
            "tags": []
          },
          "execution_count": 94
        }
      ]
    },
    {
      "cell_type": "markdown",
      "metadata": {
        "colab_type": "text",
        "id": "qv-RcferOCZm"
      },
      "source": [
        "# **Model 3: XGB Regressor**"
      ]
    },
    {
      "cell_type": "code",
      "metadata": {
        "colab_type": "code",
        "id": "BE6b2z7IOQpL",
        "colab": {}
      },
      "source": [
        "### Loading the necessary Libraries to run XGBoost Regressor\n",
        "from xgboost.sklearn import XGBRegressor\n",
        "import xgboost as xgb"
      ],
      "execution_count": null,
      "outputs": []
    },
    {
      "cell_type": "code",
      "metadata": {
        "colab_type": "code",
        "id": "7jvugtHwQr5Z",
        "colab": {}
      },
      "source": [
        "###Loading the necessary input files (train, Validation and test data pickle files)\n",
        "X_train = readPickleFile('X_train')\n",
        "X_test = readPickleFile('X_test')\n",
        "y_test = readPickleFile('y_test')\n",
        "y_train = readPickleFile('y_train')\n",
        "Test_data = readPickleFile('Test_data')"
      ],
      "execution_count": null,
      "outputs": []
    },
    {
      "cell_type": "code",
      "metadata": {
        "colab_type": "code",
        "id": "TEVvUbDBPHdo",
        "colab": {
          "base_uri": "https://localhost:8080/",
          "height": 34
        },
        "outputId": "60ba8dd2-5717-4f95-f63b-e50e3c2683f0"
      },
      "source": [
        "X_train.shape"
      ],
      "execution_count": null,
      "outputs": [
        {
          "output_type": "execute_result",
          "data": {
            "text/plain": [
              "(44159129, 6)"
            ]
          },
          "metadata": {
            "tags": []
          },
          "execution_count": 12
        }
      ]
    },
    {
      "cell_type": "code",
      "metadata": {
        "colab_type": "code",
        "id": "47umhGsoO-DO",
        "colab": {
          "base_uri": "https://localhost:8080/",
          "height": 34
        },
        "outputId": "d76883d4-aaec-4032-9e71-171e522ecb6c"
      },
      "source": [
        "X_test.shape"
      ],
      "execution_count": null,
      "outputs": [
        {
          "output_type": "execute_result",
          "data": {
            "text/plain": [
              "(18925342, 6)"
            ]
          },
          "metadata": {
            "tags": []
          },
          "execution_count": 11
        }
      ]
    },
    {
      "cell_type": "code",
      "metadata": {
        "colab_type": "code",
        "id": "zOG98Vxvs7JB",
        "colab": {
          "base_uri": "https://localhost:8080/",
          "height": 292
        },
        "outputId": "1966acf4-a3e1-4ee1-d5aa-d181fe03a5a7"
      },
      "source": [
        "xgb_regressor_model=XGBRegressor(base_score=0.5, booster='gbtree', colsample_bylevel=1,\n",
        "             colsample_bynode=1, colsample_bytree=1, gamma=0,\n",
        "             importance_type='gain', learning_rate=0.001, max_delta_step=0,\n",
        "             max_depth=3, min_child_weight=1, missing=None, n_estimators=100,\n",
        "             n_jobs=1, nthread=None, objective='reg:linear', random_state=0,\n",
        "             reg_alpha=0, reg_lambda=1, scale_pos_weight=1, seed=None,\n",
        "             silent=None, subsample=1, verbosity=1)\n",
        "%time xgb_regressor_model.fit(X_train,y_train,verbose=True)"
      ],
      "execution_count": null,
      "outputs": [
        {
          "output_type": "stream",
          "text": [
            "/usr/local/lib/python3.6/dist-packages/xgboost/core.py:587: FutureWarning: Series.base is deprecated and will be removed in a future version\n",
            "  if getattr(data, 'base', None) is not None and \\\n",
            "/usr/local/lib/python3.6/dist-packages/xgboost/core.py:588: FutureWarning: Series.base is deprecated and will be removed in a future version\n",
            "  data.base is not None and isinstance(data, np.ndarray) \\\n"
          ],
          "name": "stderr"
        },
        {
          "output_type": "stream",
          "text": [
            "[10:36:31] WARNING: /workspace/src/objective/regression_obj.cu:152: reg:linear is now deprecated in favor of reg:squarederror.\n",
            "[10:36:31] WARNING: /workspace/src/learner.cc:686: Tree method is automatically selected to be 'approx' for faster speed. To use old behavior (exact greedy algorithm on single machine), set tree_method to 'exact'.\n",
            "CPU times: user 1h 53min 42s, sys: 5.56 s, total: 1h 53min 47s\n",
            "Wall time: 1h 53min 50s\n"
          ],
          "name": "stdout"
        },
        {
          "output_type": "execute_result",
          "data": {
            "text/plain": [
              "XGBRegressor(base_score=0.5, booster='gbtree', colsample_bylevel=1,\n",
              "             colsample_bynode=1, colsample_bytree=1, gamma=0,\n",
              "             importance_type='gain', learning_rate=0.001, max_delta_step=0,\n",
              "             max_depth=3, min_child_weight=1, missing=None, n_estimators=100,\n",
              "             n_jobs=1, nthread=None, objective='reg:linear', random_state=0,\n",
              "             reg_alpha=0, reg_lambda=1, scale_pos_weight=1, seed=None,\n",
              "             silent=None, subsample=1, verbosity=1)"
            ]
          },
          "metadata": {
            "tags": []
          },
          "execution_count": 10
        }
      ]
    },
    {
      "cell_type": "code",
      "metadata": {
        "colab_type": "code",
        "id": "rBJjOVWkNNCM",
        "colab": {}
      },
      "source": [
        "### Storing the model into a pickle file to easily predict on the train data\n",
        "pickleFileDump('xgb_regressor_model',xgb_regressor_model)"
      ],
      "execution_count": null,
      "outputs": []
    },
    {
      "cell_type": "code",
      "metadata": {
        "colab_type": "code",
        "id": "vLeVt28vNMSP",
        "colab": {
          "base_uri": "https://localhost:8080/",
          "height": 34
        },
        "outputId": "e1702c87-67f4-4d17-c71b-fc8e859930f6"
      },
      "source": [
        "xgb_regressor_model = readPickleFile('xgb_regressor_model')\n"
      ],
      "execution_count": null,
      "outputs": [
        {
          "output_type": "stream",
          "text": [
            "[13:01:19] WARNING: /workspace/src/objective/regression_obj.cu:152: reg:linear is now deprecated in favor of reg:squarederror.\n"
          ],
          "name": "stdout"
        }
      ]
    },
    {
      "cell_type": "code",
      "metadata": {
        "colab_type": "code",
        "id": "aTG2ThOinDMB",
        "colab": {}
      },
      "source": [
        "### Predictions on train and test (Validation) data\n",
        "pred_train = xgb_regressor_model.predict(X_train)\n",
        "pred_test = xgb_regressor_model.predict(X_test)"
      ],
      "execution_count": null,
      "outputs": []
    },
    {
      "cell_type": "code",
      "metadata": {
        "colab_type": "code",
        "id": "Yir45XOgEoEc",
        "colab": {
          "base_uri": "https://localhost:8080/",
          "height": 51
        },
        "outputId": "5bb02006-8c84-431b-b6fc-d4514d988476"
      },
      "source": [
        "### Calculating the predictions both on train and test (Validation) data\n",
        "print(\"Train Error:\",mean_absolute_percentage_error(y_train,pred_train))\n",
        "\n",
        "print(\"Test Error:\",mean_absolute_percentage_error(y_test, pred_test))"
      ],
      "execution_count": null,
      "outputs": [
        {
          "output_type": "stream",
          "text": [
            "Train Error: 61.964722403862616\n",
            "Test Error: 61.95000128333308\n"
          ],
          "name": "stdout"
        }
      ]
    },
    {
      "cell_type": "code",
      "metadata": {
        "colab_type": "code",
        "id": "BVIRu1drQ1DM",
        "colab": {}
      },
      "source": [
        "### Predictions on the test data"
      ],
      "execution_count": null,
      "outputs": []
    },
    {
      "cell_type": "code",
      "metadata": {
        "colab_type": "code",
        "id": "-GWxgqoSRRg5",
        "colab": {}
      },
      "source": [
        "pred_Test = xgb_regressor_model.predict(Test_data)"
      ],
      "execution_count": null,
      "outputs": []
    },
    {
      "cell_type": "code",
      "metadata": {
        "colab_type": "code",
        "id": "Q1jqgiEGLNQW",
        "colab": {}
      },
      "source": [
        "## writing the predictions of test data into a csv file for submission\n",
        "Dataframe2 = pd.DataFrame({'id' : Test_data.index,\n",
        "                          'unit_sales' : pred_Test})\n",
        "Dataframe2.to_csv('unit_sales_pred_XGBoost.csv',index=False)"
      ],
      "execution_count": null,
      "outputs": []
    },
    {
      "cell_type": "code",
      "metadata": {
        "colab_type": "code",
        "id": "5orW9KIrRe6J",
        "colab": {
          "base_uri": "https://localhost:8080/",
          "height": 173
        },
        "outputId": "c103e532-af55-4c0c-8295-2e14abdf1022"
      },
      "source": [
        "Dataframe2.head(4)"
      ],
      "execution_count": null,
      "outputs": [
        {
          "output_type": "execute_result",
          "data": {
            "text/html": [
              "<div>\n",
              "<style scoped>\n",
              "    .dataframe tbody tr th:only-of-type {\n",
              "        vertical-align: middle;\n",
              "    }\n",
              "\n",
              "    .dataframe tbody tr th {\n",
              "        vertical-align: top;\n",
              "    }\n",
              "\n",
              "    .dataframe thead th {\n",
              "        text-align: right;\n",
              "    }\n",
              "</style>\n",
              "<table border=\"1\" class=\"dataframe\">\n",
              "  <thead>\n",
              "    <tr style=\"text-align: right;\">\n",
              "      <th></th>\n",
              "      <th>id</th>\n",
              "      <th>unit_sales</th>\n",
              "    </tr>\n",
              "  </thead>\n",
              "  <tbody>\n",
              "    <tr>\n",
              "      <th>0</th>\n",
              "      <td>0</td>\n",
              "      <td>1.085582</td>\n",
              "    </tr>\n",
              "    <tr>\n",
              "      <th>1</th>\n",
              "      <td>1</td>\n",
              "      <td>1.085582</td>\n",
              "    </tr>\n",
              "    <tr>\n",
              "      <th>2</th>\n",
              "      <td>2</td>\n",
              "      <td>1.085582</td>\n",
              "    </tr>\n",
              "    <tr>\n",
              "      <th>3</th>\n",
              "      <td>3</td>\n",
              "      <td>1.085582</td>\n",
              "    </tr>\n",
              "  </tbody>\n",
              "</table>\n",
              "</div>"
            ],
            "text/plain": [
              "   id  unit_sales\n",
              "0   0    1.085582\n",
              "1   1    1.085582\n",
              "2   2    1.085582\n",
              "3   3    1.085582"
            ]
          },
          "metadata": {
            "tags": []
          },
          "execution_count": 23
        }
      ]
    },
    {
      "cell_type": "markdown",
      "metadata": {
        "colab_type": "text",
        "id": "xzIonpsyIV6s"
      },
      "source": [
        "# XGBoost Tuning Model-1"
      ]
    },
    {
      "cell_type": "code",
      "metadata": {
        "colab_type": "code",
        "id": "9oghm1nqVvb6",
        "colab": {
          "base_uri": "https://localhost:8080/",
          "height": 255
        },
        "outputId": "985d9b65-d913-4b19-81ac-4d08c01d25ae"
      },
      "source": [
        "xgb_regressor_model_1=XGBRegressor(base_score=0.5, booster='gblinear', colsample_bylevel=1,\n",
        "             colsample_bynode=1, colsample_bytree=1, gamma=0,\n",
        "             importance_type='gain', learning_rate=0.001, max_delta_step=0,\n",
        "             max_depth=6, min_child_weight=1, missing=None, n_estimators=110,\n",
        "             n_jobs=1, nthread=None, objective='reg:linear', random_state=0,\n",
        "             reg_alpha=0, reg_lambda=1, scale_pos_weight=1, seed=None,\n",
        "             silent=None, subsample=0.7, verbosity=1)\n",
        "%time xgb_regressor_model_1.fit(X_train,y_train,verbose=True)"
      ],
      "execution_count": null,
      "outputs": [
        {
          "output_type": "stream",
          "text": [
            "/usr/local/lib/python3.6/dist-packages/xgboost/core.py:587: FutureWarning: Series.base is deprecated and will be removed in a future version\n",
            "  if getattr(data, 'base', None) is not None and \\\n",
            "/usr/local/lib/python3.6/dist-packages/xgboost/core.py:588: FutureWarning: Series.base is deprecated and will be removed in a future version\n",
            "  data.base is not None and isinstance(data, np.ndarray) \\\n"
          ],
          "name": "stderr"
        },
        {
          "output_type": "stream",
          "text": [
            "[19:41:12] WARNING: /workspace/src/objective/regression_obj.cu:152: reg:linear is now deprecated in favor of reg:squarederror.\n",
            "CPU times: user 14min 3s, sys: 4.07 s, total: 14min 7s\n",
            "Wall time: 14min 7s\n"
          ],
          "name": "stdout"
        },
        {
          "output_type": "execute_result",
          "data": {
            "text/plain": [
              "XGBRegressor(base_score=0.5, booster='gblinear', colsample_bylevel=1,\n",
              "             colsample_bynode=1, colsample_bytree=1, gamma=0,\n",
              "             importance_type='gain', learning_rate=0.001, max_delta_step=0,\n",
              "             max_depth=6, min_child_weight=1, missing=None, n_estimators=110,\n",
              "             n_jobs=1, nthread=None, objective='reg:linear', random_state=0,\n",
              "             reg_alpha=0, reg_lambda=1, scale_pos_weight=1, seed=None,\n",
              "             silent=None, subsample=0.7, verbosity=1)"
            ]
          },
          "metadata": {
            "tags": []
          },
          "execution_count": 16
        }
      ]
    },
    {
      "cell_type": "code",
      "metadata": {
        "colab_type": "code",
        "id": "dyJKbcPTV3g7",
        "colab": {}
      },
      "source": [
        "### Predictions on train and test (Validation) data\n",
        "pred_train = xgb_regressor_model_1.predict(X_train)\n",
        "pred_test = xgb_regressor_model_1.predict(X_test)"
      ],
      "execution_count": null,
      "outputs": []
    },
    {
      "cell_type": "code",
      "metadata": {
        "colab_type": "code",
        "id": "SHNUMJ7OO1_R",
        "colab": {
          "base_uri": "https://localhost:8080/",
          "height": 51
        },
        "outputId": "5df67479-b200-405b-c337-2469ab8ccd1e"
      },
      "source": [
        "### Calculating the predictions both on train and test (Validation) data\n",
        "print(\"Train Error:\",mean_absolute_percentage_error(y_train,pred_train))\n",
        "\n",
        "print(\"Test Error:\",mean_absolute_percentage_error(y_test, pred_test))"
      ],
      "execution_count": null,
      "outputs": [
        {
          "output_type": "stream",
          "text": [
            "Train Error: 102.42354251702115\n",
            "Test Error: 102.47667726782032\n"
          ],
          "name": "stdout"
        }
      ]
    },
    {
      "cell_type": "markdown",
      "metadata": {
        "colab_type": "text",
        "id": "C0LUn2iWGz1J"
      },
      "source": [
        "#Model 4 - Random Forest"
      ]
    },
    {
      "cell_type": "code",
      "metadata": {
        "colab_type": "code",
        "id": "bdIeXmaYT8L-",
        "colab": {}
      },
      "source": [
        "#Loading the necessary libraries to run the model\n",
        "from sklearn.ensemble import RandomForestRegressor\n",
        "random_Forest = RandomForestRegressor(n_estimators= 100, max_depth= 10,criterion='mse')"
      ],
      "execution_count": null,
      "outputs": []
    },
    {
      "cell_type": "code",
      "metadata": {
        "colab_type": "code",
        "id": "3oGrpiOzUMYU",
        "colab": {}
      },
      "source": [
        "##Fit a model\n",
        "random_Forest.fit(X_train,y_train)"
      ],
      "execution_count": null,
      "outputs": []
    },
    {
      "cell_type": "code",
      "metadata": {
        "colab_type": "code",
        "id": "m-vgP6-iafUc",
        "colab": {}
      },
      "source": [
        "###Get the predictions on train and validation data\n",
        "pred_train = randomForest.predict(X_train)\n",
        "pred_test = randomForest.predict(X_test)"
      ],
      "execution_count": null,
      "outputs": []
    },
    {
      "cell_type": "code",
      "metadata": {
        "colab_type": "code",
        "id": "uhn3IQTvavoY",
        "colab": {}
      },
      "source": [
        "###Get prediction values for test data\n",
        "pred_test = randomForest.predict(Test_data)"
      ],
      "execution_count": null,
      "outputs": []
    },
    {
      "cell_type": "code",
      "metadata": {
        "colab_type": "code",
        "id": "UjMZ0YhObQjn",
        "colab": {}
      },
      "source": [
        "## print Mape for train and test\n",
        "print('Train Mape', mean_absolute_percentage_error(y_train, pred_train))\n",
        "print('Test Mape', mean_absolute_percentage_error(y_test, pred_test))"
      ],
      "execution_count": null,
      "outputs": []
    },
    {
      "cell_type": "markdown",
      "metadata": {
        "colab_type": "text",
        "id": "dgIzqTqCXwJV"
      },
      "source": [
        "#Operation Team Question and Answers"
      ]
    },
    {
      "cell_type": "code",
      "metadata": {
        "colab_type": "code",
        "id": "8oyGbBTaX2Ih",
        "colab": {}
      },
      "source": [
        "###Loading the test data\n",
        "test_data = pd.read_csv('test.csv',header='infer',sep=',')"
      ],
      "execution_count": null,
      "outputs": []
    },
    {
      "cell_type": "code",
      "metadata": {
        "colab_type": "code",
        "id": "wHrrBZpRYIXa",
        "colab": {
          "base_uri": "https://localhost:8080/",
          "height": 173
        },
        "outputId": "da4d3f8f-e596-413d-d7b5-fa81c28169eb"
      },
      "source": [
        "test_data.head(4)"
      ],
      "execution_count": null,
      "outputs": [
        {
          "output_type": "execute_result",
          "data": {
            "text/html": [
              "<div>\n",
              "<style scoped>\n",
              "    .dataframe tbody tr th:only-of-type {\n",
              "        vertical-align: middle;\n",
              "    }\n",
              "\n",
              "    .dataframe tbody tr th {\n",
              "        vertical-align: top;\n",
              "    }\n",
              "\n",
              "    .dataframe thead th {\n",
              "        text-align: right;\n",
              "    }\n",
              "</style>\n",
              "<table border=\"1\" class=\"dataframe\">\n",
              "  <thead>\n",
              "    <tr style=\"text-align: right;\">\n",
              "      <th></th>\n",
              "      <th>id</th>\n",
              "      <th>date</th>\n",
              "      <th>locationId</th>\n",
              "      <th>item_id</th>\n",
              "      <th>onpromotion</th>\n",
              "    </tr>\n",
              "  </thead>\n",
              "  <tbody>\n",
              "    <tr>\n",
              "      <th>0</th>\n",
              "      <td>0</td>\n",
              "      <td>2019-01-01</td>\n",
              "      <td>location_25</td>\n",
              "      <td>item_99197</td>\n",
              "      <td>False</td>\n",
              "    </tr>\n",
              "    <tr>\n",
              "      <th>1</th>\n",
              "      <td>1</td>\n",
              "      <td>2019-01-01</td>\n",
              "      <td>location_25</td>\n",
              "      <td>item_103665</td>\n",
              "      <td>False</td>\n",
              "    </tr>\n",
              "    <tr>\n",
              "      <th>2</th>\n",
              "      <td>2</td>\n",
              "      <td>2019-01-01</td>\n",
              "      <td>location_25</td>\n",
              "      <td>item_105574</td>\n",
              "      <td>False</td>\n",
              "    </tr>\n",
              "    <tr>\n",
              "      <th>3</th>\n",
              "      <td>3</td>\n",
              "      <td>2019-01-01</td>\n",
              "      <td>location_25</td>\n",
              "      <td>item_105857</td>\n",
              "      <td>False</td>\n",
              "    </tr>\n",
              "  </tbody>\n",
              "</table>\n",
              "</div>"
            ],
            "text/plain": [
              "   id        date   locationId      item_id  onpromotion\n",
              "0   0  2019-01-01  location_25   item_99197        False\n",
              "1   1  2019-01-01  location_25  item_103665        False\n",
              "2   2  2019-01-01  location_25  item_105574        False\n",
              "3   3  2019-01-01  location_25  item_105857        False"
            ]
          },
          "metadata": {
            "tags": []
          },
          "execution_count": 12
        }
      ]
    },
    {
      "cell_type": "code",
      "metadata": {
        "colab_type": "code",
        "id": "J-ZZ28VKY5jc",
        "colab": {
          "base_uri": "https://localhost:8080/",
          "height": 173
        },
        "outputId": "98612e9e-6d87-4aeb-c238-56e24375edb6"
      },
      "source": [
        "test_data.tail(4)"
      ],
      "execution_count": null,
      "outputs": [
        {
          "output_type": "execute_result",
          "data": {
            "text/html": [
              "<div>\n",
              "<style scoped>\n",
              "    .dataframe tbody tr th:only-of-type {\n",
              "        vertical-align: middle;\n",
              "    }\n",
              "\n",
              "    .dataframe tbody tr th {\n",
              "        vertical-align: top;\n",
              "    }\n",
              "\n",
              "    .dataframe thead th {\n",
              "        text-align: right;\n",
              "    }\n",
              "</style>\n",
              "<table border=\"1\" class=\"dataframe\">\n",
              "  <thead>\n",
              "    <tr style=\"text-align: right;\">\n",
              "      <th></th>\n",
              "      <th>id</th>\n",
              "      <th>date</th>\n",
              "      <th>locationId</th>\n",
              "      <th>item_id</th>\n",
              "      <th>onpromotion</th>\n",
              "    </tr>\n",
              "  </thead>\n",
              "  <tbody>\n",
              "    <tr>\n",
              "      <th>1482291</th>\n",
              "      <td>1482291</td>\n",
              "      <td>2019-01-15</td>\n",
              "      <td>location_54</td>\n",
              "      <td>item_2048421</td>\n",
              "      <td>False</td>\n",
              "    </tr>\n",
              "    <tr>\n",
              "      <th>1482292</th>\n",
              "      <td>1482292</td>\n",
              "      <td>2019-01-15</td>\n",
              "      <td>location_54</td>\n",
              "      <td>item_2048471</td>\n",
              "      <td>False</td>\n",
              "    </tr>\n",
              "    <tr>\n",
              "      <th>1482293</th>\n",
              "      <td>1482293</td>\n",
              "      <td>2019-01-15</td>\n",
              "      <td>location_54</td>\n",
              "      <td>item_2048515</td>\n",
              "      <td>False</td>\n",
              "    </tr>\n",
              "    <tr>\n",
              "      <th>1482294</th>\n",
              "      <td>1482294</td>\n",
              "      <td>2019-01-15</td>\n",
              "      <td>location_54</td>\n",
              "      <td>item_2048674</td>\n",
              "      <td>False</td>\n",
              "    </tr>\n",
              "  </tbody>\n",
              "</table>\n",
              "</div>"
            ],
            "text/plain": [
              "              id        date   locationId       item_id  onpromotion\n",
              "1482291  1482291  2019-01-15  location_54  item_2048421        False\n",
              "1482292  1482292  2019-01-15  location_54  item_2048471        False\n",
              "1482293  1482293  2019-01-15  location_54  item_2048515        False\n",
              "1482294  1482294  2019-01-15  location_54  item_2048674        False"
            ]
          },
          "metadata": {
            "tags": []
          },
          "execution_count": 13
        }
      ]
    },
    {
      "cell_type": "code",
      "metadata": {
        "colab_type": "code",
        "id": "N2ke6d0eZQR-",
        "colab": {
          "base_uri": "https://localhost:8080/",
          "height": 34
        },
        "outputId": "9a0cf0b8-3d92-4033-ba2c-5ee1f0156418"
      },
      "source": [
        "test_data.shape"
      ],
      "execution_count": null,
      "outputs": [
        {
          "output_type": "execute_result",
          "data": {
            "text/plain": [
              "(1482295, 5)"
            ]
          },
          "metadata": {
            "tags": []
          },
          "execution_count": 14
        }
      ]
    },
    {
      "cell_type": "code",
      "metadata": {
        "colab_type": "code",
        "id": "sXuFR3MRZUsO",
        "colab": {}
      },
      "source": [
        "##Loading the predictions data\n",
        "predict_XGBOOST_data = pd.read_csv('sample_sub_XGBoost.csv',header='infer',sep=',')"
      ],
      "execution_count": null,
      "outputs": []
    },
    {
      "cell_type": "code",
      "metadata": {
        "colab_type": "code",
        "id": "NPSOywQOZ35t",
        "colab": {
          "base_uri": "https://localhost:8080/",
          "height": 204
        },
        "outputId": "2bbe28f2-6e3d-45d3-c2c8-d6098129cebe"
      },
      "source": [
        "predict_XGBOOST_data.head(5)"
      ],
      "execution_count": null,
      "outputs": [
        {
          "output_type": "execute_result",
          "data": {
            "text/html": [
              "<div>\n",
              "<style scoped>\n",
              "    .dataframe tbody tr th:only-of-type {\n",
              "        vertical-align: middle;\n",
              "    }\n",
              "\n",
              "    .dataframe tbody tr th {\n",
              "        vertical-align: top;\n",
              "    }\n",
              "\n",
              "    .dataframe thead th {\n",
              "        text-align: right;\n",
              "    }\n",
              "</style>\n",
              "<table border=\"1\" class=\"dataframe\">\n",
              "  <thead>\n",
              "    <tr style=\"text-align: right;\">\n",
              "      <th></th>\n",
              "      <th>id</th>\n",
              "      <th>unit_sales</th>\n",
              "    </tr>\n",
              "  </thead>\n",
              "  <tbody>\n",
              "    <tr>\n",
              "      <th>0</th>\n",
              "      <td>0</td>\n",
              "      <td>1.085583</td>\n",
              "    </tr>\n",
              "    <tr>\n",
              "      <th>1</th>\n",
              "      <td>1</td>\n",
              "      <td>1.085583</td>\n",
              "    </tr>\n",
              "    <tr>\n",
              "      <th>2</th>\n",
              "      <td>2</td>\n",
              "      <td>1.085583</td>\n",
              "    </tr>\n",
              "    <tr>\n",
              "      <th>3</th>\n",
              "      <td>3</td>\n",
              "      <td>1.085583</td>\n",
              "    </tr>\n",
              "    <tr>\n",
              "      <th>4</th>\n",
              "      <td>4</td>\n",
              "      <td>1.085583</td>\n",
              "    </tr>\n",
              "  </tbody>\n",
              "</table>\n",
              "</div>"
            ],
            "text/plain": [
              "   id  unit_sales\n",
              "0   0    1.085583\n",
              "1   1    1.085583\n",
              "2   2    1.085583\n",
              "3   3    1.085583\n",
              "4   4    1.085583"
            ]
          },
          "metadata": {
            "tags": []
          },
          "execution_count": 20
        }
      ]
    },
    {
      "cell_type": "code",
      "metadata": {
        "colab_type": "code",
        "id": "n7xLNULfaixD",
        "colab": {
          "base_uri": "https://localhost:8080/",
          "height": 34
        },
        "outputId": "a70d0d40-48ad-484f-b5ec-ba0807811f22"
      },
      "source": [
        "predict_XGBOOST_data.shape"
      ],
      "execution_count": null,
      "outputs": [
        {
          "output_type": "execute_result",
          "data": {
            "text/plain": [
              "(1482295, 2)"
            ]
          },
          "metadata": {
            "tags": []
          },
          "execution_count": 21
        }
      ]
    },
    {
      "cell_type": "code",
      "metadata": {
        "colab_type": "code",
        "id": "7L7883Jba30J",
        "colab": {}
      },
      "source": [
        "###Merging the predictions data with test data\n",
        "merge_data1=predict_XGBOOST_data.merge(test_data, how='left', left_on = 'id', right_on= 'id')"
      ],
      "execution_count": null,
      "outputs": []
    },
    {
      "cell_type": "code",
      "metadata": {
        "colab_type": "code",
        "id": "xRoJoylZbHxq",
        "colab": {
          "base_uri": "https://localhost:8080/",
          "height": 173
        },
        "outputId": "180facba-7560-45bc-cb4d-dbe1f8599358"
      },
      "source": [
        "merge_data1.head(4)"
      ],
      "execution_count": null,
      "outputs": [
        {
          "output_type": "execute_result",
          "data": {
            "text/html": [
              "<div>\n",
              "<style scoped>\n",
              "    .dataframe tbody tr th:only-of-type {\n",
              "        vertical-align: middle;\n",
              "    }\n",
              "\n",
              "    .dataframe tbody tr th {\n",
              "        vertical-align: top;\n",
              "    }\n",
              "\n",
              "    .dataframe thead th {\n",
              "        text-align: right;\n",
              "    }\n",
              "</style>\n",
              "<table border=\"1\" class=\"dataframe\">\n",
              "  <thead>\n",
              "    <tr style=\"text-align: right;\">\n",
              "      <th></th>\n",
              "      <th>id</th>\n",
              "      <th>unit_sales</th>\n",
              "      <th>date</th>\n",
              "      <th>locationId</th>\n",
              "      <th>item_id</th>\n",
              "      <th>onpromotion</th>\n",
              "    </tr>\n",
              "  </thead>\n",
              "  <tbody>\n",
              "    <tr>\n",
              "      <th>0</th>\n",
              "      <td>0</td>\n",
              "      <td>1.085583</td>\n",
              "      <td>2019-01-01</td>\n",
              "      <td>location_25</td>\n",
              "      <td>item_99197</td>\n",
              "      <td>False</td>\n",
              "    </tr>\n",
              "    <tr>\n",
              "      <th>1</th>\n",
              "      <td>1</td>\n",
              "      <td>1.085583</td>\n",
              "      <td>2019-01-01</td>\n",
              "      <td>location_25</td>\n",
              "      <td>item_103665</td>\n",
              "      <td>False</td>\n",
              "    </tr>\n",
              "    <tr>\n",
              "      <th>2</th>\n",
              "      <td>2</td>\n",
              "      <td>1.085583</td>\n",
              "      <td>2019-01-01</td>\n",
              "      <td>location_25</td>\n",
              "      <td>item_105574</td>\n",
              "      <td>False</td>\n",
              "    </tr>\n",
              "    <tr>\n",
              "      <th>3</th>\n",
              "      <td>3</td>\n",
              "      <td>1.085583</td>\n",
              "      <td>2019-01-01</td>\n",
              "      <td>location_25</td>\n",
              "      <td>item_105857</td>\n",
              "      <td>False</td>\n",
              "    </tr>\n",
              "  </tbody>\n",
              "</table>\n",
              "</div>"
            ],
            "text/plain": [
              "   id  unit_sales        date   locationId      item_id  onpromotion\n",
              "0   0    1.085583  2019-01-01  location_25   item_99197        False\n",
              "1   1    1.085583  2019-01-01  location_25  item_103665        False\n",
              "2   2    1.085583  2019-01-01  location_25  item_105574        False\n",
              "3   3    1.085583  2019-01-01  location_25  item_105857        False"
            ]
          },
          "metadata": {
            "tags": []
          },
          "execution_count": 24
        }
      ]
    },
    {
      "cell_type": "code",
      "metadata": {
        "colab_type": "code",
        "id": "gCjoC-q-bUz6",
        "colab": {
          "base_uri": "https://localhost:8080/",
          "height": 34
        },
        "outputId": "be09f6d7-b11f-419f-ada2-79e193fab8e4"
      },
      "source": [
        "merge_data1.shape"
      ],
      "execution_count": null,
      "outputs": [
        {
          "output_type": "execute_result",
          "data": {
            "text/plain": [
              "(1482295, 6)"
            ]
          },
          "metadata": {
            "tags": []
          },
          "execution_count": 25
        }
      ]
    },
    {
      "cell_type": "code",
      "metadata": {
        "colab_type": "code",
        "id": "RRVL8RCJba2g",
        "colab": {}
      },
      "source": [
        "###Loading the items_details data\n",
        "item_details_data = pd.read_csv('item_details.csv',header='infer',sep=',')"
      ],
      "execution_count": null,
      "outputs": []
    },
    {
      "cell_type": "code",
      "metadata": {
        "colab_type": "code",
        "id": "qM_omGr8binx",
        "colab": {
          "base_uri": "https://localhost:8080/",
          "height": 173
        },
        "outputId": "ded312d8-b35f-4ac7-e595-c74bb080c630"
      },
      "source": [
        "item_details_data.head(4)"
      ],
      "execution_count": null,
      "outputs": [
        {
          "output_type": "execute_result",
          "data": {
            "text/html": [
              "<div>\n",
              "<style scoped>\n",
              "    .dataframe tbody tr th:only-of-type {\n",
              "        vertical-align: middle;\n",
              "    }\n",
              "\n",
              "    .dataframe tbody tr th {\n",
              "        vertical-align: top;\n",
              "    }\n",
              "\n",
              "    .dataframe thead th {\n",
              "        text-align: right;\n",
              "    }\n",
              "</style>\n",
              "<table border=\"1\" class=\"dataframe\">\n",
              "  <thead>\n",
              "    <tr style=\"text-align: right;\">\n",
              "      <th></th>\n",
              "      <th>item_id</th>\n",
              "      <th>category_of_item</th>\n",
              "      <th>class</th>\n",
              "      <th>perishable</th>\n",
              "    </tr>\n",
              "  </thead>\n",
              "  <tbody>\n",
              "    <tr>\n",
              "      <th>0</th>\n",
              "      <td>item_96995</td>\n",
              "      <td>grocery_items</td>\n",
              "      <td>class_1093</td>\n",
              "      <td>0</td>\n",
              "    </tr>\n",
              "    <tr>\n",
              "      <th>1</th>\n",
              "      <td>item_99197</td>\n",
              "      <td>grocery_items</td>\n",
              "      <td>class_1067</td>\n",
              "      <td>0</td>\n",
              "    </tr>\n",
              "    <tr>\n",
              "      <th>2</th>\n",
              "      <td>item_103501</td>\n",
              "      <td>cleaning_utilities</td>\n",
              "      <td>class_3008</td>\n",
              "      <td>0</td>\n",
              "    </tr>\n",
              "    <tr>\n",
              "      <th>3</th>\n",
              "      <td>item_103520</td>\n",
              "      <td>grocery_items</td>\n",
              "      <td>class_1028</td>\n",
              "      <td>0</td>\n",
              "    </tr>\n",
              "  </tbody>\n",
              "</table>\n",
              "</div>"
            ],
            "text/plain": [
              "       item_id    category_of_item       class  perishable\n",
              "0   item_96995       grocery_items  class_1093           0\n",
              "1   item_99197       grocery_items  class_1067           0\n",
              "2  item_103501  cleaning_utilities  class_3008           0\n",
              "3  item_103520       grocery_items  class_1028           0"
            ]
          },
          "metadata": {
            "tags": []
          },
          "execution_count": 27
        }
      ]
    },
    {
      "cell_type": "code",
      "metadata": {
        "colab_type": "code",
        "id": "Rng2kpfGbr7_",
        "colab": {
          "base_uri": "https://localhost:8080/",
          "height": 34
        },
        "outputId": "c8971aed-b7ba-451d-aec9-b8da382fe4fc"
      },
      "source": [
        "item_details_data.shape"
      ],
      "execution_count": null,
      "outputs": [
        {
          "output_type": "execute_result",
          "data": {
            "text/plain": [
              "(4100, 4)"
            ]
          },
          "metadata": {
            "tags": []
          },
          "execution_count": 28
        }
      ]
    },
    {
      "cell_type": "code",
      "metadata": {
        "colab_type": "code",
        "id": "sdERYUL3bv1F",
        "colab": {}
      },
      "source": [
        "###Loading the locations_details data\n",
        "location_details_data = pd.read_csv('location_details.csv',header='infer',sep=',')"
      ],
      "execution_count": null,
      "outputs": []
    },
    {
      "cell_type": "code",
      "metadata": {
        "colab_type": "code",
        "id": "OAQ8Vkaeb34A",
        "colab": {
          "base_uri": "https://localhost:8080/",
          "height": 173
        },
        "outputId": "94a06581-214f-409d-8c33-5e581a14d555"
      },
      "source": [
        "location_details_data.head(4)"
      ],
      "execution_count": null,
      "outputs": [
        {
          "output_type": "execute_result",
          "data": {
            "text/html": [
              "<div>\n",
              "<style scoped>\n",
              "    .dataframe tbody tr th:only-of-type {\n",
              "        vertical-align: middle;\n",
              "    }\n",
              "\n",
              "    .dataframe tbody tr th {\n",
              "        vertical-align: top;\n",
              "    }\n",
              "\n",
              "    .dataframe thead th {\n",
              "        text-align: right;\n",
              "    }\n",
              "</style>\n",
              "<table border=\"1\" class=\"dataframe\">\n",
              "  <thead>\n",
              "    <tr style=\"text-align: right;\">\n",
              "      <th></th>\n",
              "      <th>location_id</th>\n",
              "      <th>city</th>\n",
              "      <th>state</th>\n",
              "      <th>type</th>\n",
              "      <th>cluster</th>\n",
              "    </tr>\n",
              "  </thead>\n",
              "  <tbody>\n",
              "    <tr>\n",
              "      <th>0</th>\n",
              "      <td>location_1</td>\n",
              "      <td>Bengaluru</td>\n",
              "      <td>Karnataka</td>\n",
              "      <td>D</td>\n",
              "      <td>13</td>\n",
              "    </tr>\n",
              "    <tr>\n",
              "      <th>1</th>\n",
              "      <td>location_2</td>\n",
              "      <td>Bengaluru</td>\n",
              "      <td>Karnataka</td>\n",
              "      <td>D</td>\n",
              "      <td>13</td>\n",
              "    </tr>\n",
              "    <tr>\n",
              "      <th>2</th>\n",
              "      <td>location_3</td>\n",
              "      <td>Bengaluru</td>\n",
              "      <td>Karnataka</td>\n",
              "      <td>D</td>\n",
              "      <td>8</td>\n",
              "    </tr>\n",
              "    <tr>\n",
              "      <th>3</th>\n",
              "      <td>location_4</td>\n",
              "      <td>Bengaluru</td>\n",
              "      <td>Karnataka</td>\n",
              "      <td>D</td>\n",
              "      <td>9</td>\n",
              "    </tr>\n",
              "  </tbody>\n",
              "</table>\n",
              "</div>"
            ],
            "text/plain": [
              "  location_id       city      state type  cluster\n",
              "0  location_1  Bengaluru  Karnataka    D       13\n",
              "1  location_2  Bengaluru  Karnataka    D       13\n",
              "2  location_3  Bengaluru  Karnataka    D        8\n",
              "3  location_4  Bengaluru  Karnataka    D        9"
            ]
          },
          "metadata": {
            "tags": []
          },
          "execution_count": 30
        }
      ]
    },
    {
      "cell_type": "code",
      "metadata": {
        "colab_type": "code",
        "id": "2KXpfb04b8Oh",
        "colab": {
          "base_uri": "https://localhost:8080/",
          "height": 34
        },
        "outputId": "7ed4993d-bbc8-472e-d4a6-40fe39537f59"
      },
      "source": [
        "location_details_data.shape"
      ],
      "execution_count": null,
      "outputs": [
        {
          "output_type": "execute_result",
          "data": {
            "text/plain": [
              "(54, 5)"
            ]
          },
          "metadata": {
            "tags": []
          },
          "execution_count": 32
        }
      ]
    },
    {
      "cell_type": "code",
      "metadata": {
        "colab_type": "code",
        "id": "C1J4salucAQC",
        "colab": {}
      },
      "source": [
        "### merging merge_data1 with location data\n",
        "merge_data2=merge_data1.merge(location_details_data, how='left', left_on = 'locationId', right_on= 'location_id')"
      ],
      "execution_count": null,
      "outputs": []
    },
    {
      "cell_type": "code",
      "metadata": {
        "colab_type": "code",
        "id": "pmlBkzz4cSe1",
        "colab": {
          "base_uri": "https://localhost:8080/",
          "height": 173
        },
        "outputId": "d15710fa-25f4-4866-e12a-370e8a7447e7"
      },
      "source": [
        "merge_data2.head(4)"
      ],
      "execution_count": null,
      "outputs": [
        {
          "output_type": "execute_result",
          "data": {
            "text/html": [
              "<div>\n",
              "<style scoped>\n",
              "    .dataframe tbody tr th:only-of-type {\n",
              "        vertical-align: middle;\n",
              "    }\n",
              "\n",
              "    .dataframe tbody tr th {\n",
              "        vertical-align: top;\n",
              "    }\n",
              "\n",
              "    .dataframe thead th {\n",
              "        text-align: right;\n",
              "    }\n",
              "</style>\n",
              "<table border=\"1\" class=\"dataframe\">\n",
              "  <thead>\n",
              "    <tr style=\"text-align: right;\">\n",
              "      <th></th>\n",
              "      <th>id</th>\n",
              "      <th>unit_sales</th>\n",
              "      <th>date</th>\n",
              "      <th>locationId</th>\n",
              "      <th>item_id</th>\n",
              "      <th>onpromotion</th>\n",
              "      <th>location_id</th>\n",
              "      <th>city</th>\n",
              "      <th>state</th>\n",
              "      <th>type</th>\n",
              "      <th>cluster</th>\n",
              "    </tr>\n",
              "  </thead>\n",
              "  <tbody>\n",
              "    <tr>\n",
              "      <th>0</th>\n",
              "      <td>0</td>\n",
              "      <td>1.085583</td>\n",
              "      <td>2019-01-01</td>\n",
              "      <td>location_25</td>\n",
              "      <td>item_99197</td>\n",
              "      <td>False</td>\n",
              "      <td>location_25</td>\n",
              "      <td>Kanpur</td>\n",
              "      <td>Uttar Pradesh</td>\n",
              "      <td>D</td>\n",
              "      <td>1</td>\n",
              "    </tr>\n",
              "    <tr>\n",
              "      <th>1</th>\n",
              "      <td>1</td>\n",
              "      <td>1.085583</td>\n",
              "      <td>2019-01-01</td>\n",
              "      <td>location_25</td>\n",
              "      <td>item_103665</td>\n",
              "      <td>False</td>\n",
              "      <td>location_25</td>\n",
              "      <td>Kanpur</td>\n",
              "      <td>Uttar Pradesh</td>\n",
              "      <td>D</td>\n",
              "      <td>1</td>\n",
              "    </tr>\n",
              "    <tr>\n",
              "      <th>2</th>\n",
              "      <td>2</td>\n",
              "      <td>1.085583</td>\n",
              "      <td>2019-01-01</td>\n",
              "      <td>location_25</td>\n",
              "      <td>item_105574</td>\n",
              "      <td>False</td>\n",
              "      <td>location_25</td>\n",
              "      <td>Kanpur</td>\n",
              "      <td>Uttar Pradesh</td>\n",
              "      <td>D</td>\n",
              "      <td>1</td>\n",
              "    </tr>\n",
              "    <tr>\n",
              "      <th>3</th>\n",
              "      <td>3</td>\n",
              "      <td>1.085583</td>\n",
              "      <td>2019-01-01</td>\n",
              "      <td>location_25</td>\n",
              "      <td>item_105857</td>\n",
              "      <td>False</td>\n",
              "      <td>location_25</td>\n",
              "      <td>Kanpur</td>\n",
              "      <td>Uttar Pradesh</td>\n",
              "      <td>D</td>\n",
              "      <td>1</td>\n",
              "    </tr>\n",
              "  </tbody>\n",
              "</table>\n",
              "</div>"
            ],
            "text/plain": [
              "   id  unit_sales        date   locationId  ...    city          state type cluster\n",
              "0   0    1.085583  2019-01-01  location_25  ...  Kanpur  Uttar Pradesh    D       1\n",
              "1   1    1.085583  2019-01-01  location_25  ...  Kanpur  Uttar Pradesh    D       1\n",
              "2   2    1.085583  2019-01-01  location_25  ...  Kanpur  Uttar Pradesh    D       1\n",
              "3   3    1.085583  2019-01-01  location_25  ...  Kanpur  Uttar Pradesh    D       1\n",
              "\n",
              "[4 rows x 11 columns]"
            ]
          },
          "metadata": {
            "tags": []
          },
          "execution_count": 34
        }
      ]
    },
    {
      "cell_type": "code",
      "metadata": {
        "colab_type": "code",
        "id": "JKyFRHpYcZUw",
        "colab": {
          "base_uri": "https://localhost:8080/",
          "height": 34
        },
        "outputId": "0a19d873-ab16-459c-dc7b-6cd2026bfd4f"
      },
      "source": [
        "merge_data2.shape"
      ],
      "execution_count": null,
      "outputs": [
        {
          "output_type": "execute_result",
          "data": {
            "text/plain": [
              "(1482295, 11)"
            ]
          },
          "metadata": {
            "tags": []
          },
          "execution_count": 35
        }
      ]
    },
    {
      "cell_type": "code",
      "metadata": {
        "colab_type": "code",
        "id": "WZTXrjXIcnYP",
        "colab": {
          "base_uri": "https://localhost:8080/",
          "height": 34
        },
        "outputId": "c7e0c16a-28a4-4dbb-fa7f-73d9acbbc0fc"
      },
      "source": [
        "merge_data2.shape"
      ],
      "execution_count": null,
      "outputs": [
        {
          "output_type": "execute_result",
          "data": {
            "text/plain": [
              "(1482295, 11)"
            ]
          },
          "metadata": {
            "tags": []
          },
          "execution_count": 36
        }
      ]
    },
    {
      "cell_type": "code",
      "metadata": {
        "colab_type": "code",
        "id": "wUaqsftdcqnY",
        "colab": {}
      },
      "source": [
        "###merging merge_data2 with item_details_data\n",
        "merge_data3=merge_data2.merge(item_details_data, how='left', left_on = 'item_id', right_on= 'item_id')"
      ],
      "execution_count": null,
      "outputs": []
    },
    {
      "cell_type": "code",
      "metadata": {
        "colab_type": "code",
        "id": "ItYpxVCHdH-C",
        "colab": {
          "base_uri": "https://localhost:8080/",
          "height": 34
        },
        "outputId": "6608a5a6-1cfd-4d85-afd9-8a744be2b667"
      },
      "source": [
        "merge_data3.shape"
      ],
      "execution_count": null,
      "outputs": [
        {
          "output_type": "execute_result",
          "data": {
            "text/plain": [
              "(1482295, 14)"
            ]
          },
          "metadata": {
            "tags": []
          },
          "execution_count": 38
        }
      ]
    },
    {
      "cell_type": "code",
      "metadata": {
        "colab_type": "code",
        "id": "VwIcZp7_dLS2",
        "colab": {
          "base_uri": "https://localhost:8080/",
          "height": 241
        },
        "outputId": "f672eb76-e35a-4347-f8c2-4f6cb3d87178"
      },
      "source": [
        "merge_data3.head(4)"
      ],
      "execution_count": null,
      "outputs": [
        {
          "output_type": "execute_result",
          "data": {
            "text/html": [
              "<div>\n",
              "<style scoped>\n",
              "    .dataframe tbody tr th:only-of-type {\n",
              "        vertical-align: middle;\n",
              "    }\n",
              "\n",
              "    .dataframe tbody tr th {\n",
              "        vertical-align: top;\n",
              "    }\n",
              "\n",
              "    .dataframe thead th {\n",
              "        text-align: right;\n",
              "    }\n",
              "</style>\n",
              "<table border=\"1\" class=\"dataframe\">\n",
              "  <thead>\n",
              "    <tr style=\"text-align: right;\">\n",
              "      <th></th>\n",
              "      <th>id</th>\n",
              "      <th>unit_sales</th>\n",
              "      <th>date</th>\n",
              "      <th>locationId</th>\n",
              "      <th>item_id</th>\n",
              "      <th>onpromotion</th>\n",
              "      <th>location_id</th>\n",
              "      <th>city</th>\n",
              "      <th>state</th>\n",
              "      <th>type</th>\n",
              "      <th>cluster</th>\n",
              "      <th>category_of_item</th>\n",
              "      <th>class</th>\n",
              "      <th>perishable</th>\n",
              "    </tr>\n",
              "  </thead>\n",
              "  <tbody>\n",
              "    <tr>\n",
              "      <th>0</th>\n",
              "      <td>0</td>\n",
              "      <td>1.085583</td>\n",
              "      <td>2019-01-01</td>\n",
              "      <td>location_25</td>\n",
              "      <td>item_99197</td>\n",
              "      <td>False</td>\n",
              "      <td>location_25</td>\n",
              "      <td>Kanpur</td>\n",
              "      <td>Uttar Pradesh</td>\n",
              "      <td>D</td>\n",
              "      <td>1</td>\n",
              "      <td>grocery_items</td>\n",
              "      <td>class_1067</td>\n",
              "      <td>0</td>\n",
              "    </tr>\n",
              "    <tr>\n",
              "      <th>1</th>\n",
              "      <td>1</td>\n",
              "      <td>1.085583</td>\n",
              "      <td>2019-01-01</td>\n",
              "      <td>location_25</td>\n",
              "      <td>item_103665</td>\n",
              "      <td>False</td>\n",
              "      <td>location_25</td>\n",
              "      <td>Kanpur</td>\n",
              "      <td>Uttar Pradesh</td>\n",
              "      <td>D</td>\n",
              "      <td>1</td>\n",
              "      <td>baked_items / bread_based</td>\n",
              "      <td>class_2712</td>\n",
              "      <td>1</td>\n",
              "    </tr>\n",
              "    <tr>\n",
              "      <th>2</th>\n",
              "      <td>2</td>\n",
              "      <td>1.085583</td>\n",
              "      <td>2019-01-01</td>\n",
              "      <td>location_25</td>\n",
              "      <td>item_105574</td>\n",
              "      <td>False</td>\n",
              "      <td>location_25</td>\n",
              "      <td>Kanpur</td>\n",
              "      <td>Uttar Pradesh</td>\n",
              "      <td>D</td>\n",
              "      <td>1</td>\n",
              "      <td>grocery_items</td>\n",
              "      <td>class_1045</td>\n",
              "      <td>0</td>\n",
              "    </tr>\n",
              "    <tr>\n",
              "      <th>3</th>\n",
              "      <td>3</td>\n",
              "      <td>1.085583</td>\n",
              "      <td>2019-01-01</td>\n",
              "      <td>location_25</td>\n",
              "      <td>item_105857</td>\n",
              "      <td>False</td>\n",
              "      <td>location_25</td>\n",
              "      <td>Kanpur</td>\n",
              "      <td>Uttar Pradesh</td>\n",
              "      <td>D</td>\n",
              "      <td>1</td>\n",
              "      <td>grocery_items</td>\n",
              "      <td>class_1092</td>\n",
              "      <td>0</td>\n",
              "    </tr>\n",
              "  </tbody>\n",
              "</table>\n",
              "</div>"
            ],
            "text/plain": [
              "   id  unit_sales  ...       class perishable\n",
              "0   0    1.085583  ...  class_1067          0\n",
              "1   1    1.085583  ...  class_2712          1\n",
              "2   2    1.085583  ...  class_1045          0\n",
              "3   3    1.085583  ...  class_1092          0\n",
              "\n",
              "[4 rows x 14 columns]"
            ]
          },
          "metadata": {
            "tags": []
          },
          "execution_count": 39
        }
      ]
    },
    {
      "cell_type": "code",
      "metadata": {
        "colab_type": "code",
        "id": "VZmuPkqOdS4g",
        "colab": {}
      },
      "source": [
        "##drop duplicate columns\n",
        "merge_data3.drop(['location_id'],axis=1,inplace=True)"
      ],
      "execution_count": null,
      "outputs": []
    },
    {
      "cell_type": "code",
      "metadata": {
        "colab_type": "code",
        "id": "3ZMQy2rndftI",
        "colab": {
          "base_uri": "https://localhost:8080/",
          "height": 173
        },
        "outputId": "76c42f00-15d3-4fd1-a3db-ca8e47fc096e"
      },
      "source": [
        "merge_data3.head(4)"
      ],
      "execution_count": null,
      "outputs": [
        {
          "output_type": "execute_result",
          "data": {
            "text/html": [
              "<div>\n",
              "<style scoped>\n",
              "    .dataframe tbody tr th:only-of-type {\n",
              "        vertical-align: middle;\n",
              "    }\n",
              "\n",
              "    .dataframe tbody tr th {\n",
              "        vertical-align: top;\n",
              "    }\n",
              "\n",
              "    .dataframe thead th {\n",
              "        text-align: right;\n",
              "    }\n",
              "</style>\n",
              "<table border=\"1\" class=\"dataframe\">\n",
              "  <thead>\n",
              "    <tr style=\"text-align: right;\">\n",
              "      <th></th>\n",
              "      <th>id</th>\n",
              "      <th>unit_sales</th>\n",
              "      <th>date</th>\n",
              "      <th>locationId</th>\n",
              "      <th>item_id</th>\n",
              "      <th>onpromotion</th>\n",
              "      <th>city</th>\n",
              "      <th>state</th>\n",
              "      <th>type</th>\n",
              "      <th>cluster</th>\n",
              "      <th>category_of_item</th>\n",
              "      <th>class</th>\n",
              "      <th>perishable</th>\n",
              "    </tr>\n",
              "  </thead>\n",
              "  <tbody>\n",
              "    <tr>\n",
              "      <th>0</th>\n",
              "      <td>0</td>\n",
              "      <td>1.085583</td>\n",
              "      <td>2019-01-01</td>\n",
              "      <td>location_25</td>\n",
              "      <td>item_99197</td>\n",
              "      <td>False</td>\n",
              "      <td>Kanpur</td>\n",
              "      <td>Uttar Pradesh</td>\n",
              "      <td>D</td>\n",
              "      <td>1</td>\n",
              "      <td>grocery_items</td>\n",
              "      <td>class_1067</td>\n",
              "      <td>0</td>\n",
              "    </tr>\n",
              "    <tr>\n",
              "      <th>1</th>\n",
              "      <td>1</td>\n",
              "      <td>1.085583</td>\n",
              "      <td>2019-01-01</td>\n",
              "      <td>location_25</td>\n",
              "      <td>item_103665</td>\n",
              "      <td>False</td>\n",
              "      <td>Kanpur</td>\n",
              "      <td>Uttar Pradesh</td>\n",
              "      <td>D</td>\n",
              "      <td>1</td>\n",
              "      <td>baked_items / bread_based</td>\n",
              "      <td>class_2712</td>\n",
              "      <td>1</td>\n",
              "    </tr>\n",
              "    <tr>\n",
              "      <th>2</th>\n",
              "      <td>2</td>\n",
              "      <td>1.085583</td>\n",
              "      <td>2019-01-01</td>\n",
              "      <td>location_25</td>\n",
              "      <td>item_105574</td>\n",
              "      <td>False</td>\n",
              "      <td>Kanpur</td>\n",
              "      <td>Uttar Pradesh</td>\n",
              "      <td>D</td>\n",
              "      <td>1</td>\n",
              "      <td>grocery_items</td>\n",
              "      <td>class_1045</td>\n",
              "      <td>0</td>\n",
              "    </tr>\n",
              "    <tr>\n",
              "      <th>3</th>\n",
              "      <td>3</td>\n",
              "      <td>1.085583</td>\n",
              "      <td>2019-01-01</td>\n",
              "      <td>location_25</td>\n",
              "      <td>item_105857</td>\n",
              "      <td>False</td>\n",
              "      <td>Kanpur</td>\n",
              "      <td>Uttar Pradesh</td>\n",
              "      <td>D</td>\n",
              "      <td>1</td>\n",
              "      <td>grocery_items</td>\n",
              "      <td>class_1092</td>\n",
              "      <td>0</td>\n",
              "    </tr>\n",
              "  </tbody>\n",
              "</table>\n",
              "</div>"
            ],
            "text/plain": [
              "   id  unit_sales  ...       class perishable\n",
              "0   0    1.085583  ...  class_1067          0\n",
              "1   1    1.085583  ...  class_2712          1\n",
              "2   2    1.085583  ...  class_1045          0\n",
              "3   3    1.085583  ...  class_1092          0\n",
              "\n",
              "[4 rows x 13 columns]"
            ]
          },
          "metadata": {
            "tags": []
          },
          "execution_count": 41
        }
      ]
    },
    {
      "cell_type": "code",
      "metadata": {
        "colab_type": "code",
        "id": "qWc0bMaZdiyc",
        "colab": {
          "base_uri": "https://localhost:8080/",
          "height": 255
        },
        "outputId": "9a535039-0ed8-4bdd-9ad3-25d80980c318"
      },
      "source": [
        "merge_data3.isna().sum()"
      ],
      "execution_count": null,
      "outputs": [
        {
          "output_type": "execute_result",
          "data": {
            "text/plain": [
              "id                  0\n",
              "unit_sales          0\n",
              "date                0\n",
              "locationId          0\n",
              "item_id             0\n",
              "onpromotion         0\n",
              "city                0\n",
              "state               0\n",
              "type                0\n",
              "cluster             0\n",
              "category_of_item    0\n",
              "class               0\n",
              "perishable          0\n",
              "dtype: int64"
            ]
          },
          "metadata": {
            "tags": []
          },
          "execution_count": 42
        }
      ]
    },
    {
      "cell_type": "markdown",
      "metadata": {
        "colab_type": "text",
        "id": "K7fy9Ym_dvQQ"
      },
      "source": [
        "#1. Business Unit belonging to which cluster will see the highest sales for the first 15 days of 2019?"
      ]
    },
    {
      "cell_type": "code",
      "metadata": {
        "colab_type": "code",
        "id": "aIdSGCQ8d6KX",
        "colab": {}
      },
      "source": [
        "## number of sales per type, cluster\n",
        "agg_cluster=merge_data3.groupby(['type','cluster']).agg({\n",
        "    'unit_sales' : 'sum' })"
      ],
      "execution_count": null,
      "outputs": []
    },
    {
      "cell_type": "code",
      "metadata": {
        "colab_type": "code",
        "id": "8F6hSeSkeKCV",
        "colab": {}
      },
      "source": [
        "###reset index for agg_cluster\n",
        "agg_cluster.reset_index(inplace=True)"
      ],
      "execution_count": null,
      "outputs": []
    },
    {
      "cell_type": "code",
      "metadata": {
        "colab_type": "code",
        "id": "socv-UMqeOI0",
        "colab": {
          "base_uri": "https://localhost:8080/",
          "height": 173
        },
        "outputId": "f2703cee-f17f-4f4e-93ec-d7aeb75fb10e"
      },
      "source": [
        "agg_cluster.head(4)"
      ],
      "execution_count": null,
      "outputs": [
        {
          "output_type": "execute_result",
          "data": {
            "text/html": [
              "<div>\n",
              "<style scoped>\n",
              "    .dataframe tbody tr th:only-of-type {\n",
              "        vertical-align: middle;\n",
              "    }\n",
              "\n",
              "    .dataframe tbody tr th {\n",
              "        vertical-align: top;\n",
              "    }\n",
              "\n",
              "    .dataframe thead th {\n",
              "        text-align: right;\n",
              "    }\n",
              "</style>\n",
              "<table border=\"1\" class=\"dataframe\">\n",
              "  <thead>\n",
              "    <tr style=\"text-align: right;\">\n",
              "      <th></th>\n",
              "      <th>type</th>\n",
              "      <th>cluster</th>\n",
              "      <th>unit_sales</th>\n",
              "    </tr>\n",
              "  </thead>\n",
              "  <tbody>\n",
              "    <tr>\n",
              "      <th>0</th>\n",
              "      <td>A</td>\n",
              "      <td>5</td>\n",
              "      <td>72984.200631</td>\n",
              "    </tr>\n",
              "    <tr>\n",
              "      <th>1</th>\n",
              "      <td>A</td>\n",
              "      <td>11</td>\n",
              "      <td>142483.453446</td>\n",
              "    </tr>\n",
              "    <tr>\n",
              "      <th>2</th>\n",
              "      <td>A</td>\n",
              "      <td>14</td>\n",
              "      <td>255053.254188</td>\n",
              "    </tr>\n",
              "    <tr>\n",
              "      <th>3</th>\n",
              "      <td>A</td>\n",
              "      <td>17</td>\n",
              "      <td>45140.478442</td>\n",
              "    </tr>\n",
              "  </tbody>\n",
              "</table>\n",
              "</div>"
            ],
            "text/plain": [
              "  type  cluster     unit_sales\n",
              "0    A        5   72984.200631\n",
              "1    A       11  142483.453446\n",
              "2    A       14  255053.254188\n",
              "3    A       17   45140.478442"
            ]
          },
          "metadata": {
            "tags": []
          },
          "execution_count": 46
        }
      ]
    },
    {
      "cell_type": "code",
      "metadata": {
        "colab_type": "code",
        "id": "UdnTMuDoeVxz",
        "colab": {}
      },
      "source": [
        "## sort the agg_cluster based on unit_sales values\n",
        "Highest_sales = agg_cluster.sort_values(by=['unit_sales'],ascending=False)"
      ],
      "execution_count": null,
      "outputs": []
    },
    {
      "cell_type": "code",
      "metadata": {
        "colab_type": "code",
        "id": "YfHdmwTqegYs",
        "colab": {
          "base_uri": "https://localhost:8080/",
          "height": 204
        },
        "outputId": "072843a5-119d-49c6-af54-aad183c8018b"
      },
      "source": [
        "Highest_sales.head(5)"
      ],
      "execution_count": null,
      "outputs": [
        {
          "output_type": "execute_result",
          "data": {
            "text/html": [
              "<div>\n",
              "<style scoped>\n",
              "    .dataframe tbody tr th:only-of-type {\n",
              "        vertical-align: middle;\n",
              "    }\n",
              "\n",
              "    .dataframe tbody tr th {\n",
              "        vertical-align: top;\n",
              "    }\n",
              "\n",
              "    .dataframe thead th {\n",
              "        text-align: right;\n",
              "    }\n",
              "</style>\n",
              "<table border=\"1\" class=\"dataframe\">\n",
              "  <thead>\n",
              "    <tr style=\"text-align: right;\">\n",
              "      <th></th>\n",
              "      <th>type</th>\n",
              "      <th>cluster</th>\n",
              "      <th>unit_sales</th>\n",
              "    </tr>\n",
              "  </thead>\n",
              "  <tbody>\n",
              "    <tr>\n",
              "      <th>2</th>\n",
              "      <td>A</td>\n",
              "      <td>14</td>\n",
              "      <td>255053.254188</td>\n",
              "    </tr>\n",
              "    <tr>\n",
              "      <th>4</th>\n",
              "      <td>B</td>\n",
              "      <td>6</td>\n",
              "      <td>198315.982751</td>\n",
              "    </tr>\n",
              "    <tr>\n",
              "      <th>7</th>\n",
              "      <td>C</td>\n",
              "      <td>3</td>\n",
              "      <td>153455.851149</td>\n",
              "    </tr>\n",
              "    <tr>\n",
              "      <th>17</th>\n",
              "      <td>D</td>\n",
              "      <td>13</td>\n",
              "      <td>145432.568451</td>\n",
              "    </tr>\n",
              "    <tr>\n",
              "      <th>1</th>\n",
              "      <td>A</td>\n",
              "      <td>11</td>\n",
              "      <td>142483.453446</td>\n",
              "    </tr>\n",
              "  </tbody>\n",
              "</table>\n",
              "</div>"
            ],
            "text/plain": [
              "   type  cluster     unit_sales\n",
              "2     A       14  255053.254188\n",
              "4     B        6  198315.982751\n",
              "7     C        3  153455.851149\n",
              "17    D       13  145432.568451\n",
              "1     A       11  142483.453446"
            ]
          },
          "metadata": {
            "tags": []
          },
          "execution_count": 49
        }
      ]
    },
    {
      "cell_type": "code",
      "metadata": {
        "colab_type": "code",
        "id": "Ia1eCoL_qkhE",
        "colab": {
          "base_uri": "https://localhost:8080/",
          "height": 80
        },
        "outputId": "caa56571-987e-44f0-ace0-d09d141c8c03"
      },
      "source": [
        "Highest_sales[Highest_sales['type']=='E']"
      ],
      "execution_count": null,
      "outputs": [
        {
          "output_type": "execute_result",
          "data": {
            "text/html": [
              "<div>\n",
              "<style scoped>\n",
              "    .dataframe tbody tr th:only-of-type {\n",
              "        vertical-align: middle;\n",
              "    }\n",
              "\n",
              "    .dataframe tbody tr th {\n",
              "        vertical-align: top;\n",
              "    }\n",
              "\n",
              "    .dataframe thead th {\n",
              "        text-align: right;\n",
              "    }\n",
              "</style>\n",
              "<table border=\"1\" class=\"dataframe\">\n",
              "  <thead>\n",
              "    <tr style=\"text-align: right;\">\n",
              "      <th></th>\n",
              "      <th>type</th>\n",
              "      <th>cluster</th>\n",
              "      <th>unit_sales</th>\n",
              "    </tr>\n",
              "  </thead>\n",
              "  <tbody>\n",
              "    <tr>\n",
              "      <th>18</th>\n",
              "      <td>E</td>\n",
              "      <td>10</td>\n",
              "      <td>122682.338925</td>\n",
              "    </tr>\n",
              "  </tbody>\n",
              "</table>\n",
              "</div>"
            ],
            "text/plain": [
              "   type  cluster     unit_sales\n",
              "18    E       10  122682.338925"
            ]
          },
          "metadata": {
            "tags": []
          },
          "execution_count": 71
        }
      ]
    },
    {
      "cell_type": "code",
      "metadata": {
        "colab_type": "code",
        "id": "jrspV_CRenmA",
        "colab": {
          "base_uri": "https://localhost:8080/",
          "height": 367
        },
        "outputId": "b069380b-f942-4618-b7fb-d8588a5a8470"
      },
      "source": [
        "##Plot highest sales per type, cluster\n",
        "plt.figure(figsize=(20,5))\n",
        "plt.title('Top Business Unit of a Cluster with Highest Sales')\n",
        "sns.barplot(x=Highest_sales['type'],y='unit_sales', hue = Highest_sales['cluster'] ,data=Highest_sales)"
      ],
      "execution_count": null,
      "outputs": [
        {
          "output_type": "execute_result",
          "data": {
            "text/plain": [
              "<matplotlib.axes._subplots.AxesSubplot at 0x7fdebd0dbb00>"
            ]
          },
          "metadata": {
            "tags": []
          },
          "execution_count": 57
        },
        {
          "output_type": "display_data",
          "data": {
            "image/png": "[encoded data removed]",
            "text/plain": [
              "<Figure size 1440x360 with 1 Axes>"
            ]
          },
          "metadata": {
            "tags": []
          }
        }
      ]
    },
    {
      "cell_type": "code",
      "metadata": {
        "colab_type": "code",
        "id": "RUhjg6v1g5SR",
        "colab": {}
      },
      "source": [
        ""
      ],
      "execution_count": null,
      "outputs": []
    },
    {
      "cell_type": "markdown",
      "metadata": {
        "colab_type": "text",
        "id": "j-dcvuQxiaA7"
      },
      "source": [
        "#2. What are the top selling items in this cluster?"
      ]
    },
    {
      "cell_type": "code",
      "metadata": {
        "colab_type": "code",
        "id": "hzvBxXS4iq3Y",
        "colab": {}
      },
      "source": [
        "Top_clusters=[14,6,3,13,10]"
      ],
      "execution_count": null,
      "outputs": []
    },
    {
      "cell_type": "code",
      "metadata": {
        "colab_type": "code",
        "id": "GI64L30QiyJW",
        "colab": {}
      },
      "source": [
        "### aggregation of unit_sales based on item_id in each cluster\n",
        "agg_item_cluster = merge_data3.groupby(['cluster', 'item_id']).agg({\n",
        "    'unit_sales' : 'sum'})\n",
        "##reset the index\n",
        "agg_item_cluster = agg_item_cluster.reset_index()\n",
        "###creating the empty dataframe\n",
        "agg_item_cluster_top10 = pd.DataFrame()"
      ],
      "execution_count": null,
      "outputs": []
    },
    {
      "cell_type": "code",
      "metadata": {
        "colab_type": "code",
        "id": "nKUsL6JJi92r",
        "colab": {}
      },
      "source": [
        " for i in Top_clusters:\n",
        "    agg_item_cluster_top10 = agg_item_cluster_top10.append(agg_item_cluster[agg_item_cluster['cluster'] == i].nlargest(10, ['unit_sales']))"
      ],
      "execution_count": null,
      "outputs": []
    },
    {
      "cell_type": "code",
      "metadata": {
        "colab_type": "code",
        "id": "1f8S-WMGkpXN",
        "colab": {
          "base_uri": "https://localhost:8080/",
          "height": 530
        },
        "outputId": "ae6b5137-a90a-4355-dc99-c1d3586f327b"
      },
      "source": [
        "## Plotting top Unit_item sales per cluster\n",
        "plt.figure(figsize=(20,8))\n",
        "plt.title('Top Selling items in Custer having Highest Sales')\n",
        "sns.barplot(x='cluster',y='unit_sales', hue = 'item_id' ,data=agg_item_cluster_top10, orient= 'v')"
      ],
      "execution_count": null,
      "outputs": [
        {
          "output_type": "execute_result",
          "data": {
            "text/plain": [
              "<matplotlib.axes._subplots.AxesSubplot at 0x7fdebbd82358>"
            ]
          },
          "metadata": {
            "tags": []
          },
          "execution_count": 75
        },
        {
          "output_type": "display_data",
          "data": {
            "image/png": "[encoded data removed]",
            "text/plain": [
              "<Figure size 1440x576 with 1 Axes>"
            ]
          },
          "metadata": {
            "tags": []
          }
        }
      ]
    },
    {
      "cell_type": "code",
      "metadata": {
        "colab_type": "code",
        "id": "mdff66qtlbjk",
        "colab": {
          "base_uri": "https://localhost:8080/",
          "height": 204
        },
        "outputId": "ecf084b7-762c-497c-82e2-63057fab0a59"
      },
      "source": [
        "agg_item_cluster_top10.head()"
      ],
      "execution_count": null,
      "outputs": [
        {
          "output_type": "execute_result",
          "data": {
            "text/html": [
              "<div>\n",
              "<style scoped>\n",
              "    .dataframe tbody tr th:only-of-type {\n",
              "        vertical-align: middle;\n",
              "    }\n",
              "\n",
              "    .dataframe tbody tr th {\n",
              "        vertical-align: top;\n",
              "    }\n",
              "\n",
              "    .dataframe thead th {\n",
              "        text-align: right;\n",
              "    }\n",
              "</style>\n",
              "<table border=\"1\" class=\"dataframe\">\n",
              "  <thead>\n",
              "    <tr style=\"text-align: right;\">\n",
              "      <th></th>\n",
              "      <th>cluster</th>\n",
              "      <th>item_id</th>\n",
              "      <th>unit_sales</th>\n",
              "    </tr>\n",
              "  </thead>\n",
              "  <tbody>\n",
              "    <tr>\n",
              "      <th>41382</th>\n",
              "      <td>14</td>\n",
              "      <td>item_1463855</td>\n",
              "      <td>121.904546</td>\n",
              "    </tr>\n",
              "    <tr>\n",
              "      <th>41383</th>\n",
              "      <td>14</td>\n",
              "      <td>item_1463857</td>\n",
              "      <td>121.904546</td>\n",
              "    </tr>\n",
              "    <tr>\n",
              "      <th>41386</th>\n",
              "      <td>14</td>\n",
              "      <td>item_1463862</td>\n",
              "      <td>121.904546</td>\n",
              "    </tr>\n",
              "    <tr>\n",
              "      <th>41956</th>\n",
              "      <td>14</td>\n",
              "      <td>item_1930967</td>\n",
              "      <td>121.904546</td>\n",
              "    </tr>\n",
              "    <tr>\n",
              "      <th>42428</th>\n",
              "      <td>14</td>\n",
              "      <td>item_2015820</td>\n",
              "      <td>121.904546</td>\n",
              "    </tr>\n",
              "  </tbody>\n",
              "</table>\n",
              "</div>"
            ],
            "text/plain": [
              "       cluster       item_id  unit_sales\n",
              "41382       14  item_1463855  121.904546\n",
              "41383       14  item_1463857  121.904546\n",
              "41386       14  item_1463862  121.904546\n",
              "41956       14  item_1930967  121.904546\n",
              "42428       14  item_2015820  121.904546"
            ]
          },
          "metadata": {
            "tags": []
          },
          "execution_count": 76
        }
      ]
    },
    {
      "cell_type": "code",
      "metadata": {
        "colab_type": "code",
        "id": "Euguoo6Vl4C0",
        "colab": {}
      },
      "source": [
        ""
      ],
      "execution_count": null,
      "outputs": []
    },
    {
      "cell_type": "markdown",
      "metadata": {
        "colab_type": "text",
        "id": "NzXihOPjl6gU"
      },
      "source": [
        "#3. What is the rate of purchase per week for these items?"
      ]
    },
    {
      "cell_type": "code",
      "metadata": {
        "colab_type": "code",
        "id": "uEZnSkJRmDdp",
        "colab": {}
      },
      "source": [
        "Data=merge_data3.copy()"
      ],
      "execution_count": null,
      "outputs": []
    },
    {
      "cell_type": "code",
      "metadata": {
        "colab_type": "code",
        "id": "_dE2Y9xCrHCM",
        "colab": {
          "base_uri": "https://localhost:8080/",
          "height": 142
        },
        "outputId": "9a9b1223-930b-4b6d-9a28-03f1a198ca48"
      },
      "source": [
        "Data.head(3)"
      ],
      "execution_count": null,
      "outputs": [
        {
          "output_type": "execute_result",
          "data": {
            "text/html": [
              "<div>\n",
              "<style scoped>\n",
              "    .dataframe tbody tr th:only-of-type {\n",
              "        vertical-align: middle;\n",
              "    }\n",
              "\n",
              "    .dataframe tbody tr th {\n",
              "        vertical-align: top;\n",
              "    }\n",
              "\n",
              "    .dataframe thead th {\n",
              "        text-align: right;\n",
              "    }\n",
              "</style>\n",
              "<table border=\"1\" class=\"dataframe\">\n",
              "  <thead>\n",
              "    <tr style=\"text-align: right;\">\n",
              "      <th></th>\n",
              "      <th>id</th>\n",
              "      <th>unit_sales</th>\n",
              "      <th>date</th>\n",
              "      <th>locationId</th>\n",
              "      <th>item_id</th>\n",
              "      <th>onpromotion</th>\n",
              "      <th>city</th>\n",
              "      <th>state</th>\n",
              "      <th>type</th>\n",
              "      <th>cluster</th>\n",
              "      <th>category_of_item</th>\n",
              "      <th>class</th>\n",
              "      <th>perishable</th>\n",
              "    </tr>\n",
              "  </thead>\n",
              "  <tbody>\n",
              "    <tr>\n",
              "      <th>0</th>\n",
              "      <td>0</td>\n",
              "      <td>1.085583</td>\n",
              "      <td>2019-01-01</td>\n",
              "      <td>location_25</td>\n",
              "      <td>item_99197</td>\n",
              "      <td>False</td>\n",
              "      <td>Kanpur</td>\n",
              "      <td>Uttar Pradesh</td>\n",
              "      <td>D</td>\n",
              "      <td>1</td>\n",
              "      <td>grocery_items</td>\n",
              "      <td>class_1067</td>\n",
              "      <td>0</td>\n",
              "    </tr>\n",
              "    <tr>\n",
              "      <th>1</th>\n",
              "      <td>1</td>\n",
              "      <td>1.085583</td>\n",
              "      <td>2019-01-01</td>\n",
              "      <td>location_25</td>\n",
              "      <td>item_103665</td>\n",
              "      <td>False</td>\n",
              "      <td>Kanpur</td>\n",
              "      <td>Uttar Pradesh</td>\n",
              "      <td>D</td>\n",
              "      <td>1</td>\n",
              "      <td>baked_items / bread_based</td>\n",
              "      <td>class_2712</td>\n",
              "      <td>1</td>\n",
              "    </tr>\n",
              "    <tr>\n",
              "      <th>2</th>\n",
              "      <td>2</td>\n",
              "      <td>1.085583</td>\n",
              "      <td>2019-01-01</td>\n",
              "      <td>location_25</td>\n",
              "      <td>item_105574</td>\n",
              "      <td>False</td>\n",
              "      <td>Kanpur</td>\n",
              "      <td>Uttar Pradesh</td>\n",
              "      <td>D</td>\n",
              "      <td>1</td>\n",
              "      <td>grocery_items</td>\n",
              "      <td>class_1045</td>\n",
              "      <td>0</td>\n",
              "    </tr>\n",
              "  </tbody>\n",
              "</table>\n",
              "</div>"
            ],
            "text/plain": [
              "   id  unit_sales  ...       class perishable\n",
              "0   0    1.085583  ...  class_1067          0\n",
              "1   1    1.085583  ...  class_2712          1\n",
              "2   2    1.085583  ...  class_1045          0\n",
              "\n",
              "[3 rows x 13 columns]"
            ]
          },
          "metadata": {
            "tags": []
          },
          "execution_count": 78
        }
      ]
    },
    {
      "cell_type": "code",
      "metadata": {
        "colab_type": "code",
        "id": "6pwfzNGIrJZL",
        "colab": {}
      },
      "source": [
        "###Adding year,month and day features to the test_data\n",
        "Data['date'] = pd.to_datetime(Data['date'], format='%Y.%m.%d')\n",
        "Data['year'] = Data['date'].dt.year\n",
        "Data['month'] = Data['date'].dt.month\n",
        "Data['week'] = Data['date'].dt.week\n",
        "Data['day'] = Data['date'].dt.day"
      ],
      "execution_count": null,
      "outputs": []
    },
    {
      "cell_type": "code",
      "metadata": {
        "colab_type": "code",
        "id": "l37JG8E5rZvI",
        "colab": {
          "base_uri": "https://localhost:8080/",
          "height": 204
        },
        "outputId": "75cc5a2e-86b1-4e70-ee17-3f38be728c11"
      },
      "source": [
        "Data[['year','month','week','day']].head()"
      ],
      "execution_count": null,
      "outputs": [
        {
          "output_type": "execute_result",
          "data": {
            "text/html": [
              "<div>\n",
              "<style scoped>\n",
              "    .dataframe tbody tr th:only-of-type {\n",
              "        vertical-align: middle;\n",
              "    }\n",
              "\n",
              "    .dataframe tbody tr th {\n",
              "        vertical-align: top;\n",
              "    }\n",
              "\n",
              "    .dataframe thead th {\n",
              "        text-align: right;\n",
              "    }\n",
              "</style>\n",
              "<table border=\"1\" class=\"dataframe\">\n",
              "  <thead>\n",
              "    <tr style=\"text-align: right;\">\n",
              "      <th></th>\n",
              "      <th>year</th>\n",
              "      <th>month</th>\n",
              "      <th>week</th>\n",
              "      <th>day</th>\n",
              "    </tr>\n",
              "  </thead>\n",
              "  <tbody>\n",
              "    <tr>\n",
              "      <th>0</th>\n",
              "      <td>2019</td>\n",
              "      <td>1</td>\n",
              "      <td>1</td>\n",
              "      <td>1</td>\n",
              "    </tr>\n",
              "    <tr>\n",
              "      <th>1</th>\n",
              "      <td>2019</td>\n",
              "      <td>1</td>\n",
              "      <td>1</td>\n",
              "      <td>1</td>\n",
              "    </tr>\n",
              "    <tr>\n",
              "      <th>2</th>\n",
              "      <td>2019</td>\n",
              "      <td>1</td>\n",
              "      <td>1</td>\n",
              "      <td>1</td>\n",
              "    </tr>\n",
              "    <tr>\n",
              "      <th>3</th>\n",
              "      <td>2019</td>\n",
              "      <td>1</td>\n",
              "      <td>1</td>\n",
              "      <td>1</td>\n",
              "    </tr>\n",
              "    <tr>\n",
              "      <th>4</th>\n",
              "      <td>2019</td>\n",
              "      <td>1</td>\n",
              "      <td>1</td>\n",
              "      <td>1</td>\n",
              "    </tr>\n",
              "  </tbody>\n",
              "</table>\n",
              "</div>"
            ],
            "text/plain": [
              "   year  month  week  day\n",
              "0  2019      1     1    1\n",
              "1  2019      1     1    1\n",
              "2  2019      1     1    1\n",
              "3  2019      1     1    1\n",
              "4  2019      1     1    1"
            ]
          },
          "metadata": {
            "tags": []
          },
          "execution_count": 80
        }
      ]
    },
    {
      "cell_type": "code",
      "metadata": {
        "colab_type": "code",
        "id": "QjgzZKCtrfgs",
        "colab": {
          "base_uri": "https://localhost:8080/",
          "height": 1000
        },
        "outputId": "4dfa4638-87d5-4930-c39b-60232c87d32c"
      },
      "source": [
        "## plot rate of purchase per week \n",
        "for cluster in Top_clusters:\n",
        "  ## get item list from top 10 clusters\n",
        "    X = agg_item_cluster_top10[agg_item_cluster_top10['cluster']  == cluster]['item_id']\n",
        "    ##create empty dataframe\n",
        "    rx = pd.DataFrame()\n",
        "    for i in X:\n",
        "      if Data['item_id'].eq(i).any():\n",
        "        temp = pd.DataFrame({'rate_of_purchase' : Data[Data['item_id'].eq(i)]['unit_sales'].sum()/4}, index = [i])\n",
        "        rx = pd.concat([rx, temp])\n",
        "    plt.figure(figsize=(20,7))\n",
        "    sns.barplot(x=rx.index,y='rate_of_purchase', data=rx)"
      ],
      "execution_count": null,
      "outputs": [
        {
          "output_type": "display_data",
          "data": {
            "image/png": "[encoded data removed]",
            "text/plain": [
              "<Figure size 1440x504 with 1 Axes>"
            ]
          },
          "metadata": {
            "tags": []
          }
        },
        {
          "output_type": "display_data",
          "data": {
            "image/png": "[encoded data removed]",
            "text/plain": [
              "<Figure size 1440x504 with 1 Axes>"
            ]
          },
          "metadata": {
            "tags": []
          }
        },
        {
          "output_type": "display_data",
          "data": {
            "image/png": "[encoded data removed]",
            "text/plain": [
              "<Figure size 1440x504 with 1 Axes>"
            ]
          },
          "metadata": {
            "tags": []
          }
        },
        {
          "output_type": "display_data",
          "data": {
            "image/png": "[encoded data removed]",
            "text/plain": [
              "<Figure size 1440x504 with 1 Axes>"
            ]
          },
          "metadata": {
            "tags": []
          }
        },
        {
          "output_type": "display_data",
          "data": {
            "image/png": "[encoded data removed]",
            "text/plain": [
              "<Figure size 1440x504 with 1 Axes>"
            ]
          },
          "metadata": {
            "tags": []
          }
        }
      ]
    },
    {
      "cell_type": "code",
      "metadata": {
        "colab_type": "code",
        "id": "atKtrq5_sl8_",
        "colab": {}
      },
      "source": [
        ""
      ],
      "execution_count": null,
      "outputs": []
    },
    {
      "cell_type": "markdown",
      "metadata": {
        "colab_type": "text",
        "id": "wIkYlfMWZUzc"
      },
      "source": [
        "# Summary & Conclusion"
      ]
    },
    {
      "cell_type": "markdown",
      "metadata": {
        "colab_type": "text",
        "id": "5dP1ItSLa8aD"
      },
      "source": [
        "*   The objective of this project is to help a E-commerce based grocery retailer (Small Basket) based in India in effective management of their supply chain and delivery team by accurately predicting the sales during the forecast period (1st-15th Jan 2019).\n",
        "*   Historical Data (2015-2018) of unit sales of the retailer across its various business locations are provided. The inputs are supplied through CSV files\n",
        "     \n",
        "         a. Train.csv\n",
        "         b. Train_transactions.csv.\n",
        "         c. items.csv\n",
        "         d. locations.csv\n",
        "The given problem is converted into machine learning problem by building a model that can help the retailer in predicting its sales during the forecast period (1st Jan-19 - 15th Jan-19). Further the ML model also helps the retailer in predicting their sales for any given period provided the inputs are supplied accordingly to the model for prediction. \n",
        "\n",
        "*   The entire project is carried out in three steps by which buisness insights are drawn to help the retailer for optimum inventory mangement.\n",
        "         A. Data Exploration & Visualization\n",
        "         B. Models Building\n",
        "         C. Validation & Parameter Tuning\n",
        "\n",
        "**A. Data Exploration & Visualization (EDA)**\n",
        "\n",
        " The input data provided contains sales of the retailer across the various locations, items,their categories for different time periods. The input files are merged using Key columns into a single file and further preprocessing steps such as type casting, removing duplicates, and saving into pickle for memrory optimization is done. Various possible plots, which includes, **Bar, Line and scatter** plots are drawn to have a proper understanding of the data before building a model.\n",
        "\n",
        "**B. Model Building**\n",
        "\n",
        "Feature engineering is carried out by extracting the new features such as **month**, **day** and **years** for effective model building. The vanilla Linear Regression is built and coressponding predictions on train and validation and test data are calculated. Their is scope of improving the evaluation metric **MAPE** by building the advanced models such as Decision Tree, XGBoost etc. Accordingly MAPE is calculated for these models. Challenges such as converting categorical columns to numeric is addressed. From the above built models, **XGBOOSt** gave a minimal **MAPE** and hence predictions for unit sales on test data are calculated.\n",
        "\n",
        "\n",
        "**C. Validation and Paramter Tuning**\n",
        "\n",
        "The parameter tuning is carried out on **XGBoost** model by fine tuning the parameters such as n_estimators and learning_rate. Improvement on **MAPE** is not observed when compared to **XGBoost**. Hence, predictions on test data unit sales is carried on Vanila XGBoost and corresponding business recommendations are drawn from the model.\n",
        "\n",
        "**Business Recommendations:**\n",
        "\n",
        "Recommendations such as top selling buisness units across each cluster, the corresponding items and their rate of purchase per week are drawn to help the retailer for effective inventory management during the forecast period.\n",
        "\n"
      ]
    }
  ]
}